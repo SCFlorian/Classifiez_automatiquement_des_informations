{
 "cells": [
  {
   "cell_type": "markdown",
   "metadata": {},
   "source": [
    "# Mission - Classifiez automatiquement des informations"
   ]
  },
  {
   "cell_type": "markdown",
   "metadata": {},
   "source": [
    "Vous êtes mandaté en tant que Consultant Data Scientist par le département RH de votre client. Il s’agit de l'ESN TechNova Partners, spécialisée dans le conseil en transformation digitale et la vente d’applications en SaaS.\n",
    " \n",
    "Ils font face à un turnover plus élevé que d'habitude et ils souhaitent identifier les causes racines potentielles derrière ces démissions."
   ]
  },
  {
   "cell_type": "markdown",
   "metadata": {},
   "source": [
    "### Importation des librairies"
   ]
  },
  {
   "cell_type": "code",
   "execution_count": 1,
   "metadata": {},
   "outputs": [],
   "source": [
    "# Librairies \"classiques\"\n",
    "import pandas as pd\n",
    "import numpy as np\n",
    "import matplotlib.pyplot as plt\n",
    "import seaborn as sns\n",
    "import plotly.express as px\n",
    "import plotly.io as pio\n",
    "from IPython.display import Image, display\n",
    "\n",
    "# Librairies scikit-learn\n",
    "from sklearn.model_selection import (\n",
    "    train_test_split,\n",
    "    GridSearchCV, \n",
    "    cross_validate,\n",
    ")\n",
    "# Preprocess et modèles\n",
    "from sklearn.pipeline import Pipeline\n",
    "from sklearn.model_selection import train_test_split, cross_validate\n",
    "from sklearn.preprocessing import StandardScaler\n",
    "from sklearn.compose import ColumnTransformer\n",
    "from sklearn.pipeline import Pipeline\n",
    "from sklearn.metrics import classification_report, confusion_matrix, ConfusionMatrixDisplay\n",
    "from sklearn.model_selection import StratifiedKFold\n",
    "from sklearn.metrics import average_precision_score, precision_recall_curve, roc_auc_score, auc, f1_score, balanced_accuracy_score\n",
    "\n",
    "from sklearn.dummy import DummyClassifier\n",
    "from sklearn.linear_model import LogisticRegression\n",
    "from sklearn.ensemble import RandomForestClassifier\n",
    "from xgboost import XGBClassifier\n",
    "from catboost import CatBoostClassifier, Pool\n",
    "\n",
    "# Fonctions python créées\n",
    "from utils import prepare_xy\n",
    "from utils import scaler_ou_non"
   ]
  },
  {
   "cell_type": "markdown",
   "metadata": {},
   "source": [
    "### On reprend les éléments du notebook de l'étape 2"
   ]
  },
  {
   "cell_type": "code",
   "execution_count": 2,
   "metadata": {},
   "outputs": [],
   "source": [
    "donnees_modelisation = pd.read_csv(\"../Data/Processed/Projet_4_etape2_clean.csv\")"
   ]
  },
  {
   "cell_type": "markdown",
   "metadata": {},
   "source": [
    "# Partie 5 - Optimisez et interprétez le comportement du modèle"
   ]
  },
  {
   "cell_type": "markdown",
   "metadata": {},
   "source": [
    "### Recommandation 1 - Reprenez les mêmes principes que le projet 3 (si vous suivez ce parcours dans sa totalité) pour le fine-tuning.\n",
    "* Afin de trouver les meilleurs hyperparamètres de notre modèle sélectionné, CatBoost, nous utilisons un GridSearchCV pour les rechercher."
   ]
  },
  {
   "cell_type": "markdown",
   "metadata": {},
   "source": [
    "#### Récupération de notre séparation X et y et de nos features"
   ]
  },
  {
   "cell_type": "code",
   "execution_count": 3,
   "metadata": {},
   "outputs": [],
   "source": [
    "X, y = prepare_xy(donnees_modelisation)\n",
    "features_a_scaler, features_encodees = scaler_ou_non()"
   ]
  },
  {
   "cell_type": "markdown",
   "metadata": {},
   "source": [
    "#### Recherche des hyperparamètres"
   ]
  },
  {
   "cell_type": "code",
   "execution_count": 4,
   "metadata": {},
   "outputs": [
    {
     "name": "stdout",
     "output_type": "stream",
     "text": [
      "Meilleurs paramètres : {'model__class_weights': [1, 7], 'model__depth': 2, 'model__iterations': 100, 'model__learning_rate': 0.01}\n",
      "Meilleur recall : 0.8207671957671958\n"
     ]
    }
   ],
   "source": [
    "# Séparation de X et y\n",
    "X, y\n",
    "# Test en jeu d'apprentissage et de test\n",
    "X_train, X_test, y_train, y_test = train_test_split(X,y, test_size=0.20, random_state=42, stratify = y)\n",
    "# Transformation des colonnes et enregistrement dans un pipeline\n",
    "preprocessor = ColumnTransformer(\n",
    "    transformers = [\n",
    "        ('num', StandardScaler(),features_a_scaler),\n",
    "        ('cat','passthrough',features_encodees)\n",
    "    ])\n",
    "pipeline = Pipeline(steps=[\n",
    "    ('preprocessor', preprocessor),\n",
    "    ('model',CatBoostClassifier(random_state = 42, verbose=0))\n",
    "])\n",
    "# Enregistrement des paramètres\n",
    "param_grid = {\n",
    "    'model__iterations' : [100, 200, 300, 500],\n",
    "    'model__depth' : [2, 3, 4],\n",
    "    'model__learning_rate' : [0.01, 0.02, 0.03, 0.04, 0.05],\n",
    "    'model__class_weights' : [[1, 3], [1, 5], [1, 7]],\n",
    "}\n",
    "# Mise en place du GridSearchCV\n",
    "cv = StratifiedKFold(n_splits=3, shuffle=True, random_state=42)\n",
    "grid_search = GridSearchCV(\n",
    "    estimator = pipeline,\n",
    "    param_grid = param_grid,\n",
    "    cv = cv,\n",
    "    n_jobs = -1,\n",
    "    scoring='recall', #choix du recall par logique avec l'étape précédente\n",
    "    verbose = 0\n",
    ")\n",
    "# Entraînement du modèle\n",
    "grid_search.fit(X_train, y_train)\n",
    "# J'enregistre quel est le meilleur modèle, je réalise la prédiction et j'évalue\n",
    "best_model = grid_search.best_estimator_\n",
    "print(\"Meilleurs paramètres :\", grid_search.best_params_)\n",
    "print(\"Meilleur recall :\", grid_search.best_score_)"
   ]
  },
  {
   "cell_type": "markdown",
   "metadata": {},
   "source": [
    "#### L'utilisation de GridSearchCV nous donne des hyperparamètres qui améliorent le racall de notre modèle par rapport à l'étape 4.\n",
    "\n",
    "Les meilleurs paramètres sont :\n",
    "* 'model__class_weights': [1, 5]\n",
    "* 'model__depth': 3\n",
    "* 'model__iterations': 500\n",
    "* 'model__l2_leaf_reg': 3\n",
    "* 'model__learning_rate': 0.01"
   ]
  },
  {
   "cell_type": "markdown",
   "metadata": {},
   "source": [
    "### On peut désormais lancer une validation croisée avec nos nouveaux hyperparamètres optimisés "
   ]
  },
  {
   "cell_type": "code",
   "execution_count": 5,
   "metadata": {},
   "outputs": [
    {
     "name": "stdout",
     "output_type": "stream",
     "text": [
      "=== Résultats CV (train vs val) ===\n",
      "precision         : train 0.262 ± 0.013 vs val 0.235 ± 0.009\n",
      "recall            : train 0.871 ± 0.032 vs val 0.795 ± 0.021\n",
      "f1                : train 0.402 ± 0.017 vs val 0.362 ± 0.009\n",
      "average_precision : train 0.581 ± 0.027 vs val 0.496 ± 0.050\n",
      "balanced_accuracy : train 0.698 ± 0.020 vs val 0.647 ± 0.008\n"
     ]
    }
   ],
   "source": [
    "# Séparation X/y\n",
    "X, y = prepare_xy(donnees_modelisation)\n",
    "\n",
    "# Récupération des features à scaler/passthrough \n",
    "features_a_scaler, features_encodees = scaler_ou_non()\n",
    "\n",
    "# Split Train/Test avec stratification\n",
    "X_train, X_test, y_train, y_test = train_test_split(\n",
    "    X, y, test_size=0.2, random_state=42, stratify = y)\n",
    "    \n",
    "# Pipeline : prétraitements + modèle\n",
    "preprocessor = ColumnTransformer(\n",
    "    transformers=[\n",
    "        ('num', StandardScaler(), features_a_scaler),\n",
    "        ('cat', 'passthrough', features_encodees)])\n",
    "\n",
    "pipeline = Pipeline(steps=[\n",
    "    ('preprocessor', preprocessor),\n",
    "    ('model', CatBoostClassifier(\n",
    "        iterations=100, #nombre d’arbres boostés\n",
    "        depth=2, # profondeur des arbres\n",
    "        learning_rate=0.01, # vitesse d’apprentissage\n",
    "        class_weights=[1, 7], # pondération des classes\n",
    "        random_state=42,\n",
    "        verbose=0\n",
    "    ))])\n",
    "\n",
    "# Validation croisée sur l'entraînement (stockage moyennes/écarts-types)\n",
    "scoring = ['precision', 'recall', 'f1', 'average_precision', 'balanced_accuracy']  # average_precision = PR AUC\n",
    "cv = StratifiedKFold(n_splits=3)\n",
    "cv_results = cross_validate(\n",
    "    pipeline,\n",
    "    X_train, y_train,\n",
    "    cv=cv,\n",
    "    scoring=scoring,\n",
    "    return_train_score=True,\n",
    "    n_jobs=-1)\n",
    "\n",
    "print(\"=== Résultats CV (train vs val) ===\")\n",
    "for metric in scoring:\n",
    "    tr = cv_results[f\"train_{metric}\"]\n",
    "    te = cv_results[f\"test_{metric}\"]\n",
    "    print(f\"{metric:18s}: train {tr.mean():.3f} ± {tr.std():.3f} vs val {te.mean():.3f} ± {te.std():.3f}\")"
   ]
  },
  {
   "cell_type": "markdown",
   "metadata": {},
   "source": [
    "Sur le jeu d'entraînement notre modèle est amélioré sur le recall par rapport au jeu de test final :\n",
    "* 0.795 vs 0.660 le seuil à 0.5\n",
    "* 0.795 vs 0.766 le seuil optimal à 0.44"
   ]
  },
  {
   "cell_type": "markdown",
   "metadata": {},
   "source": [
    "#### Dans la même logique que l'étape 4 nous allons recalculer le seuil optimal pour qu'il soit adapté à nos nouveaux paramètres."
   ]
  },
  {
   "cell_type": "code",
   "execution_count": 7,
   "metadata": {},
   "outputs": [
    {
     "data": {
      "image/png": "[encoded data removed]",
      "text/plain": [
       "<Figure size 640x480 with 1 Axes>"
      ]
     },
     "metadata": {},
     "output_type": "display_data"
    }
   ],
   "source": [
    "# Split interne Train/Validation pour choisir le seuil et entraînement de ce dernier\n",
    "X_tr, X_val, y_tr, y_val = train_test_split(\n",
    "X_train, y_train, test_size=0.25, random_state=42, stratify=y_train)\n",
    "\n",
    "pipeline.fit(X_tr, y_tr)\n",
    "proba_val = pipeline.predict_proba(X_val)[:,1] # Cette ligne récupère pour chaque individu du jeu X_val, la probabilité d’appartenir à la classe 1\n",
    "precision_val, recall_val, thresholds_val = precision_recall_curve(y_val, proba_val)\n",
    "\n",
    "# Création du seuil fbeta\n",
    "beta = 2 # afin de mettre des poids supplémentaires sur le recall\n",
    "f_beta = (1 + beta**2) * (precision_val * recall_val) / (beta**2 * precision_val + recall_val)\n",
    "idx = int(np.nanargmax(f_beta))\n",
    "best_thr = float(thresholds_val[idx])\n",
    "\n",
    "pipeline.fit(X_train, y_train)\n",
    "# Évaluation TEST (sans rechoisir le seuil, soit 0,5)\n",
    "y_pred_train = pipeline.predict(X_train)\n",
    "y_pred_test = pipeline.predict(X_test)\n",
    "proba_test = pipeline.predict_proba(X_test)[:, 1]\n",
    "\n",
    "# Histogramme des probabilités (Test)\n",
    "plt.hist(proba_test)\n",
    "plt.title(\"Histogramme des probabilités (Test)\")\n",
    "plt.xlabel(\"Probabilité entre 0 et 1\")\n",
    "plt.ylabel(\"Nombre de personnes\")\n",
    "plt.grid()\n",
    "plt.tight_layout()\n",
    "plt.show()"
   ]
  },
  {
   "cell_type": "markdown",
   "metadata": {},
   "source": [
    "Par rapport au précédent histogramme, on peut observer que la concentration qui était entre 0.2 et 0.5 se situe un peu plus haut désormais, le modèle est toujours peu confiant."
   ]
  },
  {
   "cell_type": "markdown",
   "metadata": {},
   "source": [
    "#### Courbe de la précision-rappel et détermination du seuil fbeta"
   ]
  },
  {
   "cell_type": "code",
   "execution_count": 8,
   "metadata": {},
   "outputs": [
    {
     "name": "stdout",
     "output_type": "stream",
     "text": [
      "PR AUC (Average Precision) — TEST : 0.510\n"
     ]
    },
    {
     "data": {
      "image/png": "[encoded data removed]",
      "text/plain": [
       "<Figure size 640x480 with 1 Axes>"
      ]
     },
     "metadata": {},
     "output_type": "display_data"
    }
   ],
   "source": [
    "ap_test = average_precision_score(y_test, proba_test)   # PR AUC (Average Precision) — Test\n",
    "print(f\"PR AUC (Average Precision) — TEST : {ap_test:.3f}\")\n",
    "# Courbe PR (Test) pour visualiser + point au seuil optimal\n",
    "precision_test, recall_test, thresholds_test = precision_recall_curve(y_test, proba_test)\n",
    "# Point obtenu par application du seuil sur test\n",
    "y_pred_custom = (proba_test >= best_thr).astype(int)\n",
    "tp = ((y_test==1) & (y_pred_custom==1)).sum()\n",
    "fp = ((y_test==0) & (y_pred_custom==1)).sum()\n",
    "fn = ((y_test==1) & (y_pred_custom==0)).sum()\n",
    "prec_pt = tp / (tp + fp)\n",
    "rec_pt  = tp / (tp + fn)\n",
    "plt.plot(recall_test, precision_test, label=\"Courbe PR (Test)\")\n",
    "plt.scatter(rec_pt, prec_pt, color=\"red\", zorder=5, label=f\"Seuil Fbeta (val) = {best_thr:.2f}\")\n",
    "plt.text(0.6, 0.2, f\"AP = {ap_test:.3f}\", fontsize=10, bbox=dict(facecolor='white', alpha=0.6))\n",
    "plt.xlabel(\"Recall\")\n",
    "plt.ylabel(\"Precision\")\n",
    "plt.title(\"Precision-Recall Curve (Test)\")\n",
    "plt.grid()\n",
    "plt.legend()\n",
    "plt.tight_layout()\n",
    "plt.show()"
   ]
  },
  {
   "cell_type": "markdown",
   "metadata": {},
   "source": [
    "* Le seuil est désormais à 0.51, non loin du seuil standard."
   ]
  },
  {
   "cell_type": "code",
   "execution_count": 9,
   "metadata": {},
   "outputs": [
    {
     "name": "stdout",
     "output_type": "stream",
     "text": [
      "=== balanced accuracy score - TEST (0.5) ===\n",
      "0.694\n",
      "=== balanced accuracy score - TEST (seuil F2.0 VALIDATION) ===\n",
      "0.72\n"
     ]
    }
   ],
   "source": [
    "print(\"=== balanced accuracy score - TEST (0.5) ===\")\n",
    "print(round(balanced_accuracy_score(y_test, y_pred_test), 3))\n",
    "print(f\"=== balanced accuracy score - TEST (seuil F{beta:.1f} VALIDATION) ===\")\n",
    "print(round(balanced_accuracy_score(y_test, y_pred_custom), 3))"
   ]
  },
  {
   "cell_type": "markdown",
   "metadata": {},
   "source": [
    "* Le score de la balanced_accuracy est légèrement meilleur avec le seuil optimal, on obtient donc un meilleur équilibre entre la précision-rappel."
   ]
  },
  {
   "cell_type": "markdown",
   "metadata": {},
   "source": [
    "#### Classification report"
   ]
  },
  {
   "cell_type": "code",
   "execution_count": 10,
   "metadata": {},
   "outputs": [
    {
     "name": "stdout",
     "output_type": "stream",
     "text": [
      "=== Classification Report - TRAIN ===\n",
      "              precision    recall  f1-score   support\n",
      "\n",
      "           0      0.952     0.521     0.674       986\n",
      "           1      0.258     0.863     0.397       190\n",
      "\n",
      "    accuracy                          0.577      1176\n",
      "   macro avg      0.605     0.692     0.535      1176\n",
      "weighted avg      0.840     0.577     0.629      1176\n",
      "\n",
      "=== Classification Report - TEST (0.5) ===\n",
      "              precision    recall  f1-score   support\n",
      "\n",
      "           0      0.961     0.494     0.652       247\n",
      "           1      0.251     0.894     0.393        47\n",
      "\n",
      "    accuracy                          0.558       294\n",
      "   macro avg      0.606     0.694     0.522       294\n",
      "weighted avg      0.847     0.558     0.611       294\n",
      "\n",
      "=== Classification Report — TEST (seuil F2.0 VALIDATION) ===\n",
      "              precision    recall  f1-score   support\n",
      "\n",
      "           0      0.964     0.547     0.698       247\n",
      "           1      0.273     0.894     0.418        47\n",
      "\n",
      "    accuracy                          0.602       294\n",
      "   macro avg      0.619     0.720     0.558       294\n",
      "weighted avg      0.854     0.602     0.653       294\n",
      "\n"
     ]
    }
   ],
   "source": [
    "print(\"=== Classification Report - TRAIN ===\")\n",
    "print(classification_report(y_train, y_pred_train, digits=3))\n",
    "print(\"=== Classification Report - TEST (0.5) ===\")\n",
    "print(classification_report(y_test, y_pred_test, digits=3))\n",
    "print(f\"=== Classification Report — TEST (seuil F{beta:.1f} VALIDATION) ===\")\n",
    "print(classification_report(y_test, y_pred_custom, digits=3))"
   ]
  },
  {
   "cell_type": "markdown",
   "metadata": {},
   "source": [
    "Entre le seuil standard et le seuil optimal, pas d'amélioration, ce qui est logique car le seuil est très semblable. \n",
    "* On a un très bon recall de l'ordre de 90% pour une précision plus faible de 27%. Nous gardons la logique du contexte métier, nous voulons rater le moins de départs possible au prix de considérer plus de faux positifs."
   ]
  },
  {
   "cell_type": "code",
   "execution_count": 11,
   "metadata": {},
   "outputs": [
    {
     "name": "stdout",
     "output_type": "stream",
     "text": [
      "=== Matrice de confusion - TEST (0.5) ===\n",
      "[[122 125]\n",
      " [  5  42]]\n",
      "=== Matrice de confusion - TEST (seuil F2.0 VALIDATION) ===\n",
      "[[135 112]\n",
      " [  5  42]]\n"
     ]
    }
   ],
   "source": [
    "cm_test  = confusion_matrix(y_test, y_pred_test)\n",
    "print(\"=== Matrice de confusion - TEST (0.5) ===\")\n",
    "print(cm_test)\n",
    "\n",
    "cm_test_optimal  = confusion_matrix(y_test, y_pred_custom)\n",
    "print(f\"=== Matrice de confusion - TEST (seuil F{beta:.1f} VALIDATION) ===\")\n",
    "print(cm_test_optimal)"
   ]
  }
 ],
 "metadata": {
  "kernelspec": {
   "display_name": "Classifiez_automatiquement_des_informations",
   "language": "python",
   "name": "python3"
  },
  "language_info": {
   "codemirror_mode": {
    "name": "ipython",
    "version": 3
   },
   "file_extension": ".py",
   "mimetype": "text/x-python",
   "name": "python",
   "nbconvert_exporter": "python",
   "pygments_lexer": "ipython3",
   "version": "3.12.7"
  }
 },
 "nbformat": 4,
 "nbformat_minor": 2
}
