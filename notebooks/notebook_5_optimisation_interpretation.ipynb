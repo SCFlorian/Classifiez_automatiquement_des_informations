{
 "cells": [
  {
   "cell_type": "markdown",
   "metadata": {},
   "source": [
    "# Mission - Classifiez automatiquement des informations"
   ]
  },
  {
   "cell_type": "markdown",
   "metadata": {},
   "source": [
    "Vous êtes mandaté en tant que Consultant Data Scientist par le département RH de votre client. Il s’agit de l'ESN TechNova Partners, spécialisée dans le conseil en transformation digitale et la vente d’applications en SaaS.\n",
    " \n",
    "Ils font face à un turnover plus élevé que d'habitude et ils souhaitent identifier les causes racines potentielles derrière ces démissions."
   ]
  },
  {
   "cell_type": "markdown",
   "metadata": {},
   "source": [
    "### Importation des librairies"
   ]
  },
  {
   "cell_type": "code",
   "execution_count": 1,
   "metadata": {},
   "outputs": [],
   "source": [
    "# Librairies \"classiques\"\n",
    "import pandas as pd\n",
    "import numpy as np\n",
    "import matplotlib.pyplot as plt\n",
    "import seaborn as sns\n",
    "import plotly.express as px\n",
    "import plotly.io as pio\n",
    "from IPython.display import Image, display\n",
    "\n",
    "# Librairies scikit-learn\n",
    "from sklearn.model_selection import (\n",
    "    train_test_split,\n",
    "    GridSearchCV, \n",
    "    cross_validate,\n",
    ")\n",
    "# Preprocess et modèles\n",
    "from sklearn.pipeline import Pipeline\n",
    "from sklearn.model_selection import train_test_split, cross_validate\n",
    "from sklearn.preprocessing import StandardScaler\n",
    "from sklearn.compose import ColumnTransformer\n",
    "from sklearn.pipeline import Pipeline\n",
    "from sklearn.metrics import classification_report, confusion_matrix, ConfusionMatrixDisplay\n",
    "from sklearn.model_selection import StratifiedKFold\n",
    "from sklearn.metrics import average_precision_score, precision_recall_curve, roc_auc_score, auc, f1_score, balanced_accuracy_score\n",
    "\n",
    "from sklearn.dummy import DummyClassifier\n",
    "from sklearn.linear_model import LogisticRegression\n",
    "from sklearn.ensemble import RandomForestClassifier\n",
    "from xgboost import XGBClassifier\n",
    "from catboost import CatBoostClassifier, Pool\n",
    "\n",
    "# Fonctions python créées\n",
    "from utils import prepare_xy\n",
    "from utils import scaler_ou_non"
   ]
  },
  {
   "cell_type": "markdown",
   "metadata": {},
   "source": [
    "### On reprend les éléments du notebook de l'étape 2"
   ]
  },
  {
   "cell_type": "code",
   "execution_count": 2,
   "metadata": {},
   "outputs": [],
   "source": [
    "donnees_modelisation = pd.read_csv(\"../Data/Processed/Projet_4_etape2_clean.csv\")"
   ]
  },
  {
   "cell_type": "markdown",
   "metadata": {},
   "source": [
    "# Partie 5 - Optimisez et interprétez le comportement du modèle"
   ]
  },
  {
   "cell_type": "markdown",
   "metadata": {},
   "source": [
    "### Recommandation 1 - Reprenez les mêmes principes que le projet 3 (si vous suivez ce parcours dans sa totalité) pour le fine-tuning.\n",
    "* Afin de trouver les meilleurs hyperparamètres de notre modèle sélectionné, CatBoost, nous utilisons un GridSearchCV pour les rechercher."
   ]
  },
  {
   "cell_type": "markdown",
   "metadata": {},
   "source": [
    "#### Récupération de notre séparation X et y et de nos features"
   ]
  },
  {
   "cell_type": "code",
   "execution_count": 3,
   "metadata": {},
   "outputs": [],
   "source": [
    "X, y = prepare_xy(donnees_modelisation)\n",
    "features_a_scaler, features_encodees = scaler_ou_non()"
   ]
  },
  {
   "cell_type": "markdown",
   "metadata": {},
   "source": [
    "#### Recherche des hyperparamètres"
   ]
  },
  {
   "cell_type": "code",
   "execution_count": 16,
   "metadata": {},
   "outputs": [
    {
     "name": "stdout",
     "output_type": "stream",
     "text": [
      "Meilleurs paramètres : {'model__class_weights': [1, 5], 'model__depth': 3, 'model__iterations': 500, 'model__l2_leaf_reg': 3, 'model__learning_rate': 0.01}\n",
      "Meilleur balanced accuracy : 0.7486815388670603\n"
     ]
    }
   ],
   "source": [
    "# Séparation de X et y\n",
    "X, y\n",
    "# Test en jeu d'apprentissage et de test\n",
    "X_train, X_test, y_train, y_test = train_test_split(X,y, test_size=0.20, random_state=42, stratify = y)\n",
    "# Transformation des colonnes et enregistrement dans un pipeline\n",
    "preprocessor = ColumnTransformer(\n",
    "    transformers = [\n",
    "        ('num', StandardScaler(),features_a_scaler),\n",
    "        ('cat','passthrough',features_encodees)\n",
    "    ])\n",
    "pipeline = Pipeline(steps=[\n",
    "    ('preprocessor', preprocessor),\n",
    "    ('model',CatBoostClassifier(random_state = 42, verbose=0))\n",
    "])\n",
    "# Enregistrement des paramètres\n",
    "param_grid = {\n",
    "    'model__iterations' : [200, 300, 500],\n",
    "    'model__depth' : [2, 3, 4],\n",
    "    'model__learning_rate' : [0.01, 0.02, 0.03, 0.05],\n",
    "    'model__l2_leaf_reg': [1, 3, 5, 7, 10],\n",
    "    'model__class_weights' : [[1, 3], [1, 5], [1, 7]],\n",
    "}\n",
    "# Mise en place du GridSearchCV\n",
    "cv = StratifiedKFold(n_splits=3, shuffle=True, random_state=42)\n",
    "grid_search = GridSearchCV(\n",
    "    estimator = pipeline,\n",
    "    param_grid = param_grid,\n",
    "    cv = cv,\n",
    "    n_jobs = -1,\n",
    "    scoring='balanced_accuracy',\n",
    "    verbose = 0\n",
    ")\n",
    "# Entraînement du modèle\n",
    "grid_search.fit(X_train, y_train)\n",
    "# J'enregistre quel est le meilleur modèle, je réalise la prédiction et j'évalue\n",
    "best_model = grid_search.best_estimator_\n",
    "print(\"Meilleurs paramètres :\", grid_search.best_params_)\n",
    "print(\"Meilleur balanced accuracy :\", grid_search.best_score_)"
   ]
  }
 ],
 "metadata": {
  "kernelspec": {
   "display_name": "Classifiez_automatiquement_des_informations",
   "language": "python",
   "name": "python3"
  },
  "language_info": {
   "codemirror_mode": {
    "name": "ipython",
    "version": 3
   },
   "file_extension": ".py",
   "mimetype": "text/x-python",
   "name": "python",
   "nbconvert_exporter": "python",
   "pygments_lexer": "ipython3",
   "version": "3.12.7"
  }
 },
 "nbformat": 4,
 "nbformat_minor": 2
}
