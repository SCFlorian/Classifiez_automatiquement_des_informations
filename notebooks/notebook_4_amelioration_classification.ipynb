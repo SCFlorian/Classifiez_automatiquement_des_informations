{
 "cells": [
  {
   "cell_type": "markdown",
   "metadata": {},
   "source": [
    "# Mission - Classifiez automatiquement des informations"
   ]
  },
  {
   "cell_type": "markdown",
   "metadata": {},
   "source": [
    "Vous êtes mandaté en tant que Consultant Data Scientist par le département RH de votre client. Il s’agit de l'ESN TechNova Partners, spécialisée dans le conseil en transformation digitale et la vente d’applications en SaaS.\n",
    " \n",
    "Ils font face à un turnover plus élevé que d'habitude et ils souhaitent identifier les causes racines potentielles derrière ces démissions."
   ]
  },
  {
   "cell_type": "markdown",
   "metadata": {},
   "source": [
    "### Importation des librairies"
   ]
  },
  {
   "cell_type": "code",
   "execution_count": 2,
   "metadata": {},
   "outputs": [],
   "source": [
    "# Librairies \"classiques\"\n",
    "import pandas as pd\n",
    "import numpy as np\n",
    "import matplotlib.pyplot as plt\n",
    "\n",
    "# Preprocess et modèles\n",
    "from sklearn.metrics import classification_report, confusion_matrix, ConfusionMatrixDisplay\n",
    "from sklearn.model_selection import StratifiedKFold\n",
    "from sklearn.metrics import average_precision_score, precision_recall_curve, auc, f1_score, balanced_accuracy_score\n",
    "\n",
    "from catboost import CatBoostClassifier, Pool\n",
    "from sklearn.ensemble import RandomForestClassifier\n",
    "\n",
    "# Fonctions python créées\n",
    "from utils import prepare_xy\n",
    "from utils import scaler_ou_non\n",
    "from utils import generate_full_model_evaluation"
   ]
  },
  {
   "cell_type": "markdown",
   "metadata": {},
   "source": [
    "### On reprend les éléments du notebook de l'étape 1"
   ]
  },
  {
   "cell_type": "code",
   "execution_count": 3,
   "metadata": {},
   "outputs": [],
   "source": [
    "donnees_modelisation = pd.read_csv(\"../Data/Processed/Projet_4_etape1_clean.csv\")"
   ]
  },
  {
   "cell_type": "markdown",
   "metadata": {},
   "source": [
    "# Partie 4 - Améliorez l'approche de classification"
   ]
  },
  {
   "cell_type": "markdown",
   "metadata": {},
   "source": [
    "### Recommandation 1 - Avant toute implémentation en code, mettre sur le papier votre approche de modélisation. C’est-à-dire : avec quelle méthodologie je découpe mon jeu de données en apprentissage et test, de quelles métriques d’évaluation je vais avoir besoin etc."
   ]
  },
  {
   "cell_type": "markdown",
   "metadata": {},
   "source": [
    "* L'objectif va être de gérer le déséquilibre de notre jeu de données. Nous devons également mieux le stratifier et déterminer le bon seuil de classification avec une courbe PR. Nous sommes dans une situation de déséquilibre alors la courbe ROC n'est pas adaptée.\n",
    "\n",
    "* D'après les résultats obtenus par l'étape 3, il semble important de mettre l'accent sur l'amélioration de la métrique Recall qui n'est pas bonne pour chacun des modèles testés.\n",
    "* D'autant plus dans un sens métier, il est plus judicieux de bien trouver les Faux Négatifs, c'est à dire les salariés qui ont démissionné mais qui sont considérés comme encore dans l'entreprise.\n",
    "* La métrique Recall / la matrice de confusion / la balanced_accuracy  vont nous permettre de mieux comprendre les résultats.\n",
    "* La métrique Accuracy n'est pas utilisable pour le moment car le déséquilibre fausse la métrique, elle va trouver facilement le Non qui domine notre jeu de données à hauteur de 84%.\n",
    "\n",
    "Dans un premier temps nous allons faire une validation croisée pour analyser la moyenne et l'écart-type de nos différents modèles et en sélectionner le plus pertinent.\n",
    "Dans un deuxième temps nous irons plus loin dans l'analyse du meilleur modèle, nous regarderons sa courbe PR, son histogramme des probabilités et nous déterminerons le seuil optimal pour gérer le déséquilibre.\n",
    "\n",
    "Réalisation de différents tests sur 2 modèles non linéaires (il est demandé dans l'énoncé d'utiliser un modèle non linéaire):\n",
    "* Choix du modèle non-linéaire RandomForest\n",
    "* Choix du modèle non-linéaire CatBoost"
   ]
  },
  {
   "cell_type": "markdown",
   "metadata": {},
   "source": [
    "## Création d'une fonction pour appliquer nos modèles"
   ]
  },
  {
   "cell_type": "markdown",
   "metadata": {},
   "source": [
    "### Application des recommandations suivantes :\n",
    "* Capitaliser sur les fonctions existantes dans sklearn et privilégier leur utilisation (notamment pour la stratification), à moins que votre méthodologie soit très personnalisée.\n",
    "\n",
    "* Pendant votre validation croisée, stocker les métriques de chaque itération de Fold dans une liste. Il est très utile de calculer une moyenne ainsi qu’un écart-type sur ces listes. Cela vous donnera une bonne indication sur l’existence ou non d’un overfit, ainsi que la capacité d’un modèle à généraliser son apprentissage à de nouvelles données.\n",
    "\n",
    "* Utiliser la courbe précision rappel pour déterminer le seuil optimal que doit utiliser votre modèle pour classifier vos observations.\n",
    "\n",
    "* Si vous êtes déjà à l’aise au niveau du code pour utiliser les différents concepts et librairies, vous pouvez vous intéresser aux fonctionnalités pipelines de sklearn pour mieux organiser vos modélisations."
   ]
  },
  {
   "cell_type": "markdown",
   "metadata": {},
   "source": [
    "#### Récupération de notre fonction pour la séparation de jeu"
   ]
  },
  {
   "cell_type": "markdown",
   "metadata": {},
   "source": [
    "* Dans notre fonction sous utils.py nous respectons bien la consigne pour la stratification de notre jeu de données, on utilise StratifiedKFold"
   ]
  },
  {
   "cell_type": "code",
   "execution_count": 4,
   "metadata": {},
   "outputs": [],
   "source": [
    "# Transformation + séparation X et y dans utils.py\n",
    "X, y = prepare_xy(donnees_modelisation, target_col=\"a_quitte_l_entreprise\")\n",
    "features_a_scaler, features_encodees = scaler_ou_non()\n",
    "\n",
    "target_col = \"a_quitte_l_entreprise\"\n",
    "\n",
    "train_data_df = pd.read_csv(\"../Data/Processed/train_data_df.csv\")\n",
    "test_data_df  = pd.read_csv(\"../Data/Processed/test_data_df.csv\")\n",
    "\n",
    "X_train = train_data_df.drop(columns=[target_col])\n",
    "y_train = train_data_df[target_col]\n",
    "X_test  = test_data_df.drop(columns=[target_col])\n",
    "y_test  = test_data_df[target_col]"
   ]
  },
  {
   "cell_type": "markdown",
   "metadata": {},
   "source": [
    "#### Nous commençons par faire tourner notre modèle RandomForest avec des paramètres et celui de CatBoost également afin de les comparer."
   ]
  },
  {
   "cell_type": "markdown",
   "metadata": {},
   "source": [
    "##### RandomForest"
   ]
  },
  {
   "cell_type": "code",
   "execution_count": 5,
   "metadata": {},
   "outputs": [
    {
     "name": "stdout",
     "output_type": "stream",
     "text": [
      "=== Résultats CV (train vs val) ===\n",
      "precision         : train 0.546 ± 0.003 vs val 0.444 ± 0.043\n",
      "recall            : train 0.747 ± 0.010 vs val 0.563 ± 0.073\n",
      "f1                : train 0.631 ± 0.002 vs val 0.490 ± 0.012\n",
      "average_precision : train 0.725 ± 0.019 vs val 0.560 ± 0.017\n",
      "balanced_accuracy : train 0.814 ± 0.004 vs val 0.711 ± 0.018\n",
      " Classification Report — TRAIN\n",
      "              precision    recall  f1-score   support\n",
      "\n",
      "           0       0.95      0.84      0.89       986\n",
      "           1       0.48      0.76      0.59       190\n",
      "\n",
      "    accuracy                           0.83      1176\n",
      "   macro avg       0.71      0.80      0.74      1176\n",
      "weighted avg       0.87      0.83      0.84      1176\n",
      "\n",
      "Classification Report — TEST\n",
      "              precision    recall  f1-score   support\n",
      "\n",
      "           0       0.95      0.82      0.88       247\n",
      "           1       0.45      0.79      0.57        47\n",
      "\n",
      "    accuracy                           0.81       294\n",
      "   macro avg       0.70      0.80      0.73       294\n",
      "weighted avg       0.87      0.81      0.83       294\n",
      "\n"
     ]
    }
   ],
   "source": [
    "pipe = generate_full_model_evaluation(\n",
    "    RandomForestClassifier(random_state=42,\n",
    "    n_estimators=300, # nombre d’arbres dans la forêt\n",
    "    max_depth=3, # profondeur maximale de chaque arbre\n",
    "    min_samples_split=10, # nombre minimum d’échantillons pour diviser un noeud\n",
    "    class_weight={0: 0.60, 1: 3.12}), # pondération pour équilibrer classes majoritaire/minoritaire\n",
    "    train_data_df,\n",
    "    test_data_df)"
   ]
  },
  {
   "cell_type": "markdown",
   "metadata": {},
   "source": [
    "##### CatBoost"
   ]
  },
  {
   "cell_type": "code",
   "execution_count": 6,
   "metadata": {},
   "outputs": [
    {
     "name": "stdout",
     "output_type": "stream",
     "text": [
      "=== Résultats CV (train vs val) ===\n",
      "precision         : train 0.483 ± 0.006 vs val 0.419 ± 0.021\n",
      "recall            : train 0.803 ± 0.023 vs val 0.663 ± 0.077\n",
      "f1                : train 0.603 ± 0.011 vs val 0.510 ± 0.012\n",
      "average_precision : train 0.738 ± 0.011 vs val 0.598 ± 0.015\n",
      "balanced_accuracy : train 0.819 ± 0.011 vs val 0.742 ± 0.022\n",
      " Classification Report — TRAIN\n",
      "              precision    recall  f1-score   support\n",
      "\n",
      "           0       0.95      0.83      0.89       986\n",
      "           1       0.47      0.76      0.58       190\n",
      "\n",
      "    accuracy                           0.82      1176\n",
      "   macro avg       0.71      0.80      0.73      1176\n",
      "weighted avg       0.87      0.82      0.84      1176\n",
      "\n",
      "Classification Report — TEST\n",
      "              precision    recall  f1-score   support\n",
      "\n",
      "           0       0.93      0.77      0.84       247\n",
      "           1       0.36      0.68      0.47        47\n",
      "\n",
      "    accuracy                           0.76       294\n",
      "   macro avg       0.65      0.73      0.66       294\n",
      "weighted avg       0.84      0.76      0.78       294\n",
      "\n"
     ]
    }
   ],
   "source": [
    "pipe = generate_full_model_evaluation(CatBoostClassifier(\n",
    "    iterations=300, #nombre d’arbres boostés\n",
    "    depth=2, # profondeur des arbres\n",
    "    learning_rate=0.02, # vitesse d’apprentissage\n",
    "    class_weights=[1, 5], # pondération des classes\n",
    "    random_state=42,\n",
    "    verbose=0),\n",
    "    train_data_df,\n",
    "    test_data_df)"
   ]
  },
  {
   "cell_type": "markdown",
   "metadata": {},
   "source": [
    "#### Interprétation des résultats :\n",
    "\n",
    "Nous obtenons des meilleurs résultats pour le modèle de CatBoost sur les catégories qui nous intéresse le plus :\n",
    "* Meilleur recall sur le test : 0.66 vs 0.56\n",
    "* Meilleur balanced_accuracy : 0.74 vs 0.71\n",
    "* Egalement meilleur f1 : 0.51 vs 0.49\n",
    "\n",
    "On retient donc le modèle de CatBoost pour la suite de la mission."
   ]
  },
  {
   "cell_type": "markdown",
   "metadata": {},
   "source": [
    "### Afin de retrouver notre seuil optimal, on utilise le calcul fbeta afin de mettre l'accent sur le recall\n",
    "* On le calcul sur nos données de train"
   ]
  },
  {
   "cell_type": "code",
   "execution_count": 7,
   "metadata": {},
   "outputs": [
    {
     "name": "stdout",
     "output_type": "stream",
     "text": [
      "Notre seuil optimal fbeta est de 0.457\n"
     ]
    }
   ],
   "source": [
    "beta = 2.0  # met plus de poids sur le recall\n",
    "proba_train = pipe.predict_proba(X_train)[:, 1]\n",
    "\n",
    "prec_tr, rec_tr, thr_tr = precision_recall_curve(y_train, proba_train)\n",
    "# Création du seuil fbeta\n",
    "beta = 2 # afin de mettre des poids supplémentaires sur le recall\n",
    "f_beta = (1 + beta**2) * (prec_tr * rec_tr) / (beta**2 * prec_tr + rec_tr)\n",
    "idx = int(np.nanargmax(f_beta))\n",
    "best_thr = float(thr_tr[idx])\n",
    "print(f\"Notre seuil optimal fbeta est de {best_thr:.3f}\")"
   ]
  },
  {
   "cell_type": "markdown",
   "metadata": {},
   "source": [
    "#### Histogramme des probabilités + calcul de proba_test"
   ]
  },
  {
   "cell_type": "code",
   "execution_count": 8,
   "metadata": {},
   "outputs": [
    {
     "data": {
      "image/png": "[encoded data removed]",
      "text/plain": [
       "<Figure size 640x480 with 1 Axes>"
      ]
     },
     "metadata": {},
     "output_type": "display_data"
    }
   ],
   "source": [
    "# Calcul de proba_test\n",
    "proba_test = pipe.predict_proba(X_test)[:, 1]\n",
    "# Histogramme des probabilités (Test)\n",
    "plt.hist(proba_test)\n",
    "plt.title(\"Histogramme des probabilités (Test)\")\n",
    "plt.xlabel(\"Probabilité entre 0 et 1\")\n",
    "plt.ylabel(\"Nombre de personnes\")\n",
    "plt.grid()\n",
    "plt.tight_layout()\n",
    "plt.show()"
   ]
  },
  {
   "cell_type": "markdown",
   "metadata": {},
   "source": [
    "* Ce que l'on voit sur ce graphique c'est une concentration des probabilités entre 0.2 et 0.5, ce qui indique que le modèle donne des probabilités plutôt faible donc vers la classe négative, c'est à dire sur les salariés restants dans l'entreprise.\n",
    "* On identifie un petit étalement à droite, donc que le modèle a quelques certitudes concernant des employés partis mais cela reste faible.\n",
    "* L'histogramme représente bien notre jeu désequilibré avec des cas majoritairement dans la classe 0.\n",
    "* Avec un seuil à 0.5 (celui de base), le modèle va donc classer plus de 0 que de 1."
   ]
  },
  {
   "cell_type": "markdown",
   "metadata": {},
   "source": [
    "### Ajout du calcul de l'average precision et création de la courbe PR"
   ]
  },
  {
   "cell_type": "code",
   "execution_count": 9,
   "metadata": {},
   "outputs": [
    {
     "name": "stdout",
     "output_type": "stream",
     "text": [
      "PR AUC (Average Precision) — TEST : 0.544\n"
     ]
    },
    {
     "data": {
      "image/png": "[encoded data removed]",
      "text/plain": [
       "<Figure size 640x480 with 1 Axes>"
      ]
     },
     "metadata": {},
     "output_type": "display_data"
    }
   ],
   "source": [
    "ap_test = average_precision_score(y_test, proba_test)   # PR AUC (Average Precision) — Test\n",
    "print(f\"PR AUC (Average Precision) — TEST : {ap_test:.3f}\")\n",
    "# Courbe PR (Test) pour visualiser + point au seuil optimal\n",
    "precision_test, recall_test, thresholds_test = precision_recall_curve(y_test, proba_test)\n",
    "# Point obtenu par application du seuil sur test\n",
    "y_pred_custom = (proba_test >= best_thr).astype(int)\n",
    "tp = ((y_test==1) & (y_pred_custom==1)).sum()\n",
    "fp = ((y_test==0) & (y_pred_custom==1)).sum()\n",
    "fn = ((y_test==1) & (y_pred_custom==0)).sum()\n",
    "prec_pt = tp / (tp + fp)\n",
    "rec_pt  = tp / (tp + fn)\n",
    "plt.plot(recall_test, precision_test, label=\"Courbe PR (Test)\")\n",
    "plt.scatter(rec_pt, prec_pt, color=\"red\", zorder=5, label=f\"Seuil Fbeta (val) = {best_thr:.2f}\")\n",
    "plt.text(0.6, 0.2, f\"AP = {ap_test:.3f}\", fontsize=10, bbox=dict(facecolor='white', alpha=0.6))\n",
    "plt.xlabel(\"Recall\")\n",
    "plt.ylabel(\"Precision\")\n",
    "plt.title(\"Precision-Recall Curve (Test)\")\n",
    "plt.grid()\n",
    "plt.legend()\n",
    "plt.tight_layout()\n",
    "plt.show()"
   ]
  },
  {
   "cell_type": "markdown",
   "metadata": {},
   "source": [
    "* Sur ce graphique nous retrouvons notre recall en abscisse et notre precision en ordonnée. Cette courbe représente le compromis entre le rappel et la précision. Chaque point de la courbe correspond à un seuil de décision différent.\n",
    "\n",
    "* AP=0.544, le modèle fait mieux qu’un tirage aléatoire, mais il reste beaucoup de marge.\n",
    "* Le point rouge correspond au seuil trouvé sur la validation (fbeta, donc favorisant le rappel) qui est donc de 0.46, il se trouve donc un peu plus bas que le seuil de standard de 0.50. Le modèle va chercher un score de probabilité plus bas pour récupérer des vrais positifs."
   ]
  },
  {
   "cell_type": "markdown",
   "metadata": {},
   "source": [
    "### Regardons à présent la différence de notre métrique de la balanced accuracy, entre le seuil de base et le seuil optimal calculé avec fbeta"
   ]
  },
  {
   "cell_type": "code",
   "execution_count": 10,
   "metadata": {},
   "outputs": [
    {
     "name": "stdout",
     "output_type": "stream",
     "text": [
      "=== balanced accuracy score - TEST (0.5) ===\n",
      "0.727\n",
      "=== balanced accuracy score - TEST (seuil F2.0 VALIDATION) ===\n",
      "0.758\n"
     ]
    }
   ],
   "source": [
    "y_pred_test = (proba_test >= 0.5).astype(int)      # seuil classique\n",
    "y_pred_custom = (proba_test >= best_thr).astype(int)  # seuil optimal choisi\n",
    "\n",
    "print(\"=== balanced accuracy score - TEST (0.5) ===\")\n",
    "print(round(balanced_accuracy_score(y_test, y_pred_test), 3))\n",
    "print(f\"=== balanced accuracy score - TEST (seuil F{beta:.1f} VALIDATION) ===\")\n",
    "print(round(balanced_accuracy_score(y_test, y_pred_custom), 3))"
   ]
  },
  {
   "cell_type": "markdown",
   "metadata": {},
   "source": [
    "* On obtient une meilleure moyenne des prévisions avec le seuil optimal, 0.758 vs 0.727"
   ]
  },
  {
   "cell_type": "code",
   "execution_count": 11,
   "metadata": {},
   "outputs": [
    {
     "name": "stdout",
     "output_type": "stream",
     "text": [
      "=== Classification Report - TEST (0.5) ===\n",
      "              precision    recall  f1-score   support\n",
      "\n",
      "           0      0.927     0.773     0.843       247\n",
      "           1      0.364     0.681     0.474        47\n",
      "\n",
      "    accuracy                          0.759       294\n",
      "   macro avg      0.645     0.727     0.659       294\n",
      "weighted avg      0.837     0.759     0.784       294\n",
      "\n",
      "=== Classification Report — TEST (seuil F2.0 VALIDATION) ===\n",
      "              precision    recall  f1-score   support\n",
      "\n",
      "           0      0.947     0.729     0.824       247\n",
      "           1      0.356     0.787     0.490        47\n",
      "\n",
      "    accuracy                          0.738       294\n",
      "   macro avg      0.652     0.758     0.657       294\n",
      "weighted avg      0.853     0.738     0.770       294\n",
      "\n"
     ]
    }
   ],
   "source": [
    "# Prédictions sur TRAIN et TEST avec le pipeline déjà fit\n",
    "y_pred_train = pipe.predict(X_train) # afin de le faire apparaître dans ce notebook\n",
    "y_pred_test  = pipe.predict(X_test) # afin de le faire apparaître dans ce notebook\n",
    "\n",
    "# Prédictions custom avec le seuil optimal (best_thr)\n",
    "print(\"=== Classification Report - TEST (0.5) ===\")\n",
    "print(classification_report(y_test, y_pred_test, digits=3))\n",
    "print(f\"=== Classification Report — TEST (seuil F{beta:.1f} VALIDATION) ===\")\n",
    "print(classification_report(y_test, y_pred_custom, digits=3))"
   ]
  },
  {
   "cell_type": "markdown",
   "metadata": {},
   "source": [
    "* On peut capter plus de TP avec une légère détérioration de la précision par rapport au seuil de base alors que nous avons un meilleur score en recall de +10%."
   ]
  },
  {
   "cell_type": "markdown",
   "metadata": {},
   "source": [
    "#### On peut analyser plus finement les résultats avec une comparaison des matrices de confusion"
   ]
  },
  {
   "cell_type": "code",
   "execution_count": 12,
   "metadata": {},
   "outputs": [
    {
     "name": "stdout",
     "output_type": "stream",
     "text": [
      "=== Matrice de confusion - TEST (0.5) ===\n",
      "[[191  56]\n",
      " [ 15  32]]\n",
      "=== Matrice de confusion - TEST (seuil F2.0 VALIDATION) ===\n",
      "[[180  67]\n",
      " [ 10  37]]\n"
     ]
    }
   ],
   "source": [
    "cm_test  = confusion_matrix(y_test, y_pred_test)\n",
    "print(\"=== Matrice de confusion - TEST (0.5) ===\")\n",
    "print(cm_test)\n",
    "\n",
    "cm_test_optimal  = confusion_matrix(y_test, y_pred_custom)\n",
    "print(f\"=== Matrice de confusion - TEST (seuil F{beta:.1f} VALIDATION) ===\")\n",
    "print(cm_test_optimal)"
   ]
  },
  {
   "cell_type": "markdown",
   "metadata": {},
   "source": [
    "* On capte 5 cas positifs en + mais on en capte 11 en + en FP"
   ]
  },
  {
   "cell_type": "markdown",
   "metadata": {},
   "source": [
    "#### Ici le choix de mettre l'accent sur le recall nous donne un modèle capable de retrouver plus de départs au détriment d'une meilleure précision. L'objectif de la mission est de réaliser un modèle de classification capable de scorer la probabilité de départ d'un salarié afin d'en déterminer les causes potentielles. Afin de mieux comprendre les démissions, il faut donc réussir à retrouver le maximum de départs ce que nous aide à faire ce seuil."
   ]
  }
 ],
 "metadata": {
  "kernelspec": {
   "display_name": "Classifiez_automatiquement_des_informations",
   "language": "python",
   "name": "python3"
  },
  "language_info": {
   "codemirror_mode": {
    "name": "ipython",
    "version": 3
   },
   "file_extension": ".py",
   "mimetype": "text/x-python",
   "name": "python",
   "nbconvert_exporter": "python",
   "pygments_lexer": "ipython3",
   "version": "3.12.7"
  }
 },
 "nbformat": 4,
 "nbformat_minor": 2
}
