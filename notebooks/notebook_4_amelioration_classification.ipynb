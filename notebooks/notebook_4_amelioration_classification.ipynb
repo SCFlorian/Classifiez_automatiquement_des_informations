{
 "cells": [
  {
   "cell_type": "markdown",
   "metadata": {},
   "source": [
    "# Mission - Classifiez automatiquement des informations"
   ]
  },
  {
   "cell_type": "markdown",
   "metadata": {},
   "source": [
    "Vous êtes mandaté en tant que Consultant Data Scientist par le département RH de votre client. Il s’agit de l'ESN TechNova Partners, spécialisée dans le conseil en transformation digitale et la vente d’applications en SaaS.\n",
    " \n",
    "Ils font face à un turnover plus élevé que d'habitude et ils souhaitent identifier les causes racines potentielles derrière ces démissions."
   ]
  },
  {
   "cell_type": "markdown",
   "metadata": {},
   "source": [
    "### Importation des librairies"
   ]
  },
  {
   "cell_type": "code",
   "execution_count": 1,
   "metadata": {},
   "outputs": [],
   "source": [
    "# Librairies \"classiques\"\n",
    "import pandas as pd\n",
    "import numpy as np\n",
    "import matplotlib.pyplot as plt\n",
    "import seaborn as sns\n",
    "import plotly.express as px\n",
    "import plotly.io as pio\n",
    "from IPython.display import Image, display\n",
    "\n",
    "# Librairies scikit-learn\n",
    "from sklearn.model_selection import (\n",
    "    train_test_split,\n",
    "    GridSearchCV, \n",
    "    cross_validate,\n",
    ")\n",
    "# Preprocess et modèles\n",
    "from sklearn.pipeline import Pipeline\n",
    "from sklearn.model_selection import train_test_split, cross_validate\n",
    "from sklearn.preprocessing import StandardScaler\n",
    "from sklearn.compose import ColumnTransformer\n",
    "from sklearn.pipeline import Pipeline\n",
    "from sklearn.metrics import classification_report, confusion_matrix, ConfusionMatrixDisplay\n",
    "from sklearn.model_selection import StratifiedKFold\n",
    "from sklearn.metrics import average_precision_score, precision_recall_curve, roc_auc_score, auc, f1_score, balanced_accuracy_score\n",
    "\n",
    "from sklearn.dummy import DummyClassifier\n",
    "from sklearn.linear_model import LogisticRegression\n",
    "from sklearn.ensemble import RandomForestClassifier\n",
    "from xgboost import XGBClassifier\n",
    "from catboost import CatBoostClassifier, Pool\n",
    "\n",
    "# Fonctions python créées\n",
    "from utils import prepare_xy\n",
    "from utils import scaler_ou_non"
   ]
  },
  {
   "cell_type": "markdown",
   "metadata": {},
   "source": [
    "### On reprend les éléments du notebook de l'étape 2"
   ]
  },
  {
   "cell_type": "code",
   "execution_count": 2,
   "metadata": {},
   "outputs": [],
   "source": [
    "donnees_modelisation = pd.read_csv(\"../Data/Processed/Projet_4_etape2_clean.csv\")"
   ]
  },
  {
   "cell_type": "markdown",
   "metadata": {},
   "source": [
    "# Partie 4 - Améliorez l'approche de classification"
   ]
  },
  {
   "cell_type": "markdown",
   "metadata": {},
   "source": [
    "### Recommandation 1 - Avant toute implémentation en code, mettre sur le papier votre approche de modélisation. C’est-à-dire : avec quelle méthodologie je découpe mon jeu de données en apprentissage et test, de quelles métriques d’évaluation je vais avoir besoin etc."
   ]
  },
  {
   "cell_type": "markdown",
   "metadata": {},
   "source": [
    "* L'objectif va être de gérer le déséquilibre de notre jeu de données. Nous devons également mieux le stratifier et déterminer le bon seuil de classification avec une courbe PR. Nous sommes dans une situation de déséquilibre alors la courbe ROC n'est pas adaptée.\n",
    "\n",
    "* D'après les résultats obtenus par l'étape 3, il semble important de mettre l'accent sur l'amélioration de la métrique Recall qui n'est pas bonne pour chacun des modèles testés.\n",
    "* D'autant plus dans un sens métier, il est plus judicieux de bien trouver les Faux Négatifs, c'est à dire les salariés qui ont démissionné mais qui sont considérés comme encore dans l'entreprise.\n",
    "* La métrique Recall / la matrice de confusion / la balanced_accuracy  vont nous permettre de mieux comprendre les résultats.\n",
    "* La métrique Accuracy n'est pas utilisable pour le moment car le déséquilibre fausse la métrique, elle va trouver facilement le Non qui domine notre jeu de données à hauteur de 84%.\n",
    "\n",
    "Dans un premier temps nous allons faire une validation croisée pour analyser la moyenne et l'écart-type de nos différents modèles et en sélectionner le plus pertinent.\n",
    "Dans un deuxième temps nous irons plus loin dans l'analyse du meilleur modèle, nous regarderons sa courbe PR, son histogramme des probabilités et nous déterminerons le seuil optimal pour gérer le déséquilibre.\n",
    "\n",
    "Réalisation de différents tests sur 3 modèles non linéaires (il est demandé dans l'énoncé d'utiliser un modèle non linéaire):\n",
    "* Choix du modèle non-linéaire RandomForest\n",
    "* Choix du modèle non-linéaire XGBoost\n",
    "* Choix du modèle non-linéaire CatBoost"
   ]
  },
  {
   "cell_type": "markdown",
   "metadata": {},
   "source": [
    "## Création d'une fonction pour appliquer nos modèles"
   ]
  },
  {
   "cell_type": "markdown",
   "metadata": {},
   "source": [
    "### Application des recommandations suivantes :\n",
    "* Capitaliser sur les fonctions existantes dans sklearn et privilégier leur utilisation (notamment pour la stratification), à moins que votre méthodologie soit très personnalisée.\n",
    "\n",
    "* Pendant votre validation croisée, stocker les métriques de chaque itération de Fold dans une liste. Il est très utile de calculer une moyenne ainsi qu’un écart-type sur ces listes. Cela vous donnera une bonne indication sur l’existence ou non d’un overfit, ainsi que la capacité d’un modèle à généraliser son apprentissage à de nouvelles données.\n",
    "\n",
    "* Utiliser la courbe précision rappel pour déterminer le seuil optimal que doit utiliser votre modèle pour classifier vos observations.\n",
    "\n",
    "* Si vous êtes déjà à l’aise au niveau du code pour utiliser les différents concepts et librairies, vous pouvez vous intéresser aux fonctionnalités pipelines de sklearn pour mieux organiser vos modélisations."
   ]
  },
  {
   "cell_type": "markdown",
   "metadata": {},
   "source": [
    "#### Nous reprenons notre fonction pour récupérer X/y et nos colonnes encodées ou non."
   ]
  },
  {
   "cell_type": "code",
   "execution_count": 3,
   "metadata": {},
   "outputs": [],
   "source": [
    "X, y = prepare_xy(donnees_modelisation)\n",
    "features_a_scaler, features_encodees = scaler_ou_non()"
   ]
  },
  {
   "cell_type": "markdown",
   "metadata": {},
   "source": [
    "### Séparation de notre jeu - Validation croisée - Métriques sur CV"
   ]
  },
  {
   "cell_type": "code",
   "execution_count": 4,
   "metadata": {},
   "outputs": [],
   "source": [
    "# Création d'une fonction et pour figer nos conditions\n",
    "def modelisation(model, donnees_modelisation, target_col='a_quitte_l_entreprise', test_size=0.2, random_state=42):\n",
    "# Séparation de X et y\n",
    "    X, y\n",
    "\n",
    "# Test en jeu d'apprentissage et de test\n",
    "    X_train, X_test, y_train, y_test = train_test_split(X,y, test_size=test_size, random_state=random_state, stratify=y)\n",
    "    \n",
    " # Demande d'une transformation des colonnes non encodées en scaling et création d'un pipeline\n",
    "    preprocessor = ColumnTransformer(\n",
    "        transformers = [\n",
    "            ('num',StandardScaler(),features_a_scaler),\n",
    "            ('cat','passthrough',features_encodees)\n",
    "        ])\n",
    "    pipeline = Pipeline(steps=[\n",
    "        ('preproccesor', preprocessor),\n",
    "        ('model', model)\n",
    "    ])\n",
    "# Choix des indicateurs de performance et création de la validation croisée    \n",
    "    scoring = ['precision','recall','f1','average_precision','balanced_accuracy'] # average_precision = PR AUC\n",
    "    cv_results = cross_validate(\n",
    "        pipeline,\n",
    "        X_train, y_train, # validation croisée que sur l'entraînement\n",
    "        cv=StratifiedKFold(n_splits=3), #KFold va renvoyer des plis stratifiés\n",
    "        scoring=scoring,\n",
    "        return_train_score=True,\n",
    "        n_jobs=-1\n",
    "    )\n",
    "    print(\"=== Résultats CV (train vs val) ===\")\n",
    "\n",
    "# Boucle pour calcul de nos indicateurs\n",
    "    for metric in scoring:\n",
    "        tr = cv_results[f\"train_{metric}\"]\n",
    "        te = cv_results[f\"test_{metric}\"]\n",
    "        print(f\"{metric:18s}: train {tr.mean():.3f} ± {tr.std():.3f} vs val {te.mean():.3f} ± {te.std():.3f}\")\n",
    "\n",
    "    return model"
   ]
  },
  {
   "cell_type": "markdown",
   "metadata": {},
   "source": [
    "* La validation croisée K-Fold stratifiée est une technique utilisée pour évaluer un modèle. Il est particulièrement utile pour les problèmes de classification dans lesquels les étiquettes de classe ne sont pas uniformément réparties, c'est-à-dire que les données sont déséquilibrées. C'est une version améliorée de K-Fold Cross Validation. La principale différence est qu'il utilise une stratification qui permet de maintenir la distribution originale de chaque classe à travers chaque pli. Ici nous utilisons 3 splits"
   ]
  },
  {
   "cell_type": "markdown",
   "metadata": {},
   "source": [
    "#### Choix de nos modèles et ajustements avec quelques hyperparamètres\n",
    "* Ajout notamment pour RandomForest et XGBoost de class weight afin de gérer un peu mieux notre jeu déséquilibré."
   ]
  },
  {
   "cell_type": "code",
   "execution_count": 5,
   "metadata": {},
   "outputs": [
    {
     "name": "stdout",
     "output_type": "stream",
     "text": [
      "\n",
      "========================================\n",
      "Modèle : Random Forest\n",
      "========================================\n",
      "=== Résultats CV (train vs val) ===\n",
      "precision         : train 0.472 ± 0.028 vs val 0.403 ± 0.078\n",
      "recall            : train 0.710 ± 0.038 vs val 0.558 ± 0.056\n",
      "f1                : train 0.567 ± 0.028 vs val 0.464 ± 0.064\n",
      "average_precision : train 0.660 ± 0.041 vs val 0.515 ± 0.050\n",
      "balanced_accuracy : train 0.778 ± 0.019 vs val 0.694 ± 0.039\n",
      "\n",
      "========================================\n",
      "Modèle : XGBoost\n",
      "========================================\n",
      "=== Résultats CV (train vs val) ===\n",
      "precision         : train 0.588 ± 0.018 vs val 0.415 ± 0.045\n",
      "recall            : train 0.911 ± 0.013 vs val 0.642 ± 0.029\n",
      "f1                : train 0.714 ± 0.013 vs val 0.504 ± 0.042\n",
      "average_precision : train 0.849 ± 0.011 vs val 0.560 ± 0.053\n",
      "balanced_accuracy : train 0.894 ± 0.007 vs val 0.733 ± 0.027\n",
      "\n",
      "========================================\n",
      "Modèle : CatBoost\n",
      "========================================\n",
      "=== Résultats CV (train vs val) ===\n",
      "precision         : train 0.490 ± 0.009 vs val 0.401 ± 0.046\n",
      "recall            : train 0.808 ± 0.011 vs val 0.673 ± 0.041\n",
      "f1                : train 0.610 ± 0.009 vs val 0.500 ± 0.037\n",
      "average_precision : train 0.736 ± 0.025 vs val 0.576 ± 0.053\n",
      "balanced_accuracy : train 0.823 ± 0.006 vs val 0.737 ± 0.022\n"
     ]
    }
   ],
   "source": [
    "modeles = {\n",
    "    \"Random Forest\": RandomForestClassifier(\n",
    "        random_state=42,\n",
    "        n_estimators=300, # nombre d’arbres dans la forêt\n",
    "        max_depth=3, # profondeur maximale de chaque arbre\n",
    "        min_samples_split=10, # nombre minimum d’échantillons pour diviser un noeud\n",
    "        class_weight={0: 0.60, 1: 3.12}  # pondération pour équilibrer classes majoritaire/minoritaire\n",
    "    ),\n",
    "    \"XGBoost\": XGBClassifier(\n",
    "        n_estimators=300, #nombre d’arbres boostés\n",
    "        max_depth=2, #profondeur max des arbres\n",
    "        learning_rate=0.05, #taille des pas de gradient\n",
    "        scale_pos_weight=5.25,  # ajuste l’importance de la classe minoritaire (utile si dataset déséquilibré)\n",
    "        subsample=0.8, # proportion d’échantillons utilisés par arbre (régularisation)\n",
    "        colsample_bytree=0.8, # proportion de variables utilisées par arbre (régularisation).\n",
    "        random_state=42,\n",
    "        eval_metric=\"logloss\" # métrique d’évaluation interne\n",
    "    ),\n",
    "    \"CatBoost\": CatBoostClassifier(\n",
    "        iterations=300, #nombre d’arbres boostés\n",
    "        depth=2, # profondeur des arbres\n",
    "        learning_rate=0.03, # vitesse d’apprentissage\n",
    "        class_weights=[1, 5], # pondération des classes\n",
    "        random_state=42,\n",
    "        verbose=0\n",
    "    )\n",
    "}\n",
    "\n",
    "# Boucle pour exécuter les modèles\n",
    "for nom, clf in modeles.items():\n",
    "    print(\"\\n\" + \"=\"*40)\n",
    "    print(f\"Modèle : {nom}\")\n",
    "    print(\"=\"*40)\n",
    "    modelisation(clf, donnees_modelisation)"
   ]
  },
  {
   "cell_type": "markdown",
   "metadata": {},
   "source": [
    "Avec l'ajout d'hyperparamètres, nous arrivons plus facilement à gérer le problème de sur-apprentissage pour le modèle de RandomForest et celui de CatBoost avec aussi un meilleur score de recall que celui de XGBoost.\n",
    "\n",
    "Entre RandomForest et CatBoost, on peut noter un modèle un peu plus robuste du côté de CatBoost. Nous avons un meilleur recall sur la validation (0.67 vs 0.56) et on obtient un meilleur score de balanced_accuracy sur la validation également de 0.74 vs 0.69.\n",
    "\n",
    "\n",
    "Au prix d'une précision plus faible (on va capter plus de faux positifs), notre recall est amélioré, donc la capacité du modèle à trouver plus de vrais positifs, dans ce cas présent les départs de l'entreprise. "
   ]
  },
  {
   "cell_type": "markdown",
   "metadata": {},
   "source": [
    "#### On choisit le modèle CatBoost. On fait tourner de nouveau une validaion croisée afin de repartir sur la même base."
   ]
  },
  {
   "cell_type": "code",
   "execution_count": null,
   "metadata": {},
   "outputs": [
    {
     "name": "stdout",
     "output_type": "stream",
     "text": [
      "=== Résultats CV (train vs val) ===\n",
      "precision         : train 0.490 ± 0.009 vs val 0.401 ± 0.046\n",
      "recall            : train 0.808 ± 0.011 vs val 0.673 ± 0.041\n",
      "f1                : train 0.610 ± 0.009 vs val 0.500 ± 0.037\n",
      "average_precision : train 0.736 ± 0.025 vs val 0.576 ± 0.053\n",
      "balanced_accuracy : train 0.823 ± 0.006 vs val 0.737 ± 0.022\n"
     ]
    }
   ],
   "source": [
    "# Récupération de nos éléments\n",
    "X, y = prepare_xy(donnees_modelisation)\n",
    "features_a_scaler, features_encodees = scaler_ou_non()\n",
    "\n",
    "# Séparation X/y\n",
    "X, y = prepare_xy(donnees_modelisation)\n",
    "\n",
    "# Récupération des features à scaler/passthrough \n",
    "features_a_scaler, features_encodees = scaler_ou_non()\n",
    "\n",
    "# Split Train/Test avec stratification\n",
    "X_train, X_test, y_train, y_test = train_test_split(\n",
    "    X, y, test_size=0.2, random_state=42, stratify = y)\n",
    "    \n",
    "# Pipeline : prétraitements + modèle\n",
    "preprocessor = ColumnTransformer(\n",
    "    transformers=[\n",
    "        ('num', StandardScaler(), features_a_scaler),\n",
    "        ('cat', 'passthrough', features_encodees)])\n",
    "\n",
    "pipeline = Pipeline(steps=[\n",
    "    ('preprocessor', preprocessor),\n",
    "    ('model', CatBoostClassifier(\n",
    "        iterations=300, #nombre d’arbres boostés\n",
    "        depth=2, # profondeur des arbres\n",
    "        learning_rate=0.03, # vitesse d’apprentissage\n",
    "        class_weights=[1, 5], # pondération des classes\n",
    "        random_state=42,\n",
    "        verbose=0\n",
    "    ))])\n",
    "\n",
    "# Validation croisée sur l'entraînement (stockage moyennes/écarts-types)\n",
    "scoring = ['precision', 'recall', 'f1', 'average_precision', 'balanced_accuracy']  # average_precision = PR AUC\n",
    "cv = StratifiedKFold(n_splits=3)\n",
    "cv_results = cross_validate(\n",
    "    pipeline,\n",
    "    X_train, y_train,\n",
    "    cv=cv,\n",
    "    scoring=scoring,\n",
    "    return_train_score=True,\n",
    "    n_jobs=-1)\n",
    "\n",
    "print(\"=== Résultats CV (train vs val) ===\")\n",
    "for metric in scoring:\n",
    "    tr = cv_results[f\"train_{metric}\"]\n",
    "    te = cv_results[f\"test_{metric}\"]\n",
    "    print(f\"{metric:18s}: train {tr.mean():.3f} ± {tr.std():.3f} vs val {te.mean():.3f} ± {te.std():.3f}\")"
   ]
  },
  {
   "cell_type": "markdown",
   "metadata": {},
   "source": [
    "### Après cette validation croisée, nous allons de nouveau faire un split de notre jeu d'entraînement avec train_split afin de pouvoir calculer un seuil optimal de classification. Si on réalise ce seuil sur notre jeu de test il y aurait des fuites d'informations"
   ]
  },
  {
   "cell_type": "code",
   "execution_count": 20,
   "metadata": {},
   "outputs": [],
   "source": [
    "# Split interne Train/Validation pour choisir le seuil\n",
    "X_tr, X_val, y_tr, y_val = train_test_split(\n",
    "X_train, y_train, test_size=0.25, random_state=42, stratify=y_train)"
   ]
  },
  {
   "cell_type": "markdown",
   "metadata": {},
   "source": [
    "### Fit sur notre sous-train et on choisit de calculer fbeta pour obtenir notre seuil optimal (nous le ferons apparaître plus bas pour les comparaisons)"
   ]
  },
  {
   "cell_type": "code",
   "execution_count": 21,
   "metadata": {},
   "outputs": [],
   "source": [
    "pipeline.fit(X_tr, y_tr)\n",
    "proba_val = pipeline.predict_proba(X_val)[:,1] # Cette ligne récupère pour chaque individu du jeu X_val, la probabilité d’appartenir à la classe 1\n",
    "precision_val, recall_val, thresholds_val = precision_recall_curve(y_val, proba_val)\n",
    "# Création du seuil fbeta\n",
    "beta = 2 # afin de mettre des poids supplémentaires sur le recall\n",
    "f_beta = (1 + beta**2) * (precision_val * recall_val) / (beta**2 * precision_val + recall_val)\n",
    "idx = int(np.nanargmax(f_beta))\n",
    "best_thr = float(thresholds_val[idx])"
   ]
  },
  {
   "cell_type": "markdown",
   "metadata": {},
   "source": [
    "### Nous entraînons désormais notre modèle sur le jeu final"
   ]
  },
  {
   "cell_type": "code",
   "execution_count": 22,
   "metadata": {},
   "outputs": [],
   "source": [
    "pipeline.fit(X_train, y_train)\n",
    "# Évaluation TEST (sans rechoisir le seuil, soit 0,5)\n",
    "y_pred_train = pipeline.predict(X_train)\n",
    "y_pred_test = pipeline.predict(X_test)\n",
    "proba_test = pipeline.predict_proba(X_test)[:, 1]"
   ]
  },
  {
   "cell_type": "markdown",
   "metadata": {},
   "source": [
    "### Histogramme des probabilités sur test"
   ]
  },
  {
   "cell_type": "code",
   "execution_count": 23,
   "metadata": {},
   "outputs": [
    {
     "data": {
      "image/png": "[encoded data removed]",
      "text/plain": [
       "<Figure size 640x480 with 1 Axes>"
      ]
     },
     "metadata": {},
     "output_type": "display_data"
    }
   ],
   "source": [
    " # Histogramme des probabilités (Test)\n",
    "plt.hist(proba_test)\n",
    "plt.title(\"Histogramme des probabilités (Test)\")\n",
    "plt.xlabel(\"Probabilité entre 0 et 1\")\n",
    "plt.ylabel(\"Nombre de personnes\")\n",
    "plt.grid()\n",
    "plt.tight_layout()\n",
    "plt.show()"
   ]
  },
  {
   "cell_type": "markdown",
   "metadata": {},
   "source": [
    "* Ce que l'on voit sur ce graphique c'est une concentration des probabilités entre 0.2 et 0.5, ce qui indique que le modèle donne des probabilités plutôt faible donc vers la classe négative, c'est à dire sur les salariés restants dans l'entreprise.\n",
    "* On identifie un petit étalement à droite, donc que le modèle a quelques certitudes concernant des employés partis mais cela reste faible.\n",
    "* L'histogramme représente bien notre jeu désequilibré avec des cas majoritairement dans la classe 0.\n",
    "* Avec un seuil à 0.5 (celui de base), le modèle va donc classer plus de 0 que de 1."
   ]
  },
  {
   "cell_type": "markdown",
   "metadata": {},
   "source": [
    "### Ajout du calcul de l'average precision et création de la courbe PR"
   ]
  },
  {
   "cell_type": "code",
   "execution_count": null,
   "metadata": {},
   "outputs": [
    {
     "name": "stdout",
     "output_type": "stream",
     "text": [
      "PR AUC (Average Precision) — TEST : 0.555\n"
     ]
    },
    {
     "data": {
      "image/png": "[encoded data removed]",
      "text/plain": [
       "<Figure size 640x480 with 1 Axes>"
      ]
     },
     "metadata": {},
     "output_type": "display_data"
    }
   ],
   "source": [
    "ap_test = average_precision_score(y_test, proba_test)   # PR AUC (Average Precision) — Test\n",
    "print(f\"PR AUC (Average Precision) — TEST : {ap_test:.3f}\")\n",
    "# Courbe PR (Test) pour visualiser + point au seuil optimal\n",
    "precision_test, recall_test, thresholds_test = precision_recall_curve(y_test, proba_test)\n",
    "# Point obtenu par application du seuil sur test\n",
    "y_pred_custom = (proba_test >= best_thr).astype(int)\n",
    "tp = ((y_test==1) & (y_pred_custom==1)).sum()\n",
    "fp = ((y_test==0) & (y_pred_custom==1)).sum()\n",
    "fn = ((y_test==1) & (y_pred_custom==0)).sum()\n",
    "prec_pt = tp / (tp + fp)\n",
    "rec_pt  = tp / (tp + fn)\n",
    "plt.plot(recall_test, precision_test, label=\"Courbe PR (Test)\")\n",
    "plt.scatter(rec_pt, prec_pt, color=\"red\", zorder=5, label=f\"Seuil Fbeta (val) = {best_thr:.2f}\")\n",
    "plt.text(0.6, 0.2, f\"AP = {ap_test:.3f}\", fontsize=10, bbox=dict(facecolor='white', alpha=0.6))\n",
    "plt.xlabel(\"Recall\")\n",
    "plt.ylabel(\"Precision\")\n",
    "plt.title(\"Precision-Recall Curve (Test)\")\n",
    "plt.grid()\n",
    "plt.legend()\n",
    "plt.tight_layout()\n",
    "plt.show()"
   ]
  },
  {
   "cell_type": "markdown",
   "metadata": {},
   "source": [
    "* Sur ce graphique nous retrouvons notre recall en abscisse et notre precision en ordonnée. Cette courbe représente le compromis entre le rappel et la précision. Chaque point de la courbe correspond à un seuil de décision différent.\n",
    "* AP=0.555, le modèle fait mieux qu’un tirage aléatoire, mais il reste beaucoup de marge.\n",
    "* Le point rouge correspond au seuil trouvé sur la validation (fbeta, donc favorisant le rappel) qui est donc de 0.44, il se trouve donc un peu plus bas que le seuil de standard de 0.50. Le modèle va chercher un score de probabilité plus bas pour récupérer des vrais positifs."
   ]
  },
  {
   "cell_type": "markdown",
   "metadata": {},
   "source": [
    "### Regardons à présent la différence de notre métrique de la balanced accuracy, entre le seuil de base et le seuil optimal calculé avec fbeta"
   ]
  },
  {
   "cell_type": "code",
   "execution_count": 13,
   "metadata": {},
   "outputs": [
    {
     "name": "stdout",
     "output_type": "stream",
     "text": [
      "=== balanced accuracy score - TEST (0.5) ===\n",
      "0.733\n",
      "=== balanced accuracy score - TEST (seuil F2.0 VALIDATION) ===\n",
      "0.741\n"
     ]
    }
   ],
   "source": [
    "print(\"=== balanced accuracy score - TEST (0.5) ===\")\n",
    "print(round(balanced_accuracy_score(y_test, y_pred_test), 3))\n",
    "print(f\"=== balanced accuracy score - TEST (seuil F{beta:.1f} VALIDATION) ===\")\n",
    "print(round(balanced_accuracy_score(y_test, y_pred_custom), 3))"
   ]
  },
  {
   "cell_type": "markdown",
   "metadata": {},
   "source": [
    "balanced_accuracy = est la moyenne entre la sensibilité et la spécificité, qui mesure la précision moyenne obtenue à partir des classes minoritaires et majoritaires.\n",
    "On peut observer une légère augmentation de la précision moyenne en passant de 0.733 à 0.741 avec la seuil optimal."
   ]
  },
  {
   "cell_type": "markdown",
   "metadata": {},
   "source": [
    "### On peut regarder les classification report du train/test à 0.5/test avec le seuil optimal"
   ]
  },
  {
   "cell_type": "code",
   "execution_count": 15,
   "metadata": {},
   "outputs": [
    {
     "name": "stdout",
     "output_type": "stream",
     "text": [
      "=== Classification Report - TRAIN ===\n",
      "              precision    recall  f1-score   support\n",
      "\n",
      "           0      0.952     0.826     0.884       986\n",
      "           1      0.464     0.784     0.583       190\n",
      "\n",
      "    accuracy                          0.819      1176\n",
      "   macro avg      0.708     0.805     0.734      1176\n",
      "weighted avg      0.873     0.819     0.836      1176\n",
      "\n",
      "=== Classification Report - TEST (0.5) ===\n",
      "              precision    recall  f1-score   support\n",
      "\n",
      "           0      0.926     0.806     0.861       247\n",
      "           1      0.392     0.660     0.492        47\n",
      "\n",
      "    accuracy                          0.782       294\n",
      "   macro avg      0.659     0.733     0.677       294\n",
      "weighted avg      0.840     0.782     0.802       294\n",
      "\n",
      "=== Classification Report — TEST (seuil F2.0 VALIDATION) ===\n",
      "              precision    recall  f1-score   support\n",
      "\n",
      "           0      0.941     0.717     0.814       247\n",
      "           1      0.340     0.766     0.471        47\n",
      "\n",
      "    accuracy                          0.724       294\n",
      "   macro avg      0.641     0.741     0.642       294\n",
      "weighted avg      0.845     0.724     0.759       294\n",
      "\n"
     ]
    }
   ],
   "source": [
    "print(\"=== Classification Report - TRAIN ===\")\n",
    "print(classification_report(y_train, y_pred_train, digits=3))\n",
    "print(\"=== Classification Report - TEST (0.5) ===\")\n",
    "print(classification_report(y_test, y_pred_test, digits=3))\n",
    "print(f\"=== Classification Report — TEST (seuil F{beta:.1f} VALIDATION) ===\")\n",
    "print(classification_report(y_test, y_pred_custom, digits=3))"
   ]
  },
  {
   "cell_type": "markdown",
   "metadata": {},
   "source": [
    "On peut observer une amélioration de la captation de vraies prositifs avec le seuil optimal en passant d'un recall de 0.66 à 0.77 avec le sacrifice de la précision, en passant de de 0.39 à 0.34."
   ]
  },
  {
   "cell_type": "markdown",
   "metadata": {},
   "source": [
    "### On peut analyser plus finement les résultats avec une comparaison des matrices de confusion"
   ]
  },
  {
   "cell_type": "code",
   "execution_count": 18,
   "metadata": {},
   "outputs": [
    {
     "name": "stdout",
     "output_type": "stream",
     "text": [
      "=== Matrice de confusion - TEST (0.5) ===\n",
      "[[199  48]\n",
      " [ 16  31]]\n",
      "=== Matrice de confusion - TEST (seuil F2.0 VALIDATION) ===\n",
      "[[177  70]\n",
      " [ 11  36]]\n"
     ]
    }
   ],
   "source": [
    "cm_test  = confusion_matrix(y_test, y_pred_test)\n",
    "print(\"=== Matrice de confusion - TEST (0.5) ===\")\n",
    "print(cm_test)\n",
    "\n",
    "cm_test_optimal  = confusion_matrix(y_test, y_pred_custom)\n",
    "print(f\"=== Matrice de confusion - TEST (seuil F{beta:.1f} VALIDATION) ===\")\n",
    "print(cm_test_optimal)"
   ]
  },
  {
   "cell_type": "markdown",
   "metadata": {},
   "source": [
    "* On voit bien le nombre de classe 1 du seuil optimal > classe 1 seuil de base : 36 vs 31\n",
    "* A contrario on constate beaucoup plus de faux positifs : 70 vs 48"
   ]
  },
  {
   "cell_type": "markdown",
   "metadata": {},
   "source": [
    "#### Ici le choix de mettre l'accent sur le recall nous donne un modèle capable de retrouver plus de départs au détriment d'une meilleure précision. L'objectif de la mission est de réaliser un modèle de classification capable de scorer la probabilité de départ d'un salarié afin d'en déterminer les causes potentielles. Afin de mieux comprendre les démissions, il faut donc réussir à retrouver le maximum de départs ce que nous aide à faire ce seuil."
   ]
  }
 ],
 "metadata": {
  "kernelspec": {
   "display_name": "Classifiez_automatiquement_des_informations",
   "language": "python",
   "name": "python3"
  },
  "language_info": {
   "codemirror_mode": {
    "name": "ipython",
    "version": 3
   },
   "file_extension": ".py",
   "mimetype": "text/x-python",
   "name": "python",
   "nbconvert_exporter": "python",
   "pygments_lexer": "ipython3",
   "version": "3.12.7"
  }
 },
 "nbformat": 4,
 "nbformat_minor": 2
}
