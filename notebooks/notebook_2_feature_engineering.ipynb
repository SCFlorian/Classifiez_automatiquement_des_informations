{
 "cells": [
  {
   "cell_type": "markdown",
   "metadata": {},
   "source": [
    "# Mission - Classifiez automatiquement des informations\n",
    "# Partie 1 - Identifiez les causes d'attrition au sein d'une ESN"
   ]
  },
  {
   "cell_type": "markdown",
   "metadata": {},
   "source": [
    "Vous êtes mandaté en tant que Consultant Data Scientist par le département RH de votre client. Il s’agit de l'ESN TechNova Partners, spécialisée dans le conseil en transformation digitale et la vente d’applications en SaaS.\n",
    " \n",
    "Ils font face à un turnover plus élevé que d'habitude et ils souhaitent identifier les causes racines potentielles derrière ces démissions."
   ]
  },
  {
   "cell_type": "markdown",
   "metadata": {},
   "source": [
    "## Étape 2 - Préparez la donnée pour la modélisation"
   ]
  },
  {
   "cell_type": "markdown",
   "metadata": {},
   "source": [
    "#### Importation des librairies"
   ]
  },
  {
   "cell_type": "code",
   "execution_count": 1,
   "metadata": {},
   "outputs": [],
   "source": [
    "# Librairies \"classiques\"\n",
    "import pandas as pd\n",
    "import numpy as np\n",
    "import matplotlib.pyplot as plt\n",
    "import seaborn as sns\n",
    "import plotly.express as px\n",
    "import plotly.io as pio\n",
    "from IPython.display import Image, display\n",
    "\n",
    "# Librairies scikit-learn\n",
    "from sklearn.model_selection import (\n",
    "    train_test_split,\n",
    "    GridSearchCV, \n",
    "    cross_validate,\n",
    ")\n",
    "from sklearn.metrics import mean_squared_error, r2_score, mean_absolute_error \n",
    "from sklearn.inspection import permutation_importance\n",
    "\n",
    "#Preprocess\n",
    "from sklearn.compose import ColumnTransformer\n",
    "from sklearn.preprocessing import LabelEncoder, OneHotEncoder, StandardScaler\n",
    "\n",
    "#Modèles\n",
    "from sklearn.dummy import DummyRegressor\n",
    "from sklearn.linear_model import LinearRegression\n",
    "from sklearn.svm import SVR\n",
    "from sklearn.ensemble import RandomForestRegressor"
   ]
  },
  {
   "cell_type": "markdown",
   "metadata": {},
   "source": [
    "### On reprend les éléments du précédent notebook"
   ]
  },
  {
   "cell_type": "code",
   "execution_count": 2,
   "metadata": {},
   "outputs": [],
   "source": [
    "donnees_features = pd.read_csv(\"Data/Projet_4_etape1_clean.csv\")"
   ]
  },
  {
   "cell_type": "markdown",
   "metadata": {},
   "source": [
    "#### Petit check"
   ]
  },
  {
   "cell_type": "code",
   "execution_count": 3,
   "metadata": {},
   "outputs": [
    {
     "name": "stdout",
     "output_type": "stream",
     "text": [
      "<class 'pandas.core.frame.DataFrame'>\n",
      "RangeIndex: 1470 entries, 0 to 1469\n",
      "Data columns (total 20 columns):\n",
      " #   Column                                    Non-Null Count  Dtype \n",
      "---  ------                                    --------------  ----- \n",
      " 0   id_employee                               1470 non-null   int64 \n",
      " 1   age                                       1470 non-null   int64 \n",
      " 2   genre                                     1470 non-null   object\n",
      " 3   revenu_mensuel                            1470 non-null   int64 \n",
      " 4   statut_marital                            1470 non-null   object\n",
      " 5   poste                                     1470 non-null   object\n",
      " 6   nombre_experiences_precedentes            1470 non-null   int64 \n",
      " 7   annee_experience_totale                   1470 non-null   int64 \n",
      " 8   annees_dans_l_entreprise                  1470 non-null   int64 \n",
      " 9   satisfaction_employee_environnement       1470 non-null   int64 \n",
      " 10  satisfaction_employee_nature_travail      1470 non-null   int64 \n",
      " 11  heure_supplementaires                     1470 non-null   object\n",
      " 12  augmentation_salaire_precedente_pourcent  1470 non-null   int64 \n",
      " 13  a_quitte_l_entreprise                     1470 non-null   object\n",
      " 14  nombre_participation_pee                  1470 non-null   int64 \n",
      " 15  nb_formations_suivies                     1470 non-null   int64 \n",
      " 16  distance_domicile_travail                 1470 non-null   int64 \n",
      " 17  niveau_education                          1470 non-null   int64 \n",
      " 18  frequence_deplacement                     1470 non-null   object\n",
      " 19  annees_depuis_la_derniere_promotion       1470 non-null   int64 \n",
      "dtypes: int64(14), object(6)\n",
      "memory usage: 229.8+ KB\n"
     ]
    }
   ],
   "source": [
    "donnees_features.info()"
   ]
  },
  {
   "cell_type": "markdown",
   "metadata": {},
   "source": [
    "* Petit récapitulatif"
   ]
  },
  {
   "cell_type": "code",
   "execution_count": 5,
   "metadata": {},
   "outputs": [
    {
     "name": "stdout",
     "output_type": "stream",
     "text": [
      "Nous avons 1470 lignes et 20 colonnes avant transformation\n"
     ]
    }
   ],
   "source": [
    "shape_donnees_features = donnees_features.shape\n",
    "print(\"Nous avons\", shape_donnees_features[0],\"lignes et\",shape_donnees_features[1],\"colonnes avant transformation\")"
   ]
  },
  {
   "cell_type": "markdown",
   "metadata": {},
   "source": [
    "#### On vérifie l'importation"
   ]
  },
  {
   "cell_type": "code",
   "execution_count": 6,
   "metadata": {},
   "outputs": [
    {
     "data": {
      "text/html": [
       "<div>\n",
       "<style scoped>\n",
       "    .dataframe tbody tr th:only-of-type {\n",
       "        vertical-align: middle;\n",
       "    }\n",
       "\n",
       "    .dataframe tbody tr th {\n",
       "        vertical-align: top;\n",
       "    }\n",
       "\n",
       "    .dataframe thead th {\n",
       "        text-align: right;\n",
       "    }\n",
       "</style>\n",
       "<table border=\"1\" class=\"dataframe\">\n",
       "  <thead>\n",
       "    <tr style=\"text-align: right;\">\n",
       "      <th></th>\n",
       "      <th>id_employee</th>\n",
       "      <th>age</th>\n",
       "      <th>genre</th>\n",
       "      <th>revenu_mensuel</th>\n",
       "      <th>statut_marital</th>\n",
       "      <th>poste</th>\n",
       "      <th>nombre_experiences_precedentes</th>\n",
       "      <th>annee_experience_totale</th>\n",
       "      <th>annees_dans_l_entreprise</th>\n",
       "      <th>satisfaction_employee_environnement</th>\n",
       "      <th>satisfaction_employee_nature_travail</th>\n",
       "      <th>heure_supplementaires</th>\n",
       "      <th>augmentation_salaire_precedente_pourcent</th>\n",
       "      <th>a_quitte_l_entreprise</th>\n",
       "      <th>nombre_participation_pee</th>\n",
       "      <th>nb_formations_suivies</th>\n",
       "      <th>distance_domicile_travail</th>\n",
       "      <th>niveau_education</th>\n",
       "      <th>frequence_deplacement</th>\n",
       "      <th>annees_depuis_la_derniere_promotion</th>\n",
       "    </tr>\n",
       "  </thead>\n",
       "  <tbody>\n",
       "    <tr>\n",
       "      <th>0</th>\n",
       "      <td>1</td>\n",
       "      <td>41</td>\n",
       "      <td>F</td>\n",
       "      <td>5993</td>\n",
       "      <td>Celibataire</td>\n",
       "      <td>CadreCommercial</td>\n",
       "      <td>8</td>\n",
       "      <td>8</td>\n",
       "      <td>6</td>\n",
       "      <td>2</td>\n",
       "      <td>4</td>\n",
       "      <td>Oui</td>\n",
       "      <td>11</td>\n",
       "      <td>Oui</td>\n",
       "      <td>0</td>\n",
       "      <td>0</td>\n",
       "      <td>1</td>\n",
       "      <td>2</td>\n",
       "      <td>Occasionnel</td>\n",
       "      <td>0</td>\n",
       "    </tr>\n",
       "    <tr>\n",
       "      <th>1</th>\n",
       "      <td>2</td>\n",
       "      <td>49</td>\n",
       "      <td>M</td>\n",
       "      <td>5130</td>\n",
       "      <td>Marie</td>\n",
       "      <td>AssistantdeDirection</td>\n",
       "      <td>1</td>\n",
       "      <td>10</td>\n",
       "      <td>10</td>\n",
       "      <td>3</td>\n",
       "      <td>2</td>\n",
       "      <td>Non</td>\n",
       "      <td>23</td>\n",
       "      <td>Non</td>\n",
       "      <td>1</td>\n",
       "      <td>3</td>\n",
       "      <td>8</td>\n",
       "      <td>1</td>\n",
       "      <td>Frequent</td>\n",
       "      <td>1</td>\n",
       "    </tr>\n",
       "    <tr>\n",
       "      <th>2</th>\n",
       "      <td>4</td>\n",
       "      <td>37</td>\n",
       "      <td>M</td>\n",
       "      <td>2090</td>\n",
       "      <td>Celibataire</td>\n",
       "      <td>Consultant</td>\n",
       "      <td>6</td>\n",
       "      <td>7</td>\n",
       "      <td>0</td>\n",
       "      <td>4</td>\n",
       "      <td>3</td>\n",
       "      <td>Oui</td>\n",
       "      <td>15</td>\n",
       "      <td>Oui</td>\n",
       "      <td>0</td>\n",
       "      <td>3</td>\n",
       "      <td>2</td>\n",
       "      <td>2</td>\n",
       "      <td>Occasionnel</td>\n",
       "      <td>0</td>\n",
       "    </tr>\n",
       "    <tr>\n",
       "      <th>3</th>\n",
       "      <td>5</td>\n",
       "      <td>33</td>\n",
       "      <td>F</td>\n",
       "      <td>2909</td>\n",
       "      <td>Marie</td>\n",
       "      <td>AssistantdeDirection</td>\n",
       "      <td>1</td>\n",
       "      <td>8</td>\n",
       "      <td>8</td>\n",
       "      <td>4</td>\n",
       "      <td>3</td>\n",
       "      <td>Oui</td>\n",
       "      <td>11</td>\n",
       "      <td>Non</td>\n",
       "      <td>0</td>\n",
       "      <td>3</td>\n",
       "      <td>3</td>\n",
       "      <td>4</td>\n",
       "      <td>Frequent</td>\n",
       "      <td>3</td>\n",
       "    </tr>\n",
       "    <tr>\n",
       "      <th>4</th>\n",
       "      <td>7</td>\n",
       "      <td>27</td>\n",
       "      <td>M</td>\n",
       "      <td>3468</td>\n",
       "      <td>Marie</td>\n",
       "      <td>Consultant</td>\n",
       "      <td>9</td>\n",
       "      <td>6</td>\n",
       "      <td>2</td>\n",
       "      <td>1</td>\n",
       "      <td>2</td>\n",
       "      <td>Non</td>\n",
       "      <td>12</td>\n",
       "      <td>Non</td>\n",
       "      <td>1</td>\n",
       "      <td>3</td>\n",
       "      <td>2</td>\n",
       "      <td>1</td>\n",
       "      <td>Occasionnel</td>\n",
       "      <td>2</td>\n",
       "    </tr>\n",
       "  </tbody>\n",
       "</table>\n",
       "</div>"
      ],
      "text/plain": [
       "   id_employee  age genre  revenu_mensuel statut_marital  \\\n",
       "0            1   41     F            5993    Celibataire   \n",
       "1            2   49     M            5130          Marie   \n",
       "2            4   37     M            2090    Celibataire   \n",
       "3            5   33     F            2909          Marie   \n",
       "4            7   27     M            3468          Marie   \n",
       "\n",
       "                  poste  nombre_experiences_precedentes  \\\n",
       "0       CadreCommercial                               8   \n",
       "1  AssistantdeDirection                               1   \n",
       "2            Consultant                               6   \n",
       "3  AssistantdeDirection                               1   \n",
       "4            Consultant                               9   \n",
       "\n",
       "   annee_experience_totale  annees_dans_l_entreprise  \\\n",
       "0                        8                         6   \n",
       "1                       10                        10   \n",
       "2                        7                         0   \n",
       "3                        8                         8   \n",
       "4                        6                         2   \n",
       "\n",
       "   satisfaction_employee_environnement  satisfaction_employee_nature_travail  \\\n",
       "0                                    2                                     4   \n",
       "1                                    3                                     2   \n",
       "2                                    4                                     3   \n",
       "3                                    4                                     3   \n",
       "4                                    1                                     2   \n",
       "\n",
       "  heure_supplementaires  augmentation_salaire_precedente_pourcent  \\\n",
       "0                   Oui                                        11   \n",
       "1                   Non                                        23   \n",
       "2                   Oui                                        15   \n",
       "3                   Oui                                        11   \n",
       "4                   Non                                        12   \n",
       "\n",
       "  a_quitte_l_entreprise  nombre_participation_pee  nb_formations_suivies  \\\n",
       "0                   Oui                         0                      0   \n",
       "1                   Non                         1                      3   \n",
       "2                   Oui                         0                      3   \n",
       "3                   Non                         0                      3   \n",
       "4                   Non                         1                      3   \n",
       "\n",
       "   distance_domicile_travail  niveau_education frequence_deplacement  \\\n",
       "0                          1                 2           Occasionnel   \n",
       "1                          8                 1              Frequent   \n",
       "2                          2                 2           Occasionnel   \n",
       "3                          3                 4              Frequent   \n",
       "4                          2                 1           Occasionnel   \n",
       "\n",
       "   annees_depuis_la_derniere_promotion  \n",
       "0                                    0  \n",
       "1                                    1  \n",
       "2                                    0  \n",
       "3                                    3  \n",
       "4                                    2  "
      ]
     },
     "execution_count": 6,
     "metadata": {},
     "output_type": "execute_result"
    }
   ],
   "source": [
    "donnees_features.head()"
   ]
  },
  {
   "cell_type": "markdown",
   "metadata": {},
   "source": [
    "#### Regardons la distribution de notre variable continue revenu_mensuel"
   ]
  },
  {
   "cell_type": "code",
   "execution_count": 7,
   "metadata": {},
   "outputs": [
    {
     "data": {
      "application/vnd.plotly.v1+json": {
       "config": {
        "plotlyServerURL": "https://plot.ly"
       },
       "data": [
        {
         "bingroup": "x",
         "hovertemplate": "a_quitte_l_entreprise=Oui<br>revenu_mensuel=%{x}<br>count=%{y}<extra></extra>",
         "legendgroup": "Oui",
         "marker": {
          "color": "#636efa",
          "pattern": {
           "shape": ""
          }
         },
         "name": "Oui",
         "orientation": "v",
         "showlegend": true,
         "type": "histogram",
         "x": {
          "bdata": "aRcqCOwHTw2QC08PJgj1CHsK9QhZTAUVcQ08DZMlGQhuC3AWuhdjExwYSCiLBs8RmiloEBUJTgREDBwXERrXHaAoYQooGgoIVQmECZMKkg5AJ5cNnQ1JLlkMRQnEFowFTROIDXYURwh+CCMLiyTsGJwKuBQeDO0Ivw+CDC8J8gkECio1UA1gJt4mNg+1ClYHJAljEkYL8QeJEOELvhDxAxQN4RGMGqgIxwp+Cv0Yk03OFEEGDwnMFC5LHhHmHSgUPgnmB/AK6wpMCfwHhQpLENoKZAltCUkInQtVKHEprwmKMxEJZAlUCJ8OKAp2CakSaROFTbcK4hL6BxMJiAWdCRIi8ihuJZwRaw5JCQkJJAp4EokvcAcgIDIKqBy+NdMJ4hR4CyULOwiiCEMHXgSISUEKKh8LDRMTQA+GI/4g/gg6CRgnfzXhCgYSIxhaCbwQgR1PBe0EMBFwJz4OFh2KDrYKXQuFFvcRZAwBCjoJ4gf0D/IlGgi5J/cSaAkhBkIoQBV2COURlQ9fCnEF4wgTBogy9hdPGoQIyAp0IeEfhQl3Cl4JJgm1FuIUdRBkCN4ijAsfCbMmhwmSHDkEqAkDCRsKQwR+JoAJLws/CfEV0Cj+BrMSIwlIGmYq",
          "dtype": "i2"
         },
         "xaxis": "x",
         "yaxis": "y"
        },
        {
         "bingroup": "x",
         "hovertemplate": "a_quitte_l_entreprise=Non<br>revenu_mensuel=%{x}<br>count=%{y}<extra></extra>",
         "legendgroup": "Non",
         "marker": {
          "color": "#EF553B",
          "pattern": {
           "shape": ""
          }
         },
         "name": "Non",
         "orientation": "v",
         "showlegend": true,
         "type": "histogram",
         "x": {
          "bdata": "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",
          "dtype": "i2"
         },
         "xaxis": "x",
         "yaxis": "y"
        }
       ],
       "layout": {
        "barmode": "relative",
        "legend": {
         "title": {
          "text": "a_quitte_l_entreprise"
         },
         "tracegroupgap": 0
        },
        "margin": {
         "t": 60
        },
        "template": {
         "data": {
          "bar": [
           {
            "error_x": {
             "color": "#2a3f5f"
            },
            "error_y": {
             "color": "#2a3f5f"
            },
            "marker": {
             "line": {
              "color": "#E5ECF6",
              "width": 0.5
             },
             "pattern": {
              "fillmode": "overlay",
              "size": 10,
              "solidity": 0.2
             }
            },
            "type": "bar"
           }
          ],
          "barpolar": [
           {
            "marker": {
             "line": {
              "color": "#E5ECF6",
              "width": 0.5
             },
             "pattern": {
              "fillmode": "overlay",
              "size": 10,
              "solidity": 0.2
             }
            },
            "type": "barpolar"
           }
          ],
          "carpet": [
           {
            "aaxis": {
             "endlinecolor": "#2a3f5f",
             "gridcolor": "white",
             "linecolor": "white",
             "minorgridcolor": "white",
             "startlinecolor": "#2a3f5f"
            },
            "baxis": {
             "endlinecolor": "#2a3f5f",
             "gridcolor": "white",
             "linecolor": "white",
             "minorgridcolor": "white",
             "startlinecolor": "#2a3f5f"
            },
            "type": "carpet"
           }
          ],
          "choropleth": [
           {
            "colorbar": {
             "outlinewidth": 0,
             "ticks": ""
            },
            "type": "choropleth"
           }
          ],
          "contour": [
           {
            "colorbar": {
             "outlinewidth": 0,
             "ticks": ""
            },
            "colorscale": [
             [
              0,
              "#0d0887"
             ],
             [
              0.1111111111111111,
              "#46039f"
             ],
             [
              0.2222222222222222,
              "#7201a8"
             ],
             [
              0.3333333333333333,
              "#9c179e"
             ],
             [
              0.4444444444444444,
              "#bd3786"
             ],
             [
              0.5555555555555556,
              "#d8576b"
             ],
             [
              0.6666666666666666,
              "#ed7953"
             ],
             [
              0.7777777777777778,
              "#fb9f3a"
             ],
             [
              0.8888888888888888,
              "#fdca26"
             ],
             [
              1,
              "#f0f921"
             ]
            ],
            "type": "contour"
           }
          ],
          "contourcarpet": [
           {
            "colorbar": {
             "outlinewidth": 0,
             "ticks": ""
            },
            "type": "contourcarpet"
           }
          ],
          "heatmap": [
           {
            "colorbar": {
             "outlinewidth": 0,
             "ticks": ""
            },
            "colorscale": [
             [
              0,
              "#0d0887"
             ],
             [
              0.1111111111111111,
              "#46039f"
             ],
             [
              0.2222222222222222,
              "#7201a8"
             ],
             [
              0.3333333333333333,
              "#9c179e"
             ],
             [
              0.4444444444444444,
              "#bd3786"
             ],
             [
              0.5555555555555556,
              "#d8576b"
             ],
             [
              0.6666666666666666,
              "#ed7953"
             ],
             [
              0.7777777777777778,
              "#fb9f3a"
             ],
             [
              0.8888888888888888,
              "#fdca26"
             ],
             [
              1,
              "#f0f921"
             ]
            ],
            "type": "heatmap"
           }
          ],
          "histogram": [
           {
            "marker": {
             "pattern": {
              "fillmode": "overlay",
              "size": 10,
              "solidity": 0.2
             }
            },
            "type": "histogram"
           }
          ],
          "histogram2d": [
           {
            "colorbar": {
             "outlinewidth": 0,
             "ticks": ""
            },
            "colorscale": [
             [
              0,
              "#0d0887"
             ],
             [
              0.1111111111111111,
              "#46039f"
             ],
             [
              0.2222222222222222,
              "#7201a8"
             ],
             [
              0.3333333333333333,
              "#9c179e"
             ],
             [
              0.4444444444444444,
              "#bd3786"
             ],
             [
              0.5555555555555556,
              "#d8576b"
             ],
             [
              0.6666666666666666,
              "#ed7953"
             ],
             [
              0.7777777777777778,
              "#fb9f3a"
             ],
             [
              0.8888888888888888,
              "#fdca26"
             ],
             [
              1,
              "#f0f921"
             ]
            ],
            "type": "histogram2d"
           }
          ],
          "histogram2dcontour": [
           {
            "colorbar": {
             "outlinewidth": 0,
             "ticks": ""
            },
            "colorscale": [
             [
              0,
              "#0d0887"
             ],
             [
              0.1111111111111111,
              "#46039f"
             ],
             [
              0.2222222222222222,
              "#7201a8"
             ],
             [
              0.3333333333333333,
              "#9c179e"
             ],
             [
              0.4444444444444444,
              "#bd3786"
             ],
             [
              0.5555555555555556,
              "#d8576b"
             ],
             [
              0.6666666666666666,
              "#ed7953"
             ],
             [
              0.7777777777777778,
              "#fb9f3a"
             ],
             [
              0.8888888888888888,
              "#fdca26"
             ],
             [
              1,
              "#f0f921"
             ]
            ],
            "type": "histogram2dcontour"
           }
          ],
          "mesh3d": [
           {
            "colorbar": {
             "outlinewidth": 0,
             "ticks": ""
            },
            "type": "mesh3d"
           }
          ],
          "parcoords": [
           {
            "line": {
             "colorbar": {
              "outlinewidth": 0,
              "ticks": ""
             }
            },
            "type": "parcoords"
           }
          ],
          "pie": [
           {
            "automargin": true,
            "type": "pie"
           }
          ],
          "scatter": [
           {
            "fillpattern": {
             "fillmode": "overlay",
             "size": 10,
             "solidity": 0.2
            },
            "type": "scatter"
           }
          ],
          "scatter3d": [
           {
            "line": {
             "colorbar": {
              "outlinewidth": 0,
              "ticks": ""
             }
            },
            "marker": {
             "colorbar": {
              "outlinewidth": 0,
              "ticks": ""
             }
            },
            "type": "scatter3d"
           }
          ],
          "scattercarpet": [
           {
            "marker": {
             "colorbar": {
              "outlinewidth": 0,
              "ticks": ""
             }
            },
            "type": "scattercarpet"
           }
          ],
          "scattergeo": [
           {
            "marker": {
             "colorbar": {
              "outlinewidth": 0,
              "ticks": ""
             }
            },
            "type": "scattergeo"
           }
          ],
          "scattergl": [
           {
            "marker": {
             "colorbar": {
              "outlinewidth": 0,
              "ticks": ""
             }
            },
            "type": "scattergl"
           }
          ],
          "scattermap": [
           {
            "marker": {
             "colorbar": {
              "outlinewidth": 0,
              "ticks": ""
             }
            },
            "type": "scattermap"
           }
          ],
          "scattermapbox": [
           {
            "marker": {
             "colorbar": {
              "outlinewidth": 0,
              "ticks": ""
             }
            },
            "type": "scattermapbox"
           }
          ],
          "scatterpolar": [
           {
            "marker": {
             "colorbar": {
              "outlinewidth": 0,
              "ticks": ""
             }
            },
            "type": "scatterpolar"
           }
          ],
          "scatterpolargl": [
           {
            "marker": {
             "colorbar": {
              "outlinewidth": 0,
              "ticks": ""
             }
            },
            "type": "scatterpolargl"
           }
          ],
          "scatterternary": [
           {
            "marker": {
             "colorbar": {
              "outlinewidth": 0,
              "ticks": ""
             }
            },
            "type": "scatterternary"
           }
          ],
          "surface": [
           {
            "colorbar": {
             "outlinewidth": 0,
             "ticks": ""
            },
            "colorscale": [
             [
              0,
              "#0d0887"
             ],
             [
              0.1111111111111111,
              "#46039f"
             ],
             [
              0.2222222222222222,
              "#7201a8"
             ],
             [
              0.3333333333333333,
              "#9c179e"
             ],
             [
              0.4444444444444444,
              "#bd3786"
             ],
             [
              0.5555555555555556,
              "#d8576b"
             ],
             [
              0.6666666666666666,
              "#ed7953"
             ],
             [
              0.7777777777777778,
              "#fb9f3a"
             ],
             [
              0.8888888888888888,
              "#fdca26"
             ],
             [
              1,
              "#f0f921"
             ]
            ],
            "type": "surface"
           }
          ],
          "table": [
           {
            "cells": {
             "fill": {
              "color": "#EBF0F8"
             },
             "line": {
              "color": "white"
             }
            },
            "header": {
             "fill": {
              "color": "#C8D4E3"
             },
             "line": {
              "color": "white"
             }
            },
            "type": "table"
           }
          ]
         },
         "layout": {
          "annotationdefaults": {
           "arrowcolor": "#2a3f5f",
           "arrowhead": 0,
           "arrowwidth": 1
          },
          "autotypenumbers": "strict",
          "coloraxis": {
           "colorbar": {
            "outlinewidth": 0,
            "ticks": ""
           }
          },
          "colorscale": {
           "diverging": [
            [
             0,
             "#8e0152"
            ],
            [
             0.1,
             "#c51b7d"
            ],
            [
             0.2,
             "#de77ae"
            ],
            [
             0.3,
             "#f1b6da"
            ],
            [
             0.4,
             "#fde0ef"
            ],
            [
             0.5,
             "#f7f7f7"
            ],
            [
             0.6,
             "#e6f5d0"
            ],
            [
             0.7,
             "#b8e186"
            ],
            [
             0.8,
             "#7fbc41"
            ],
            [
             0.9,
             "#4d9221"
            ],
            [
             1,
             "#276419"
            ]
           ],
           "sequential": [
            [
             0,
             "#0d0887"
            ],
            [
             0.1111111111111111,
             "#46039f"
            ],
            [
             0.2222222222222222,
             "#7201a8"
            ],
            [
             0.3333333333333333,
             "#9c179e"
            ],
            [
             0.4444444444444444,
             "#bd3786"
            ],
            [
             0.5555555555555556,
             "#d8576b"
            ],
            [
             0.6666666666666666,
             "#ed7953"
            ],
            [
             0.7777777777777778,
             "#fb9f3a"
            ],
            [
             0.8888888888888888,
             "#fdca26"
            ],
            [
             1,
             "#f0f921"
            ]
           ],
           "sequentialminus": [
            [
             0,
             "#0d0887"
            ],
            [
             0.1111111111111111,
             "#46039f"
            ],
            [
             0.2222222222222222,
             "#7201a8"
            ],
            [
             0.3333333333333333,
             "#9c179e"
            ],
            [
             0.4444444444444444,
             "#bd3786"
            ],
            [
             0.5555555555555556,
             "#d8576b"
            ],
            [
             0.6666666666666666,
             "#ed7953"
            ],
            [
             0.7777777777777778,
             "#fb9f3a"
            ],
            [
             0.8888888888888888,
             "#fdca26"
            ],
            [
             1,
             "#f0f921"
            ]
           ]
          },
          "colorway": [
           "#636efa",
           "#EF553B",
           "#00cc96",
           "#ab63fa",
           "#FFA15A",
           "#19d3f3",
           "#FF6692",
           "#B6E880",
           "#FF97FF",
           "#FECB52"
          ],
          "font": {
           "color": "#2a3f5f"
          },
          "geo": {
           "bgcolor": "white",
           "lakecolor": "white",
           "landcolor": "#E5ECF6",
           "showlakes": true,
           "showland": true,
           "subunitcolor": "white"
          },
          "hoverlabel": {
           "align": "left"
          },
          "hovermode": "closest",
          "mapbox": {
           "style": "light"
          },
          "paper_bgcolor": "white",
          "plot_bgcolor": "#E5ECF6",
          "polar": {
           "angularaxis": {
            "gridcolor": "white",
            "linecolor": "white",
            "ticks": ""
           },
           "bgcolor": "#E5ECF6",
           "radialaxis": {
            "gridcolor": "white",
            "linecolor": "white",
            "ticks": ""
           }
          },
          "scene": {
           "xaxis": {
            "backgroundcolor": "#E5ECF6",
            "gridcolor": "white",
            "gridwidth": 2,
            "linecolor": "white",
            "showbackground": true,
            "ticks": "",
            "zerolinecolor": "white"
           },
           "yaxis": {
            "backgroundcolor": "#E5ECF6",
            "gridcolor": "white",
            "gridwidth": 2,
            "linecolor": "white",
            "showbackground": true,
            "ticks": "",
            "zerolinecolor": "white"
           },
           "zaxis": {
            "backgroundcolor": "#E5ECF6",
            "gridcolor": "white",
            "gridwidth": 2,
            "linecolor": "white",
            "showbackground": true,
            "ticks": "",
            "zerolinecolor": "white"
           }
          },
          "shapedefaults": {
           "line": {
            "color": "#2a3f5f"
           }
          },
          "ternary": {
           "aaxis": {
            "gridcolor": "white",
            "linecolor": "white",
            "ticks": ""
           },
           "baxis": {
            "gridcolor": "white",
            "linecolor": "white",
            "ticks": ""
           },
           "bgcolor": "#E5ECF6",
           "caxis": {
            "gridcolor": "white",
            "linecolor": "white",
            "ticks": ""
           }
          },
          "title": {
           "x": 0.05
          },
          "xaxis": {
           "automargin": true,
           "gridcolor": "white",
           "linecolor": "white",
           "ticks": "",
           "title": {
            "standoff": 15
           },
           "zerolinecolor": "white",
           "zerolinewidth": 2
          },
          "yaxis": {
           "automargin": true,
           "gridcolor": "white",
           "linecolor": "white",
           "ticks": "",
           "title": {
            "standoff": 15
           },
           "zerolinecolor": "white",
           "zerolinewidth": 2
          }
         }
        },
        "xaxis": {
         "anchor": "y",
         "domain": [
          0,
          1
         ],
         "title": {
          "text": "revenu_mensuel"
         }
        },
        "yaxis": {
         "anchor": "x",
         "domain": [
          0,
          1
         ],
         "title": {
          "text": "count"
         }
        }
       }
      }
     },
     "metadata": {},
     "output_type": "display_data"
    }
   ],
   "source": [
    "fig13 = px.histogram(\n",
    "    donnees_features, x='revenu_mensuel', color ='a_quitte_l_entreprise'\n",
    ")\n",
    "fig13.show()\n",
    "pio.write_image(fig13,\"Graph/graph_etape_2/Histo_Cible_cible_enviro.png\")"
   ]
  },
  {
   "cell_type": "markdown",
   "metadata": {},
   "source": [
    "* La distribution du revenu_mensuel n'est pas linéaire, on voit un étalement sur la droite. L'explication peut être simplement un écart de revenu conséquent avec les différents types de poste. Regardons de plus près avec un boxplot de cette variable."
   ]
  },
  {
   "cell_type": "code",
   "execution_count": 8,
   "metadata": {},
   "outputs": [
    {
     "data": {
      "application/vnd.plotly.v1+json": {
       "config": {
        "plotlyServerURL": "https://plot.ly"
       },
       "data": [
        {
         "alignmentgroup": "True",
         "customdata": {
          "bdata": "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",
          "dtype": "i2",
          "shape": "1470, 1"
         },
         "hovertemplate": "revenu_mensuel=%{x}<br>id_employee=%{customdata[0]}<extra></extra>",
         "legendgroup": "",
         "marker": {
          "color": "#636efa"
         },
         "name": "",
         "notched": false,
         "offsetgroup": "",
         "orientation": "h",
         "showlegend": false,
         "type": "box",
         "x": {
          "bdata": "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",
          "dtype": "i2"
         },
         "x0": " ",
         "xaxis": "x",
         "y0": " ",
         "yaxis": "y"
        }
       ],
       "layout": {
        "boxmode": "group",
        "height": 500,
        "legend": {
         "tracegroupgap": 0
        },
        "template": {
         "data": {
          "bar": [
           {
            "error_x": {
             "color": "#2a3f5f"
            },
            "error_y": {
             "color": "#2a3f5f"
            },
            "marker": {
             "line": {
              "color": "#E5ECF6",
              "width": 0.5
             },
             "pattern": {
              "fillmode": "overlay",
              "size": 10,
              "solidity": 0.2
             }
            },
            "type": "bar"
           }
          ],
          "barpolar": [
           {
            "marker": {
             "line": {
              "color": "#E5ECF6",
              "width": 0.5
             },
             "pattern": {
              "fillmode": "overlay",
              "size": 10,
              "solidity": 0.2
             }
            },
            "type": "barpolar"
           }
          ],
          "carpet": [
           {
            "aaxis": {
             "endlinecolor": "#2a3f5f",
             "gridcolor": "white",
             "linecolor": "white",
             "minorgridcolor": "white",
             "startlinecolor": "#2a3f5f"
            },
            "baxis": {
             "endlinecolor": "#2a3f5f",
             "gridcolor": "white",
             "linecolor": "white",
             "minorgridcolor": "white",
             "startlinecolor": "#2a3f5f"
            },
            "type": "carpet"
           }
          ],
          "choropleth": [
           {
            "colorbar": {
             "outlinewidth": 0,
             "ticks": ""
            },
            "type": "choropleth"
           }
          ],
          "contour": [
           {
            "colorbar": {
             "outlinewidth": 0,
             "ticks": ""
            },
            "colorscale": [
             [
              0,
              "#0d0887"
             ],
             [
              0.1111111111111111,
              "#46039f"
             ],
             [
              0.2222222222222222,
              "#7201a8"
             ],
             [
              0.3333333333333333,
              "#9c179e"
             ],
             [
              0.4444444444444444,
              "#bd3786"
             ],
             [
              0.5555555555555556,
              "#d8576b"
             ],
             [
              0.6666666666666666,
              "#ed7953"
             ],
             [
              0.7777777777777778,
              "#fb9f3a"
             ],
             [
              0.8888888888888888,
              "#fdca26"
             ],
             [
              1,
              "#f0f921"
             ]
            ],
            "type": "contour"
           }
          ],
          "contourcarpet": [
           {
            "colorbar": {
             "outlinewidth": 0,
             "ticks": ""
            },
            "type": "contourcarpet"
           }
          ],
          "heatmap": [
           {
            "colorbar": {
             "outlinewidth": 0,
             "ticks": ""
            },
            "colorscale": [
             [
              0,
              "#0d0887"
             ],
             [
              0.1111111111111111,
              "#46039f"
             ],
             [
              0.2222222222222222,
              "#7201a8"
             ],
             [
              0.3333333333333333,
              "#9c179e"
             ],
             [
              0.4444444444444444,
              "#bd3786"
             ],
             [
              0.5555555555555556,
              "#d8576b"
             ],
             [
              0.6666666666666666,
              "#ed7953"
             ],
             [
              0.7777777777777778,
              "#fb9f3a"
             ],
             [
              0.8888888888888888,
              "#fdca26"
             ],
             [
              1,
              "#f0f921"
             ]
            ],
            "type": "heatmap"
           }
          ],
          "histogram": [
           {
            "marker": {
             "pattern": {
              "fillmode": "overlay",
              "size": 10,
              "solidity": 0.2
             }
            },
            "type": "histogram"
           }
          ],
          "histogram2d": [
           {
            "colorbar": {
             "outlinewidth": 0,
             "ticks": ""
            },
            "colorscale": [
             [
              0,
              "#0d0887"
             ],
             [
              0.1111111111111111,
              "#46039f"
             ],
             [
              0.2222222222222222,
              "#7201a8"
             ],
             [
              0.3333333333333333,
              "#9c179e"
             ],
             [
              0.4444444444444444,
              "#bd3786"
             ],
             [
              0.5555555555555556,
              "#d8576b"
             ],
             [
              0.6666666666666666,
              "#ed7953"
             ],
             [
              0.7777777777777778,
              "#fb9f3a"
             ],
             [
              0.8888888888888888,
              "#fdca26"
             ],
             [
              1,
              "#f0f921"
             ]
            ],
            "type": "histogram2d"
           }
          ],
          "histogram2dcontour": [
           {
            "colorbar": {
             "outlinewidth": 0,
             "ticks": ""
            },
            "colorscale": [
             [
              0,
              "#0d0887"
             ],
             [
              0.1111111111111111,
              "#46039f"
             ],
             [
              0.2222222222222222,
              "#7201a8"
             ],
             [
              0.3333333333333333,
              "#9c179e"
             ],
             [
              0.4444444444444444,
              "#bd3786"
             ],
             [
              0.5555555555555556,
              "#d8576b"
             ],
             [
              0.6666666666666666,
              "#ed7953"
             ],
             [
              0.7777777777777778,
              "#fb9f3a"
             ],
             [
              0.8888888888888888,
              "#fdca26"
             ],
             [
              1,
              "#f0f921"
             ]
            ],
            "type": "histogram2dcontour"
           }
          ],
          "mesh3d": [
           {
            "colorbar": {
             "outlinewidth": 0,
             "ticks": ""
            },
            "type": "mesh3d"
           }
          ],
          "parcoords": [
           {
            "line": {
             "colorbar": {
              "outlinewidth": 0,
              "ticks": ""
             }
            },
            "type": "parcoords"
           }
          ],
          "pie": [
           {
            "automargin": true,
            "type": "pie"
           }
          ],
          "scatter": [
           {
            "fillpattern": {
             "fillmode": "overlay",
             "size": 10,
             "solidity": 0.2
            },
            "type": "scatter"
           }
          ],
          "scatter3d": [
           {
            "line": {
             "colorbar": {
              "outlinewidth": 0,
              "ticks": ""
             }
            },
            "marker": {
             "colorbar": {
              "outlinewidth": 0,
              "ticks": ""
             }
            },
            "type": "scatter3d"
           }
          ],
          "scattercarpet": [
           {
            "marker": {
             "colorbar": {
              "outlinewidth": 0,
              "ticks": ""
             }
            },
            "type": "scattercarpet"
           }
          ],
          "scattergeo": [
           {
            "marker": {
             "colorbar": {
              "outlinewidth": 0,
              "ticks": ""
             }
            },
            "type": "scattergeo"
           }
          ],
          "scattergl": [
           {
            "marker": {
             "colorbar": {
              "outlinewidth": 0,
              "ticks": ""
             }
            },
            "type": "scattergl"
           }
          ],
          "scattermap": [
           {
            "marker": {
             "colorbar": {
              "outlinewidth": 0,
              "ticks": ""
             }
            },
            "type": "scattermap"
           }
          ],
          "scattermapbox": [
           {
            "marker": {
             "colorbar": {
              "outlinewidth": 0,
              "ticks": ""
             }
            },
            "type": "scattermapbox"
           }
          ],
          "scatterpolar": [
           {
            "marker": {
             "colorbar": {
              "outlinewidth": 0,
              "ticks": ""
             }
            },
            "type": "scatterpolar"
           }
          ],
          "scatterpolargl": [
           {
            "marker": {
             "colorbar": {
              "outlinewidth": 0,
              "ticks": ""
             }
            },
            "type": "scatterpolargl"
           }
          ],
          "scatterternary": [
           {
            "marker": {
             "colorbar": {
              "outlinewidth": 0,
              "ticks": ""
             }
            },
            "type": "scatterternary"
           }
          ],
          "surface": [
           {
            "colorbar": {
             "outlinewidth": 0,
             "ticks": ""
            },
            "colorscale": [
             [
              0,
              "#0d0887"
             ],
             [
              0.1111111111111111,
              "#46039f"
             ],
             [
              0.2222222222222222,
              "#7201a8"
             ],
             [
              0.3333333333333333,
              "#9c179e"
             ],
             [
              0.4444444444444444,
              "#bd3786"
             ],
             [
              0.5555555555555556,
              "#d8576b"
             ],
             [
              0.6666666666666666,
              "#ed7953"
             ],
             [
              0.7777777777777778,
              "#fb9f3a"
             ],
             [
              0.8888888888888888,
              "#fdca26"
             ],
             [
              1,
              "#f0f921"
             ]
            ],
            "type": "surface"
           }
          ],
          "table": [
           {
            "cells": {
             "fill": {
              "color": "#EBF0F8"
             },
             "line": {
              "color": "white"
             }
            },
            "header": {
             "fill": {
              "color": "#C8D4E3"
             },
             "line": {
              "color": "white"
             }
            },
            "type": "table"
           }
          ]
         },
         "layout": {
          "annotationdefaults": {
           "arrowcolor": "#2a3f5f",
           "arrowhead": 0,
           "arrowwidth": 1
          },
          "autotypenumbers": "strict",
          "coloraxis": {
           "colorbar": {
            "outlinewidth": 0,
            "ticks": ""
           }
          },
          "colorscale": {
           "diverging": [
            [
             0,
             "#8e0152"
            ],
            [
             0.1,
             "#c51b7d"
            ],
            [
             0.2,
             "#de77ae"
            ],
            [
             0.3,
             "#f1b6da"
            ],
            [
             0.4,
             "#fde0ef"
            ],
            [
             0.5,
             "#f7f7f7"
            ],
            [
             0.6,
             "#e6f5d0"
            ],
            [
             0.7,
             "#b8e186"
            ],
            [
             0.8,
             "#7fbc41"
            ],
            [
             0.9,
             "#4d9221"
            ],
            [
             1,
             "#276419"
            ]
           ],
           "sequential": [
            [
             0,
             "#0d0887"
            ],
            [
             0.1111111111111111,
             "#46039f"
            ],
            [
             0.2222222222222222,
             "#7201a8"
            ],
            [
             0.3333333333333333,
             "#9c179e"
            ],
            [
             0.4444444444444444,
             "#bd3786"
            ],
            [
             0.5555555555555556,
             "#d8576b"
            ],
            [
             0.6666666666666666,
             "#ed7953"
            ],
            [
             0.7777777777777778,
             "#fb9f3a"
            ],
            [
             0.8888888888888888,
             "#fdca26"
            ],
            [
             1,
             "#f0f921"
            ]
           ],
           "sequentialminus": [
            [
             0,
             "#0d0887"
            ],
            [
             0.1111111111111111,
             "#46039f"
            ],
            [
             0.2222222222222222,
             "#7201a8"
            ],
            [
             0.3333333333333333,
             "#9c179e"
            ],
            [
             0.4444444444444444,
             "#bd3786"
            ],
            [
             0.5555555555555556,
             "#d8576b"
            ],
            [
             0.6666666666666666,
             "#ed7953"
            ],
            [
             0.7777777777777778,
             "#fb9f3a"
            ],
            [
             0.8888888888888888,
             "#fdca26"
            ],
            [
             1,
             "#f0f921"
            ]
           ]
          },
          "colorway": [
           "#636efa",
           "#EF553B",
           "#00cc96",
           "#ab63fa",
           "#FFA15A",
           "#19d3f3",
           "#FF6692",
           "#B6E880",
           "#FF97FF",
           "#FECB52"
          ],
          "font": {
           "color": "#2a3f5f"
          },
          "geo": {
           "bgcolor": "white",
           "lakecolor": "white",
           "landcolor": "#E5ECF6",
           "showlakes": true,
           "showland": true,
           "subunitcolor": "white"
          },
          "hoverlabel": {
           "align": "left"
          },
          "hovermode": "closest",
          "mapbox": {
           "style": "light"
          },
          "paper_bgcolor": "white",
          "plot_bgcolor": "#E5ECF6",
          "polar": {
           "angularaxis": {
            "gridcolor": "white",
            "linecolor": "white",
            "ticks": ""
           },
           "bgcolor": "#E5ECF6",
           "radialaxis": {
            "gridcolor": "white",
            "linecolor": "white",
            "ticks": ""
           }
          },
          "scene": {
           "xaxis": {
            "backgroundcolor": "#E5ECF6",
            "gridcolor": "white",
            "gridwidth": 2,
            "linecolor": "white",
            "showbackground": true,
            "ticks": "",
            "zerolinecolor": "white"
           },
           "yaxis": {
            "backgroundcolor": "#E5ECF6",
            "gridcolor": "white",
            "gridwidth": 2,
            "linecolor": "white",
            "showbackground": true,
            "ticks": "",
            "zerolinecolor": "white"
           },
           "zaxis": {
            "backgroundcolor": "#E5ECF6",
            "gridcolor": "white",
            "gridwidth": 2,
            "linecolor": "white",
            "showbackground": true,
            "ticks": "",
            "zerolinecolor": "white"
           }
          },
          "shapedefaults": {
           "line": {
            "color": "#2a3f5f"
           }
          },
          "ternary": {
           "aaxis": {
            "gridcolor": "white",
            "linecolor": "white",
            "ticks": ""
           },
           "baxis": {
            "gridcolor": "white",
            "linecolor": "white",
            "ticks": ""
           },
           "bgcolor": "#E5ECF6",
           "caxis": {
            "gridcolor": "white",
            "linecolor": "white",
            "ticks": ""
           }
          },
          "title": {
           "x": 0.05
          },
          "xaxis": {
           "automargin": true,
           "gridcolor": "white",
           "linecolor": "white",
           "ticks": "",
           "title": {
            "standoff": 15
           },
           "zerolinecolor": "white",
           "zerolinewidth": 2
          },
          "yaxis": {
           "automargin": true,
           "gridcolor": "white",
           "linecolor": "white",
           "ticks": "",
           "title": {
            "standoff": 15
           },
           "zerolinecolor": "white",
           "zerolinewidth": 2
          }
         }
        },
        "title": {
         "text": "Boxplot interactif - Cible et revenu"
        },
        "width": 600,
        "xaxis": {
         "anchor": "y",
         "domain": [
          0,
          1
         ],
         "title": {
          "text": "revenu_mensuel"
         }
        },
        "yaxis": {
         "anchor": "x",
         "domain": [
          0,
          1
         ]
        }
       }
      }
     },
     "metadata": {},
     "output_type": "display_data"
    }
   ],
   "source": [
    "fig14 = px.box(\n",
    "        donnees_features,\n",
    "        x='revenu_mensuel',\n",
    "        title=f\"Boxplot interactif - Cible et revenu\",\n",
    "        hover_data = \"id_employee\"\n",
    "     \n",
    "    )\n",
    "fig14.update_layout(height=500, width=600)\n",
    "fig14.show()\n",
    "pio.write_image(fig14, \"Graph/graph_etape_2/Boxplot_cible_revenu_mensuel.png\")"
   ]
  },
  {
   "cell_type": "markdown",
   "metadata": {},
   "source": [
    "* On remarque quelques valeurs extrêmes, elles semblent normales avec les petites analyses que nous avons réalisé dans l'étape précédente. On peut le confirmer en regardant via une méthode statistique plus poussée."
   ]
  },
  {
   "cell_type": "code",
   "execution_count": 22,
   "metadata": {},
   "outputs": [
    {
     "data": {
      "application/vnd.plotly.v1+json": {
       "config": {
        "plotlyServerURL": "https://plot.ly"
       },
       "data": [
        {
         "bingroup": "x",
         "hovertemplate": "a_quitte_l_entreprise=Oui<br>age=%{x}<br>count=%{y}<extra></extra>",
         "legendgroup": "Oui",
         "marker": {
          "color": "#636efa",
          "pattern": {
           "shape": ""
          }
         },
         "name": "Oui",
         "orientation": "v",
         "showlegend": true,
         "type": "histogram",
         "x": {
          "bdata": "KSUcJCIgJxgyGikwHCQuJRQZIjgfOhMfMyATEykjJh0gHh4dHSEhICUfHC8sGhoSNBwnHRUhKSgVIhoeGRgiHRMhIR8iFhoSGiAYHh8bLRQhGDIcKiEvNxoXHSE6HDE3GiMdIDoUFRYpJxkTFCQlOigfHR4jFB4lGjQkJBoUFTMcLCMhGRohHDInEiEfHSocKywWKRgTGS0VLB0gJyg0Hyw6Nx8jHxsxHR8fGS4nHx8iHB0iGBwdKB8eIzUmHBIjIygjFzAgFxgvJCAeHSEfKxUWLCMiJRouHx0gHS4eFiI4HRwgGxwfNRcdODIy",
          "dtype": "i1"
         },
         "xaxis": "x",
         "yaxis": "y"
        },
        {
         "bingroup": "x",
         "hovertemplate": "a_quitte_l_entreprise=Non<br>age=%{x}<br>count=%{y}<extra></extra>",
         "legendgroup": "Non",
         "marker": {
          "color": "#EF553B",
          "pattern": {
           "shape": ""
          }
         },
         "name": "Non",
         "orientation": "v",
         "showlegend": true,
         "type": "histogram",
         "x": {
          "bdata": "MSEbIDseJiQjHR8iHSAWNSYYIhU1KiwuISweKyMkISMbGx4iJS4jLCMaISMjHyUgJjI7JDckLSM7HR8gJB8jLSUuHiM3JiI4FzMeKDMeLiA2GBw6LCAiJTsyGRYzNhgiJSIkJCseITMaFjErMikaJCcZHi0mHiAeHikpEygjNS0gHTM6KCIWGxw5GzIpHiYgGyQeLTghLiYfIjI1ISg3IjM0GystJSMqJiYbMSIoFiQoLh4bMyktNiQhJSYfOyUdIzQqOzIrNCAnICkoLR8hIiUtJx0qHRkqKDMgJiAuHR8ZLSQ3HCUVJSMmGjI1Kh03GiUmHDEkHyUqIyQzKRIcHyckICY6Hx8tHyEnKzEbIBsfIB4fJyEvKxs2Ky0oHR4bJSYfHSMXKS8qHSogMCUeGiokJDkoFSUuMh8dIxscMTMkNxgeFiQlKColKyg2Ih8rKxklHyc4HikcNC00Kh48LiomKBoeHR45Mh48Ly4jNiIuHx4jKiQwNykjKCcfKi0dIR8oKRojIiUuKSU0GCYlMRgaGDIZIiMfGyUUKismKzAsIhUsFiEgHjUiGiUdIyE2JBsjFxkmHTAbJTIiJyAmGyAvKDUpPBspMiQmLC8eHSsiFyc4KBsdNSMgJiI0GS0XIiQ0Gh0iNhslJiIjHigiKhg0MiEvJB0jKiQgKB4tKiYiKxsjHCIbMywZISMkIB41LSA0JRwWLCokGSMgGTEYICYqHzUjJTUrLyUyJyEdLBwrJC8cGyIqITofIzEwHyQmICgaKSQfKCAhLR0jNDUeJiMnLyQhIS0yISkbLS8yJi4YHxI2Ix4aFjAwKScbIyoyOzcpJiwyJyEtICI7LTUiHCYyJSgaLjY4JDcrLhoeKSYoGzccIRwiJSohIjAtNCYdHC4mKygVJyQfHCMxIh0qHSYcKSUbIiMoKiMYGh4oIyIjIDgdEy0lFDUdLiwhHigyHC4jISQeLBQuKjwgICQhKBkeKiMbNiwdNh8fOysxJDAbHTAdIiwhExcaNy4iMzsiHCwiIyorJBwzHhwZIC0nOh4kLhwyHicfKSo3OCgiKCkjMyYiGSgkMBszEiMbOCIoIiYiHCczKSUhICcZNCsbGio0JSMZGh02OjckHh8iGyQkLyU4LxggIikoHy0fLTAoHCw1MSgsISIeKiweOTEiIxgsHR43IS8cHDEdHCEgNiwnLiMXIjIiKiUdIS0qKCEoGCgtIyAkMB0hJiMeIDAiNyIaJiYkHSMnHTIXJCojIigrIy4WMiAsHi0tHyQiMScbIxwVLycoIyUnLSYlKCwwGBsbHSQZJzEyFCIkMSQkNismHSEgHzEmLzEpFCEkLCY1GjciPCElIiwjKxgpHSQtGi0gHykoGC4jHi8uFx8nICgtHhgfGx0eIiExJh0eICYqNyEpIjUrIiYfMyUuJCUhHCcuKCojJicrKSkeKCI6Iy8oNh8cJho6Ei0kKxsdICovLhwdKi4bHSswGyc3HCQfIh0lIy0kKBobMCwkKSofIh8aLSEcJxsiLzgnJjomMSojHB8kIiIaHSAfJiMbIDYhKyY3HycqHzYYFygoGR4ZLyEmHyYqKS8jFiMhICggJyYgJRk0LBUnJCQ4KikiJCkgIyYkLSgjKCMdHScfGiQnGzEi",
          "dtype": "i1"
         },
         "xaxis": "x",
         "yaxis": "y"
        }
       ],
       "layout": {
        "barmode": "relative",
        "legend": {
         "title": {
          "text": "a_quitte_l_entreprise"
         },
         "tracegroupgap": 0
        },
        "margin": {
         "t": 60
        },
        "template": {
         "data": {
          "bar": [
           {
            "error_x": {
             "color": "#2a3f5f"
            },
            "error_y": {
             "color": "#2a3f5f"
            },
            "marker": {
             "line": {
              "color": "#E5ECF6",
              "width": 0.5
             },
             "pattern": {
              "fillmode": "overlay",
              "size": 10,
              "solidity": 0.2
             }
            },
            "type": "bar"
           }
          ],
          "barpolar": [
           {
            "marker": {
             "line": {
              "color": "#E5ECF6",
              "width": 0.5
             },
             "pattern": {
              "fillmode": "overlay",
              "size": 10,
              "solidity": 0.2
             }
            },
            "type": "barpolar"
           }
          ],
          "carpet": [
           {
            "aaxis": {
             "endlinecolor": "#2a3f5f",
             "gridcolor": "white",
             "linecolor": "white",
             "minorgridcolor": "white",
             "startlinecolor": "#2a3f5f"
            },
            "baxis": {
             "endlinecolor": "#2a3f5f",
             "gridcolor": "white",
             "linecolor": "white",
             "minorgridcolor": "white",
             "startlinecolor": "#2a3f5f"
            },
            "type": "carpet"
           }
          ],
          "choropleth": [
           {
            "colorbar": {
             "outlinewidth": 0,
             "ticks": ""
            },
            "type": "choropleth"
           }
          ],
          "contour": [
           {
            "colorbar": {
             "outlinewidth": 0,
             "ticks": ""
            },
            "colorscale": [
             [
              0,
              "#0d0887"
             ],
             [
              0.1111111111111111,
              "#46039f"
             ],
             [
              0.2222222222222222,
              "#7201a8"
             ],
             [
              0.3333333333333333,
              "#9c179e"
             ],
             [
              0.4444444444444444,
              "#bd3786"
             ],
             [
              0.5555555555555556,
              "#d8576b"
             ],
             [
              0.6666666666666666,
              "#ed7953"
             ],
             [
              0.7777777777777778,
              "#fb9f3a"
             ],
             [
              0.8888888888888888,
              "#fdca26"
             ],
             [
              1,
              "#f0f921"
             ]
            ],
            "type": "contour"
           }
          ],
          "contourcarpet": [
           {
            "colorbar": {
             "outlinewidth": 0,
             "ticks": ""
            },
            "type": "contourcarpet"
           }
          ],
          "heatmap": [
           {
            "colorbar": {
             "outlinewidth": 0,
             "ticks": ""
            },
            "colorscale": [
             [
              0,
              "#0d0887"
             ],
             [
              0.1111111111111111,
              "#46039f"
             ],
             [
              0.2222222222222222,
              "#7201a8"
             ],
             [
              0.3333333333333333,
              "#9c179e"
             ],
             [
              0.4444444444444444,
              "#bd3786"
             ],
             [
              0.5555555555555556,
              "#d8576b"
             ],
             [
              0.6666666666666666,
              "#ed7953"
             ],
             [
              0.7777777777777778,
              "#fb9f3a"
             ],
             [
              0.8888888888888888,
              "#fdca26"
             ],
             [
              1,
              "#f0f921"
             ]
            ],
            "type": "heatmap"
           }
          ],
          "histogram": [
           {
            "marker": {
             "pattern": {
              "fillmode": "overlay",
              "size": 10,
              "solidity": 0.2
             }
            },
            "type": "histogram"
           }
          ],
          "histogram2d": [
           {
            "colorbar": {
             "outlinewidth": 0,
             "ticks": ""
            },
            "colorscale": [
             [
              0,
              "#0d0887"
             ],
             [
              0.1111111111111111,
              "#46039f"
             ],
             [
              0.2222222222222222,
              "#7201a8"
             ],
             [
              0.3333333333333333,
              "#9c179e"
             ],
             [
              0.4444444444444444,
              "#bd3786"
             ],
             [
              0.5555555555555556,
              "#d8576b"
             ],
             [
              0.6666666666666666,
              "#ed7953"
             ],
             [
              0.7777777777777778,
              "#fb9f3a"
             ],
             [
              0.8888888888888888,
              "#fdca26"
             ],
             [
              1,
              "#f0f921"
             ]
            ],
            "type": "histogram2d"
           }
          ],
          "histogram2dcontour": [
           {
            "colorbar": {
             "outlinewidth": 0,
             "ticks": ""
            },
            "colorscale": [
             [
              0,
              "#0d0887"
             ],
             [
              0.1111111111111111,
              "#46039f"
             ],
             [
              0.2222222222222222,
              "#7201a8"
             ],
             [
              0.3333333333333333,
              "#9c179e"
             ],
             [
              0.4444444444444444,
              "#bd3786"
             ],
             [
              0.5555555555555556,
              "#d8576b"
             ],
             [
              0.6666666666666666,
              "#ed7953"
             ],
             [
              0.7777777777777778,
              "#fb9f3a"
             ],
             [
              0.8888888888888888,
              "#fdca26"
             ],
             [
              1,
              "#f0f921"
             ]
            ],
            "type": "histogram2dcontour"
           }
          ],
          "mesh3d": [
           {
            "colorbar": {
             "outlinewidth": 0,
             "ticks": ""
            },
            "type": "mesh3d"
           }
          ],
          "parcoords": [
           {
            "line": {
             "colorbar": {
              "outlinewidth": 0,
              "ticks": ""
             }
            },
            "type": "parcoords"
           }
          ],
          "pie": [
           {
            "automargin": true,
            "type": "pie"
           }
          ],
          "scatter": [
           {
            "fillpattern": {
             "fillmode": "overlay",
             "size": 10,
             "solidity": 0.2
            },
            "type": "scatter"
           }
          ],
          "scatter3d": [
           {
            "line": {
             "colorbar": {
              "outlinewidth": 0,
              "ticks": ""
             }
            },
            "marker": {
             "colorbar": {
              "outlinewidth": 0,
              "ticks": ""
             }
            },
            "type": "scatter3d"
           }
          ],
          "scattercarpet": [
           {
            "marker": {
             "colorbar": {
              "outlinewidth": 0,
              "ticks": ""
             }
            },
            "type": "scattercarpet"
           }
          ],
          "scattergeo": [
           {
            "marker": {
             "colorbar": {
              "outlinewidth": 0,
              "ticks": ""
             }
            },
            "type": "scattergeo"
           }
          ],
          "scattergl": [
           {
            "marker": {
             "colorbar": {
              "outlinewidth": 0,
              "ticks": ""
             }
            },
            "type": "scattergl"
           }
          ],
          "scattermap": [
           {
            "marker": {
             "colorbar": {
              "outlinewidth": 0,
              "ticks": ""
             }
            },
            "type": "scattermap"
           }
          ],
          "scattermapbox": [
           {
            "marker": {
             "colorbar": {
              "outlinewidth": 0,
              "ticks": ""
             }
            },
            "type": "scattermapbox"
           }
          ],
          "scatterpolar": [
           {
            "marker": {
             "colorbar": {
              "outlinewidth": 0,
              "ticks": ""
             }
            },
            "type": "scatterpolar"
           }
          ],
          "scatterpolargl": [
           {
            "marker": {
             "colorbar": {
              "outlinewidth": 0,
              "ticks": ""
             }
            },
            "type": "scatterpolargl"
           }
          ],
          "scatterternary": [
           {
            "marker": {
             "colorbar": {
              "outlinewidth": 0,
              "ticks": ""
             }
            },
            "type": "scatterternary"
           }
          ],
          "surface": [
           {
            "colorbar": {
             "outlinewidth": 0,
             "ticks": ""
            },
            "colorscale": [
             [
              0,
              "#0d0887"
             ],
             [
              0.1111111111111111,
              "#46039f"
             ],
             [
              0.2222222222222222,
              "#7201a8"
             ],
             [
              0.3333333333333333,
              "#9c179e"
             ],
             [
              0.4444444444444444,
              "#bd3786"
             ],
             [
              0.5555555555555556,
              "#d8576b"
             ],
             [
              0.6666666666666666,
              "#ed7953"
             ],
             [
              0.7777777777777778,
              "#fb9f3a"
             ],
             [
              0.8888888888888888,
              "#fdca26"
             ],
             [
              1,
              "#f0f921"
             ]
            ],
            "type": "surface"
           }
          ],
          "table": [
           {
            "cells": {
             "fill": {
              "color": "#EBF0F8"
             },
             "line": {
              "color": "white"
             }
            },
            "header": {
             "fill": {
              "color": "#C8D4E3"
             },
             "line": {
              "color": "white"
             }
            },
            "type": "table"
           }
          ]
         },
         "layout": {
          "annotationdefaults": {
           "arrowcolor": "#2a3f5f",
           "arrowhead": 0,
           "arrowwidth": 1
          },
          "autotypenumbers": "strict",
          "coloraxis": {
           "colorbar": {
            "outlinewidth": 0,
            "ticks": ""
           }
          },
          "colorscale": {
           "diverging": [
            [
             0,
             "#8e0152"
            ],
            [
             0.1,
             "#c51b7d"
            ],
            [
             0.2,
             "#de77ae"
            ],
            [
             0.3,
             "#f1b6da"
            ],
            [
             0.4,
             "#fde0ef"
            ],
            [
             0.5,
             "#f7f7f7"
            ],
            [
             0.6,
             "#e6f5d0"
            ],
            [
             0.7,
             "#b8e186"
            ],
            [
             0.8,
             "#7fbc41"
            ],
            [
             0.9,
             "#4d9221"
            ],
            [
             1,
             "#276419"
            ]
           ],
           "sequential": [
            [
             0,
             "#0d0887"
            ],
            [
             0.1111111111111111,
             "#46039f"
            ],
            [
             0.2222222222222222,
             "#7201a8"
            ],
            [
             0.3333333333333333,
             "#9c179e"
            ],
            [
             0.4444444444444444,
             "#bd3786"
            ],
            [
             0.5555555555555556,
             "#d8576b"
            ],
            [
             0.6666666666666666,
             "#ed7953"
            ],
            [
             0.7777777777777778,
             "#fb9f3a"
            ],
            [
             0.8888888888888888,
             "#fdca26"
            ],
            [
             1,
             "#f0f921"
            ]
           ],
           "sequentialminus": [
            [
             0,
             "#0d0887"
            ],
            [
             0.1111111111111111,
             "#46039f"
            ],
            [
             0.2222222222222222,
             "#7201a8"
            ],
            [
             0.3333333333333333,
             "#9c179e"
            ],
            [
             0.4444444444444444,
             "#bd3786"
            ],
            [
             0.5555555555555556,
             "#d8576b"
            ],
            [
             0.6666666666666666,
             "#ed7953"
            ],
            [
             0.7777777777777778,
             "#fb9f3a"
            ],
            [
             0.8888888888888888,
             "#fdca26"
            ],
            [
             1,
             "#f0f921"
            ]
           ]
          },
          "colorway": [
           "#636efa",
           "#EF553B",
           "#00cc96",
           "#ab63fa",
           "#FFA15A",
           "#19d3f3",
           "#FF6692",
           "#B6E880",
           "#FF97FF",
           "#FECB52"
          ],
          "font": {
           "color": "#2a3f5f"
          },
          "geo": {
           "bgcolor": "white",
           "lakecolor": "white",
           "landcolor": "#E5ECF6",
           "showlakes": true,
           "showland": true,
           "subunitcolor": "white"
          },
          "hoverlabel": {
           "align": "left"
          },
          "hovermode": "closest",
          "mapbox": {
           "style": "light"
          },
          "paper_bgcolor": "white",
          "plot_bgcolor": "#E5ECF6",
          "polar": {
           "angularaxis": {
            "gridcolor": "white",
            "linecolor": "white",
            "ticks": ""
           },
           "bgcolor": "#E5ECF6",
           "radialaxis": {
            "gridcolor": "white",
            "linecolor": "white",
            "ticks": ""
           }
          },
          "scene": {
           "xaxis": {
            "backgroundcolor": "#E5ECF6",
            "gridcolor": "white",
            "gridwidth": 2,
            "linecolor": "white",
            "showbackground": true,
            "ticks": "",
            "zerolinecolor": "white"
           },
           "yaxis": {
            "backgroundcolor": "#E5ECF6",
            "gridcolor": "white",
            "gridwidth": 2,
            "linecolor": "white",
            "showbackground": true,
            "ticks": "",
            "zerolinecolor": "white"
           },
           "zaxis": {
            "backgroundcolor": "#E5ECF6",
            "gridcolor": "white",
            "gridwidth": 2,
            "linecolor": "white",
            "showbackground": true,
            "ticks": "",
            "zerolinecolor": "white"
           }
          },
          "shapedefaults": {
           "line": {
            "color": "#2a3f5f"
           }
          },
          "ternary": {
           "aaxis": {
            "gridcolor": "white",
            "linecolor": "white",
            "ticks": ""
           },
           "baxis": {
            "gridcolor": "white",
            "linecolor": "white",
            "ticks": ""
           },
           "bgcolor": "#E5ECF6",
           "caxis": {
            "gridcolor": "white",
            "linecolor": "white",
            "ticks": ""
           }
          },
          "title": {
           "x": 0.05
          },
          "xaxis": {
           "automargin": true,
           "gridcolor": "white",
           "linecolor": "white",
           "ticks": "",
           "title": {
            "standoff": 15
           },
           "zerolinecolor": "white",
           "zerolinewidth": 2
          },
          "yaxis": {
           "automargin": true,
           "gridcolor": "white",
           "linecolor": "white",
           "ticks": "",
           "title": {
            "standoff": 15
           },
           "zerolinecolor": "white",
           "zerolinewidth": 2
          }
         }
        },
        "xaxis": {
         "anchor": "y",
         "domain": [
          0,
          1
         ],
         "title": {
          "text": "age"
         }
        },
        "yaxis": {
         "anchor": "x",
         "domain": [
          0,
          1
         ],
         "title": {
          "text": "count"
         }
        }
       }
      }
     },
     "metadata": {},
     "output_type": "display_data"
    }
   ],
   "source": [
    "fig13 = px.histogram(\n",
    "    donnees_features, x='age', color ='a_quitte_l_entreprise'\n",
    ")\n",
    "fig13.show()\n"
   ]
  },
  {
   "cell_type": "markdown",
   "metadata": {},
   "source": [
    "#### Nous ne pouvons pas utiliser ici la méthode du z-score car nous n'avons pas une distribution normale. Regardons avec la méthode IQR."
   ]
  },
  {
   "cell_type": "markdown",
   "metadata": {},
   "source": [
    "L'écart interquartile (IQR) est une mesure de la dispersion, basée sur la division de l'ensemble de données en quartiles. Les quartiles divisent un ensemble de données classé en quatre parties égales.\n",
    "Ici on va appliquer un calcul sur l'IQR, limite haute et basse pour identifier des valeurs abrérrantes/extrêmes.\n",
    "* inférieures à Q1 - 1,5 * IQR \n",
    "* ou supérieures à Q3 + 1,5 * IQR "
   ]
  },
  {
   "cell_type": "code",
   "execution_count": 9,
   "metadata": {},
   "outputs": [],
   "source": [
    "# J'applique la méthode à ma variable\n",
    "iqr = np.quantile(donnees_features['revenu_mensuel'], q=[0.25, 0.75])\n",
    "limite_basse = iqr[0] - 1.5*(iqr[1]-iqr[0])\n",
    "limite_haute = iqr[1] + 1.5*(iqr[1]-iqr[0])"
   ]
  },
  {
   "cell_type": "code",
   "execution_count": 10,
   "metadata": {},
   "outputs": [
    {
     "name": "stdout",
     "output_type": "stream",
     "text": [
      "La limite haute est de 16581.0 et la limite basse est de -5291.0\n"
     ]
    }
   ],
   "source": [
    "print(\"La limite haute est de\",limite_haute,\"et la limite basse est de\",limite_basse)"
   ]
  },
  {
   "cell_type": "markdown",
   "metadata": {},
   "source": [
    "#### Recherchons quels sont les postes avec de si gros salaires"
   ]
  },
  {
   "cell_type": "code",
   "execution_count": 11,
   "metadata": {},
   "outputs": [
    {
     "data": {
      "text/plain": [
       "revenu_mensuel\n",
       "False    1356\n",
       "True      114\n",
       "Name: count, dtype: int64"
      ]
     },
     "execution_count": 11,
     "metadata": {},
     "output_type": "execute_result"
    }
   ],
   "source": [
    "(donnees_features['revenu_mensuel']>=limite_haute).value_counts()"
   ]
  },
  {
   "cell_type": "code",
   "execution_count": 12,
   "metadata": {},
   "outputs": [
    {
     "data": {
      "text/plain": [
       "array(['SeniorManager', 'DirecteurTechnique'], dtype=object)"
      ]
     },
     "execution_count": 12,
     "metadata": {},
     "output_type": "execute_result"
    }
   ],
   "source": [
    "donnees_features.loc[donnees_features['revenu_mensuel']>=limite_haute,'poste'].unique()"
   ]
  },
  {
   "cell_type": "markdown",
   "metadata": {},
   "source": [
    "* Rien d'étonnant ici, les salaires au-dessus de 16 581 sont des directeurs, nous pouvons les garder dans notre jeu.\n",
    "* Pour la limite basse, pas besoin de recherches complémentaires car nous n'avons de salaire négatif dans notre DataFrame."
   ]
  },
  {
   "cell_type": "markdown",
   "metadata": {},
   "source": [
    "Analyse globale (pas distinction de Oui et Non) les autres variables quantitatives (à partir des éléments de l'étape 1) :\n",
    "* age : Nous asvon vu dans l'étape précédente que les âges allaient de 18 à 60 ans : rien d'anormal ici\n",
    "* annee_experience_totale : de 0 année d'expérience (entre le début et la première année d'expérience) à 40 années: rien d'anormal ici\n",
    "* distance_domicile_travail : de 1km à 29km de distance domicile travail : rien d'anormal"
   ]
  },
  {
   "cell_type": "markdown",
   "metadata": {},
   "source": [
    "### Ajout de nouvelles variables"
   ]
  },
  {
   "cell_type": "markdown",
   "metadata": {},
   "source": [
    "#### Reprenons notre DataFrame pour regarder les éléments que nous pouvons créer."
   ]
  },
  {
   "cell_type": "code",
   "execution_count": 13,
   "metadata": {},
   "outputs": [
    {
     "name": "stdout",
     "output_type": "stream",
     "text": [
      "<class 'pandas.core.frame.DataFrame'>\n",
      "RangeIndex: 1470 entries, 0 to 1469\n",
      "Data columns (total 20 columns):\n",
      " #   Column                                    Non-Null Count  Dtype \n",
      "---  ------                                    --------------  ----- \n",
      " 0   id_employee                               1470 non-null   int64 \n",
      " 1   age                                       1470 non-null   int64 \n",
      " 2   genre                                     1470 non-null   object\n",
      " 3   revenu_mensuel                            1470 non-null   int64 \n",
      " 4   statut_marital                            1470 non-null   object\n",
      " 5   poste                                     1470 non-null   object\n",
      " 6   nombre_experiences_precedentes            1470 non-null   int64 \n",
      " 7   annee_experience_totale                   1470 non-null   int64 \n",
      " 8   annees_dans_l_entreprise                  1470 non-null   int64 \n",
      " 9   satisfaction_employee_environnement       1470 non-null   int64 \n",
      " 10  satisfaction_employee_nature_travail      1470 non-null   int64 \n",
      " 11  heure_supplementaires                     1470 non-null   object\n",
      " 12  augmentation_salaire_precedente_pourcent  1470 non-null   int64 \n",
      " 13  a_quitte_l_entreprise                     1470 non-null   object\n",
      " 14  nombre_participation_pee                  1470 non-null   int64 \n",
      " 15  nb_formations_suivies                     1470 non-null   int64 \n",
      " 16  distance_domicile_travail                 1470 non-null   int64 \n",
      " 17  niveau_education                          1470 non-null   int64 \n",
      " 18  frequence_deplacement                     1470 non-null   object\n",
      " 19  annees_depuis_la_derniere_promotion       1470 non-null   int64 \n",
      "dtypes: int64(14), object(6)\n",
      "memory usage: 229.8+ KB\n"
     ]
    }
   ],
   "source": [
    "donnees_features.info()"
   ]
  },
  {
   "cell_type": "markdown",
   "metadata": {},
   "source": [
    "#### Les features que nous voulons créer :\n",
    "##### Création de calculs et ratios\n",
    "Avec les notions d'années :\n",
    "* ratio_stabilite = annees_dans_l_entreprise / (annee_experience_totale+1)\n",
    "* experience_externe = annee_experience_totale - annees_dans_l_entreprise\n",
    "\n",
    "Avec les sondages :\n",
    "* score_satisfaction = (satisfaction_employee_environnement + satisfaction_employee_nature_travail)/2\n",
    "\n",
    "Avec le % d'augmentation :\n",
    "* augmentation_par_formation = augmentation_salaire_precedente_pourcent / (nb_formations_suivies+1)\n",
    "* augmentation_par_anciennete = augmentation_salaire_precedente_pourcent / (annees_dans_l_entreprise+1)\n",
    "* augmentation_relative_salaire = (augmentation_salaire_precedente_pourcent/100) * revenu_mensuel\n",
    "\n",
    "Avec le nombre_participation_pee :\n",
    "* pee_par_anciennete = nombre_participation_pee / (annees_dans_l_entreprise+1)\n",
    "\n",
    "##### Création d'indicateurs\n",
    "\n",
    "* Ajout de tranche d'âges\n",
    "* Catégorisation de l'expérience totale : junior, senior etc\n",
    "* Catégorisation de annees_dans_l_entreprise : salarié récent, ancien etc\n",
    "* Catégorisation nombre_participation_pee : Oui ou Non\n",
    "* Catégorisation nb_formations_suivies : Oui ou Non\n",
    "* Ajout de tranches de distance_domicile_travail (proche / moyen / loin)\n",
    "* Ajout de tranches annees_depuis_la_derniere_promotion\n",
    "\n",
    "#### A gérer plus tard avec l'encodage\n",
    "\n",
    "* genre\n",
    "* statut_marital\n",
    "* poste\n",
    "* niveau_education\n",
    "* frequence_deplacement\n",
    "* satisfaction_employee_environnement\n",
    "* satisfaction_employee_nature_travail\n",
    "* heure_supplementaires\n"
   ]
  },
  {
   "cell_type": "markdown",
   "metadata": {},
   "source": [
    "### Création des calculs et ratios"
   ]
  },
  {
   "cell_type": "markdown",
   "metadata": {},
   "source": [
    "#### Avec les notions d'années"
   ]
  },
  {
   "cell_type": "code",
   "execution_count": 15,
   "metadata": {},
   "outputs": [],
   "source": [
    "donnees_features['ratio_stabilite'] = donnees_features['annees_dans_l_entreprise'] / (donnees_features['annee_experience_totale']+1)\n",
    "donnees_features['experience_externe'] = donnees_features['annee_experience_totale'] - donnees_features['annees_dans_l_entreprise']"
   ]
  },
  {
   "cell_type": "markdown",
   "metadata": {},
   "source": [
    "* ratio_stabilite : plus un score est elevé, plus le salarié est resté longtemps dans l'entreeprise par rapport à sa carrière totale (fidélité à l'entreprise)\n",
    "* experience_externe : nombre d'années dans une autre entreprise"
   ]
  },
  {
   "cell_type": "markdown",
   "metadata": {},
   "source": [
    "* Petit récapitulatif"
   ]
  },
  {
   "cell_type": "code",
   "execution_count": 16,
   "metadata": {},
   "outputs": [
    {
     "name": "stdout",
     "output_type": "stream",
     "text": [
      "Nous avons 1470 lignes et 20 colonnes avant transformation\n",
      "Nous avons 1470 lignes et 22 colonnes après ajout de 2 nouvelles variables (annee_experience_totale & annees_dans_l_entreprise)\n"
     ]
    }
   ],
   "source": [
    "shape_donnees_features_un = donnees_features.shape\n",
    "print(\"Nous avons\", shape_donnees_features[0],\"lignes et\",shape_donnees_features[1],\"colonnes avant transformation\")\n",
    "print(\"Nous avons\", shape_donnees_features_un[0],\"lignes et\",shape_donnees_features_un[1],\"colonnes après ajout de 2 nouvelles variables (annee_experience_totale & annees_dans_l_entreprise)\")"
   ]
  },
  {
   "cell_type": "markdown",
   "metadata": {},
   "source": [
    "#### Avec les sondages"
   ]
  },
  {
   "cell_type": "code",
   "execution_count": 17,
   "metadata": {},
   "outputs": [],
   "source": [
    "donnees_features['score_satisfaction'] = (donnees_features['satisfaction_employee_environnement'] + donnees_features['satisfaction_employee_nature_travail'])/2"
   ]
  },
  {
   "cell_type": "markdown",
   "metadata": {},
   "source": [
    "* Petit check"
   ]
  },
  {
   "cell_type": "code",
   "execution_count": 20,
   "metadata": {},
   "outputs": [
    {
     "data": {
      "text/html": [
       "<div>\n",
       "<style scoped>\n",
       "    .dataframe tbody tr th:only-of-type {\n",
       "        vertical-align: middle;\n",
       "    }\n",
       "\n",
       "    .dataframe tbody tr th {\n",
       "        vertical-align: top;\n",
       "    }\n",
       "\n",
       "    .dataframe thead th {\n",
       "        text-align: right;\n",
       "    }\n",
       "</style>\n",
       "<table border=\"1\" class=\"dataframe\">\n",
       "  <thead>\n",
       "    <tr style=\"text-align: right;\">\n",
       "      <th></th>\n",
       "      <th>score_satisfaction</th>\n",
       "      <th>satisfaction_employee_environnement</th>\n",
       "      <th>satisfaction_employee_nature_travail</th>\n",
       "    </tr>\n",
       "  </thead>\n",
       "  <tbody>\n",
       "    <tr>\n",
       "      <th>0</th>\n",
       "      <td>3.0</td>\n",
       "      <td>2</td>\n",
       "      <td>4</td>\n",
       "    </tr>\n",
       "    <tr>\n",
       "      <th>1</th>\n",
       "      <td>2.5</td>\n",
       "      <td>3</td>\n",
       "      <td>2</td>\n",
       "    </tr>\n",
       "    <tr>\n",
       "      <th>2</th>\n",
       "      <td>3.5</td>\n",
       "      <td>4</td>\n",
       "      <td>3</td>\n",
       "    </tr>\n",
       "    <tr>\n",
       "      <th>3</th>\n",
       "      <td>3.5</td>\n",
       "      <td>4</td>\n",
       "      <td>3</td>\n",
       "    </tr>\n",
       "    <tr>\n",
       "      <th>4</th>\n",
       "      <td>1.5</td>\n",
       "      <td>1</td>\n",
       "      <td>2</td>\n",
       "    </tr>\n",
       "  </tbody>\n",
       "</table>\n",
       "</div>"
      ],
      "text/plain": [
       "   score_satisfaction  satisfaction_employee_environnement  \\\n",
       "0                 3.0                                    2   \n",
       "1                 2.5                                    3   \n",
       "2                 3.5                                    4   \n",
       "3                 3.5                                    4   \n",
       "4                 1.5                                    1   \n",
       "\n",
       "   satisfaction_employee_nature_travail  \n",
       "0                                     4  \n",
       "1                                     2  \n",
       "2                                     3  \n",
       "3                                     3  \n",
       "4                                     2  "
      ]
     },
     "execution_count": 20,
     "metadata": {},
     "output_type": "execute_result"
    }
   ],
   "source": [
    "donnees_features[['score_satisfaction','satisfaction_employee_environnement','satisfaction_employee_nature_travail']].head()"
   ]
  },
  {
   "cell_type": "code",
   "execution_count": 21,
   "metadata": {},
   "outputs": [
    {
     "data": {
      "text/plain": [
       "array([3. , 2.5, 3.5, 1.5, 4. , 2. , 1. ])"
      ]
     },
     "execution_count": 21,
     "metadata": {},
     "output_type": "execute_result"
    }
   ],
   "source": [
    "donnees_features['score_satisfaction'].unique()"
   ]
  },
  {
   "cell_type": "markdown",
   "metadata": {},
   "source": [
    "* Petit récapitulatif"
   ]
  },
  {
   "cell_type": "code",
   "execution_count": 18,
   "metadata": {},
   "outputs": [
    {
     "name": "stdout",
     "output_type": "stream",
     "text": [
      "Nous avons 1470 lignes et 20 colonnes avant transformation\n",
      "Nous avons 1470 lignes et 22 colonnes après ajout de 2 nouvelles variables (annee_experience_totale & annees_dans_l_entreprise)\n",
      "Nous avons 1470 lignes et 23 colonnes après ajout d'une variable sondage global\n"
     ]
    }
   ],
   "source": [
    "shape_donnees_features_deux = donnees_features.shape\n",
    "print(\"Nous avons\", shape_donnees_features[0],\"lignes et\",shape_donnees_features[1],\"colonnes avant transformation\")\n",
    "print(\"Nous avons\", shape_donnees_features_un[0],\"lignes et\",shape_donnees_features_un[1],\"colonnes après ajout de 2 nouvelles variables (annee_experience_totale & annees_dans_l_entreprise)\")\n",
    "print(\"Nous avons\", shape_donnees_features_deux[0],\"lignes et\",shape_donnees_features_deux[1],\"colonnes après ajout d'une variable sondage global\")"
   ]
  },
  {
   "cell_type": "markdown",
   "metadata": {},
   "source": [
    "#### Avec le % d'augmentation :"
   ]
  },
  {
   "cell_type": "code",
   "execution_count": 25,
   "metadata": {},
   "outputs": [],
   "source": [
    "donnees_features['augmentation_par_formation'] = donnees_features['augmentation_salaire_precedente_pourcent'] / (donnees_features['nb_formations_suivies']+1)\n",
    "donnees_features['augmentation_par_anciennete'] = donnees_features['augmentation_salaire_precedente_pourcent'] / (donnees_features['annees_dans_l_entreprise']+1)\n",
    "donnees_features['augmentation_relative_salaire'] = (donnees_features['augmentation_salaire_precedente_pourcent']/100) * donnees_features['revenu_mensuel']"
   ]
  },
  {
   "cell_type": "code",
   "execution_count": 30,
   "metadata": {},
   "outputs": [
    {
     "data": {
      "text/html": [
       "<div>\n",
       "<style scoped>\n",
       "    .dataframe tbody tr th:only-of-type {\n",
       "        vertical-align: middle;\n",
       "    }\n",
       "\n",
       "    .dataframe tbody tr th {\n",
       "        vertical-align: top;\n",
       "    }\n",
       "\n",
       "    .dataframe thead th {\n",
       "        text-align: right;\n",
       "    }\n",
       "</style>\n",
       "<table border=\"1\" class=\"dataframe\">\n",
       "  <thead>\n",
       "    <tr style=\"text-align: right;\">\n",
       "      <th></th>\n",
       "      <th>augmentation_par_formation</th>\n",
       "      <th>augmentation_par_anciennete</th>\n",
       "      <th>augmentation_relative_salaire</th>\n",
       "      <th>revenu_mensuel</th>\n",
       "      <th>augmentation_salaire_precedente_pourcent</th>\n",
       "      <th>annees_dans_l_entreprise</th>\n",
       "      <th>nb_formations_suivies</th>\n",
       "    </tr>\n",
       "  </thead>\n",
       "  <tbody>\n",
       "    <tr>\n",
       "      <th>0</th>\n",
       "      <td>11.000000</td>\n",
       "      <td>1.571429</td>\n",
       "      <td>659.23</td>\n",
       "      <td>5993</td>\n",
       "      <td>11</td>\n",
       "      <td>6</td>\n",
       "      <td>0</td>\n",
       "    </tr>\n",
       "    <tr>\n",
       "      <th>1</th>\n",
       "      <td>5.750000</td>\n",
       "      <td>2.090909</td>\n",
       "      <td>1179.90</td>\n",
       "      <td>5130</td>\n",
       "      <td>23</td>\n",
       "      <td>10</td>\n",
       "      <td>3</td>\n",
       "    </tr>\n",
       "    <tr>\n",
       "      <th>2</th>\n",
       "      <td>3.750000</td>\n",
       "      <td>15.000000</td>\n",
       "      <td>313.50</td>\n",
       "      <td>2090</td>\n",
       "      <td>15</td>\n",
       "      <td>0</td>\n",
       "      <td>3</td>\n",
       "    </tr>\n",
       "    <tr>\n",
       "      <th>3</th>\n",
       "      <td>2.750000</td>\n",
       "      <td>1.222222</td>\n",
       "      <td>319.99</td>\n",
       "      <td>2909</td>\n",
       "      <td>11</td>\n",
       "      <td>8</td>\n",
       "      <td>3</td>\n",
       "    </tr>\n",
       "    <tr>\n",
       "      <th>4</th>\n",
       "      <td>3.000000</td>\n",
       "      <td>4.000000</td>\n",
       "      <td>416.16</td>\n",
       "      <td>3468</td>\n",
       "      <td>12</td>\n",
       "      <td>2</td>\n",
       "      <td>3</td>\n",
       "    </tr>\n",
       "    <tr>\n",
       "      <th>5</th>\n",
       "      <td>4.333333</td>\n",
       "      <td>1.625000</td>\n",
       "      <td>398.84</td>\n",
       "      <td>3068</td>\n",
       "      <td>13</td>\n",
       "      <td>7</td>\n",
       "      <td>2</td>\n",
       "    </tr>\n",
       "    <tr>\n",
       "      <th>6</th>\n",
       "      <td>5.000000</td>\n",
       "      <td>10.000000</td>\n",
       "      <td>534.00</td>\n",
       "      <td>2670</td>\n",
       "      <td>20</td>\n",
       "      <td>1</td>\n",
       "      <td>3</td>\n",
       "    </tr>\n",
       "    <tr>\n",
       "      <th>7</th>\n",
       "      <td>7.333333</td>\n",
       "      <td>11.000000</td>\n",
       "      <td>592.46</td>\n",
       "      <td>2693</td>\n",
       "      <td>22</td>\n",
       "      <td>1</td>\n",
       "      <td>2</td>\n",
       "    </tr>\n",
       "    <tr>\n",
       "      <th>8</th>\n",
       "      <td>7.000000</td>\n",
       "      <td>2.100000</td>\n",
       "      <td>2000.46</td>\n",
       "      <td>9526</td>\n",
       "      <td>21</td>\n",
       "      <td>9</td>\n",
       "      <td>2</td>\n",
       "    </tr>\n",
       "    <tr>\n",
       "      <th>9</th>\n",
       "      <td>3.250000</td>\n",
       "      <td>1.625000</td>\n",
       "      <td>680.81</td>\n",
       "      <td>5237</td>\n",
       "      <td>13</td>\n",
       "      <td>7</td>\n",
       "      <td>3</td>\n",
       "    </tr>\n",
       "    <tr>\n",
       "      <th>10</th>\n",
       "      <td>2.166667</td>\n",
       "      <td>2.166667</td>\n",
       "      <td>315.38</td>\n",
       "      <td>2426</td>\n",
       "      <td>13</td>\n",
       "      <td>5</td>\n",
       "      <td>5</td>\n",
       "    </tr>\n",
       "    <tr>\n",
       "      <th>11</th>\n",
       "      <td>3.000000</td>\n",
       "      <td>1.200000</td>\n",
       "      <td>503.16</td>\n",
       "      <td>4193</td>\n",
       "      <td>12</td>\n",
       "      <td>9</td>\n",
       "      <td>3</td>\n",
       "    </tr>\n",
       "    <tr>\n",
       "      <th>12</th>\n",
       "      <td>8.500000</td>\n",
       "      <td>2.833333</td>\n",
       "      <td>494.87</td>\n",
       "      <td>2911</td>\n",
       "      <td>17</td>\n",
       "      <td>5</td>\n",
       "      <td>1</td>\n",
       "    </tr>\n",
       "    <tr>\n",
       "      <th>13</th>\n",
       "      <td>3.666667</td>\n",
       "      <td>3.666667</td>\n",
       "      <td>292.71</td>\n",
       "      <td>2661</td>\n",
       "      <td>11</td>\n",
       "      <td>2</td>\n",
       "      <td>2</td>\n",
       "    </tr>\n",
       "    <tr>\n",
       "      <th>14</th>\n",
       "      <td>2.800000</td>\n",
       "      <td>2.800000</td>\n",
       "      <td>283.92</td>\n",
       "      <td>2028</td>\n",
       "      <td>14</td>\n",
       "      <td>4</td>\n",
       "      <td>4</td>\n",
       "    </tr>\n",
       "  </tbody>\n",
       "</table>\n",
       "</div>"
      ],
      "text/plain": [
       "    augmentation_par_formation  augmentation_par_anciennete  \\\n",
       "0                    11.000000                     1.571429   \n",
       "1                     5.750000                     2.090909   \n",
       "2                     3.750000                    15.000000   \n",
       "3                     2.750000                     1.222222   \n",
       "4                     3.000000                     4.000000   \n",
       "5                     4.333333                     1.625000   \n",
       "6                     5.000000                    10.000000   \n",
       "7                     7.333333                    11.000000   \n",
       "8                     7.000000                     2.100000   \n",
       "9                     3.250000                     1.625000   \n",
       "10                    2.166667                     2.166667   \n",
       "11                    3.000000                     1.200000   \n",
       "12                    8.500000                     2.833333   \n",
       "13                    3.666667                     3.666667   \n",
       "14                    2.800000                     2.800000   \n",
       "\n",
       "    augmentation_relative_salaire  revenu_mensuel  \\\n",
       "0                          659.23            5993   \n",
       "1                         1179.90            5130   \n",
       "2                          313.50            2090   \n",
       "3                          319.99            2909   \n",
       "4                          416.16            3468   \n",
       "5                          398.84            3068   \n",
       "6                          534.00            2670   \n",
       "7                          592.46            2693   \n",
       "8                         2000.46            9526   \n",
       "9                          680.81            5237   \n",
       "10                         315.38            2426   \n",
       "11                         503.16            4193   \n",
       "12                         494.87            2911   \n",
       "13                         292.71            2661   \n",
       "14                         283.92            2028   \n",
       "\n",
       "    augmentation_salaire_precedente_pourcent  annees_dans_l_entreprise  \\\n",
       "0                                         11                         6   \n",
       "1                                         23                        10   \n",
       "2                                         15                         0   \n",
       "3                                         11                         8   \n",
       "4                                         12                         2   \n",
       "5                                         13                         7   \n",
       "6                                         20                         1   \n",
       "7                                         22                         1   \n",
       "8                                         21                         9   \n",
       "9                                         13                         7   \n",
       "10                                        13                         5   \n",
       "11                                        12                         9   \n",
       "12                                        17                         5   \n",
       "13                                        11                         2   \n",
       "14                                        14                         4   \n",
       "\n",
       "    nb_formations_suivies  \n",
       "0                       0  \n",
       "1                       3  \n",
       "2                       3  \n",
       "3                       3  \n",
       "4                       3  \n",
       "5                       2  \n",
       "6                       3  \n",
       "7                       2  \n",
       "8                       2  \n",
       "9                       3  \n",
       "10                      5  \n",
       "11                      3  \n",
       "12                      1  \n",
       "13                      2  \n",
       "14                      4  "
      ]
     },
     "execution_count": 30,
     "metadata": {},
     "output_type": "execute_result"
    }
   ],
   "source": [
    "donnees_features[\n",
    "    ['augmentation_par_formation','augmentation_par_anciennete','augmentation_relative_salaire',\n",
    "    'revenu_mensuel','augmentation_salaire_precedente_pourcent','annees_dans_l_entreprise','nb_formations_suivies']\n",
    "    \n",
    "].head(15)"
   ]
  }
 ],
 "metadata": {
  "kernelspec": {
   "display_name": "Classifiez_automatiquement_des_informations",
   "language": "python",
   "name": "python3"
  },
  "language_info": {
   "codemirror_mode": {
    "name": "ipython",
    "version": 3
   },
   "file_extension": ".py",
   "mimetype": "text/x-python",
   "name": "python",
   "nbconvert_exporter": "python",
   "pygments_lexer": "ipython3",
   "version": "3.12.7"
  }
 },
 "nbformat": 4,
 "nbformat_minor": 2
}
