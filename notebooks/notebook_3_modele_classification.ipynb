{
 "cells": [
  {
   "cell_type": "markdown",
   "metadata": {},
   "source": [
    "# Mission - Classifiez automatiquement des informations"
   ]
  },
  {
   "cell_type": "markdown",
   "metadata": {},
   "source": [
    "Vous êtes mandaté en tant que Consultant Data Scientist par le département RH de votre client. Il s’agit de l'ESN TechNova Partners, spécialisée dans le conseil en transformation digitale et la vente d’applications en SaaS.\n",
    " \n",
    "Ils font face à un turnover plus élevé que d'habitude et ils souhaitent identifier les causes racines potentielles derrière ces démissions."
   ]
  },
  {
   "cell_type": "markdown",
   "metadata": {},
   "source": [
    "### Importation des librairies"
   ]
  },
  {
   "cell_type": "code",
   "execution_count": 13,
   "metadata": {},
   "outputs": [],
   "source": [
    "# Librairies \"classiques\"\n",
    "import pandas as pd\n",
    "import numpy as np\n",
    "import matplotlib.pyplot as plt\n",
    "import seaborn as sns\n",
    "import plotly.express as px\n",
    "import plotly.io as pio\n",
    "from IPython.display import Image, display\n",
    "\n",
    "# Librairies scikit-learn\n",
    "from sklearn.model_selection import (\n",
    "    train_test_split,\n",
    "    GridSearchCV, \n",
    "    cross_validate,\n",
    ")\n",
    "from sklearn.metrics import mean_squared_error, r2_score, mean_absolute_error \n",
    "from sklearn.inspection import permutation_importance\n",
    "\n",
    "#Preprocess\n",
    "from sklearn.compose import ColumnTransformer\n",
    "from sklearn.preprocessing import LabelEncoder, OneHotEncoder, StandardScaler\n",
    "\n",
    "#Modèles\n",
    "from sklearn.dummy import DummyRegressor\n",
    "from sklearn.linear_model import LinearRegression\n",
    "from sklearn.svm import SVR\n",
    "from sklearn.ensemble import RandomForestRegressor\n",
    "\n",
    "from sklearn.metrics import make_scorer\n",
    "from sklearn.pipeline import Pipeline\n",
    "from sklearn.model_selection import cross_validate\n",
    "\n",
    "from sklearn.model_selection import train_test_split, cross_validate\n",
    "from sklearn.preprocessing import StandardScaler\n",
    "from sklearn.compose import ColumnTransformer\n",
    "from sklearn.pipeline import Pipeline\n",
    "from sklearn.dummy import DummyClassifier\n",
    "\n",
    "from sklearn.linear_model import LogisticRegression\n",
    "from sklearn.metrics import classification_report, confusion_matrix, ConfusionMatrixDisplay\n",
    "\n"
   ]
  },
  {
   "cell_type": "markdown",
   "metadata": {},
   "source": [
    "### On reprend les éléments du précédent notebook"
   ]
  },
  {
   "cell_type": "code",
   "execution_count": 3,
   "metadata": {},
   "outputs": [],
   "source": [
    "donnees_modelisation = pd.read_csv(\"../Data/Projet_4_etape2_clean.csv\")"
   ]
  },
  {
   "cell_type": "markdown",
   "metadata": {},
   "source": [
    "# Partie 3 - Réalisation d'un premier modèle de classification"
   ]
  },
  {
   "cell_type": "markdown",
   "metadata": {},
   "source": [
    "### Recommandations de l'étape 3 :\n",
    "* Commencer par réaliser une séparation train test simple ou une validation croisée simple.\n",
    "\n",
    "* Commencer par entraîner d’abord un modèle Dummy, puis un modèle linéaire, avant d'entraîner un modèle non-linéaire. Cela vous permettra d’évaluer la difficulté et la “non-linéarité” du jeu de données.\n",
    "* Concernant le modèle non-linéaire, nous recommandons d’utiliser des modèles à base d’arbre (RandomForest, XGBoost ou CatBoost sont les plus connus).\n",
    "* A minima, vous devez calculer les métriques d’évaluation incontournables en classification : matrice de confusion, rappel et précision. Le classification_report() de sklearn peut vous aider.\n",
    "* Interpréter la performance du modèle sur la base des scores (présence d’overfit ou non, capacité d’éviter les faux positifs ou faux négatifs) et du modèle étalon Dummy."
   ]
  },
  {
   "cell_type": "markdown",
   "metadata": {},
   "source": [
    "##### Dans un premier temps, nous allons procéder à une validation croisée sur un modèle Dummy pour avoir une base de comparaison. "
   ]
  },
  {
   "cell_type": "markdown",
   "metadata": {},
   "source": [
    "### Test sur le modèle DummyClassifier"
   ]
  },
  {
   "cell_type": "markdown",
   "metadata": {},
   "source": [
    "DummyClassifier est un classificateur qui fait des prédictions à l'aide de règles simples."
   ]
  },
  {
   "cell_type": "code",
   "execution_count": null,
   "metadata": {},
   "outputs": [
    {
     "name": "stdout",
     "output_type": "stream",
     "text": [
      "Classification Report — TRAIN\n",
      "              precision    recall  f1-score   support\n",
      "\n",
      "           0       0.84      1.00      0.91       986\n",
      "           1       0.00      0.00      0.00       190\n",
      "\n",
      "    accuracy                           0.84      1176\n",
      "   macro avg       0.42      0.50      0.46      1176\n",
      "weighted avg       0.70      0.84      0.76      1176\n",
      "\n",
      "Classification Report — TEST\n",
      "              precision    recall  f1-score   support\n",
      "\n",
      "           0       0.84      1.00      0.91       247\n",
      "           1       0.00      0.00      0.00        47\n",
      "\n",
      "    accuracy                           0.84       294\n",
      "   macro avg       0.42      0.50      0.46       294\n",
      "weighted avg       0.71      0.84      0.77       294\n",
      "\n"
     ]
    },
    {
     "name": "stderr",
     "output_type": "stream",
     "text": [
      "/Users/florianschorer/OpenClassrooms Project/Classifiez_automatiquement_des_informations/.venv/lib/python3.12/site-packages/sklearn/metrics/_classification.py:1731: UndefinedMetricWarning: Precision is ill-defined and being set to 0.0 due to no predicted samples. Use `zero_division` parameter to control this behavior.\n",
      "  _warn_prf(average, modifier, f\"{metric.capitalize()} is\", result.shape[0])\n",
      "/Users/florianschorer/OpenClassrooms Project/Classifiez_automatiquement_des_informations/.venv/lib/python3.12/site-packages/sklearn/metrics/_classification.py:1731: UndefinedMetricWarning: Precision is ill-defined and being set to 0.0 due to no predicted samples. Use `zero_division` parameter to control this behavior.\n",
      "  _warn_prf(average, modifier, f\"{metric.capitalize()} is\", result.shape[0])\n",
      "/Users/florianschorer/OpenClassrooms Project/Classifiez_automatiquement_des_informations/.venv/lib/python3.12/site-packages/sklearn/metrics/_classification.py:1731: UndefinedMetricWarning: Precision is ill-defined and being set to 0.0 due to no predicted samples. Use `zero_division` parameter to control this behavior.\n",
      "  _warn_prf(average, modifier, f\"{metric.capitalize()} is\", result.shape[0])\n",
      "/Users/florianschorer/OpenClassrooms Project/Classifiez_automatiquement_des_informations/.venv/lib/python3.12/site-packages/sklearn/metrics/_classification.py:1731: UndefinedMetricWarning: Precision is ill-defined and being set to 0.0 due to no predicted samples. Use `zero_division` parameter to control this behavior.\n",
      "  _warn_prf(average, modifier, f\"{metric.capitalize()} is\", result.shape[0])\n",
      "/Users/florianschorer/OpenClassrooms Project/Classifiez_automatiquement_des_informations/.venv/lib/python3.12/site-packages/sklearn/metrics/_classification.py:1731: UndefinedMetricWarning: Precision is ill-defined and being set to 0.0 due to no predicted samples. Use `zero_division` parameter to control this behavior.\n",
      "  _warn_prf(average, modifier, f\"{metric.capitalize()} is\", result.shape[0])\n",
      "/Users/florianschorer/OpenClassrooms Project/Classifiez_automatiquement_des_informations/.venv/lib/python3.12/site-packages/sklearn/metrics/_classification.py:1731: UndefinedMetricWarning: Precision is ill-defined and being set to 0.0 due to no predicted samples. Use `zero_division` parameter to control this behavior.\n",
      "  _warn_prf(average, modifier, f\"{metric.capitalize()} is\", result.shape[0])\n",
      "/Users/florianschorer/OpenClassrooms Project/Classifiez_automatiquement_des_informations/.venv/lib/python3.12/site-packages/sklearn/metrics/_classification.py:1731: UndefinedMetricWarning: Precision is ill-defined and being set to 0.0 in labels with no predicted samples. Use `zero_division` parameter to control this behavior.\n",
      "  _warn_prf(average, modifier, f\"{metric.capitalize()} is\", result.shape[0])\n",
      "/Users/florianschorer/OpenClassrooms Project/Classifiez_automatiquement_des_informations/.venv/lib/python3.12/site-packages/sklearn/metrics/_classification.py:1731: UndefinedMetricWarning: Precision is ill-defined and being set to 0.0 in labels with no predicted samples. Use `zero_division` parameter to control this behavior.\n",
      "  _warn_prf(average, modifier, f\"{metric.capitalize()} is\", result.shape[0])\n",
      "/Users/florianschorer/OpenClassrooms Project/Classifiez_automatiquement_des_informations/.venv/lib/python3.12/site-packages/sklearn/metrics/_classification.py:1731: UndefinedMetricWarning: Precision is ill-defined and being set to 0.0 in labels with no predicted samples. Use `zero_division` parameter to control this behavior.\n",
      "  _warn_prf(average, modifier, f\"{metric.capitalize()} is\", result.shape[0])\n",
      "/Users/florianschorer/OpenClassrooms Project/Classifiez_automatiquement_des_informations/.venv/lib/python3.12/site-packages/sklearn/metrics/_classification.py:1731: UndefinedMetricWarning: Precision is ill-defined and being set to 0.0 in labels with no predicted samples. Use `zero_division` parameter to control this behavior.\n",
      "  _warn_prf(average, modifier, f\"{metric.capitalize()} is\", result.shape[0])\n",
      "/Users/florianschorer/OpenClassrooms Project/Classifiez_automatiquement_des_informations/.venv/lib/python3.12/site-packages/sklearn/metrics/_classification.py:1731: UndefinedMetricWarning: Precision is ill-defined and being set to 0.0 in labels with no predicted samples. Use `zero_division` parameter to control this behavior.\n",
      "  _warn_prf(average, modifier, f\"{metric.capitalize()} is\", result.shape[0])\n",
      "/Users/florianschorer/OpenClassrooms Project/Classifiez_automatiquement_des_informations/.venv/lib/python3.12/site-packages/sklearn/metrics/_classification.py:1731: UndefinedMetricWarning: Precision is ill-defined and being set to 0.0 in labels with no predicted samples. Use `zero_division` parameter to control this behavior.\n",
      "  _warn_prf(average, modifier, f\"{metric.capitalize()} is\", result.shape[0])\n"
     ]
    }
   ],
   "source": [
    "# Colonnes à scaler ou déjà encodées\n",
    "features_a_scaler = [\n",
    "    'revenu_mensuel','annee_experience_totale','annees_dans_l_entreprise','distance_domicile_travail',\n",
    "    'annees_depuis_la_derniere_promotion','experience_externe','score_satisfaction',\n",
    "    'augmentation_par_formation','pee_par_anciennete','niveau_education']\n",
    "features_encodees = [\n",
    "    'genre','heure_supplementaires',\n",
    "    'frequence_deplacement','a_suivi_formation','tranche_age','statut_marital_Celibataire',\n",
    "    'statut_marital_Divorce','statut_marital_Marie','promotion_recente','poste_AssistantdeDirection',\n",
    "    'poste_CadreCommercial','poste_Consultant','poste_DirecteurTechnique','poste_Manager',\n",
    "    'poste_ReprésentantCommercial','poste_RessourcesHumaines','poste_SeniorManager','poste_TechLead']\n",
    "\n",
    "# Séparation de X et y\n",
    "y = donnees_modelisation[\"a_quitte_l_entreprise\"]\n",
    "X = donnees_modelisation.drop(columns = \"a_quitte_l_entreprise\")\n",
    "\n",
    "# Split en train/test\n",
    "X_train, X_test, y_train, y_test = train_test_split(X, y, test_size=0.20, random_state = 42, stratify=y)\n",
    "\n",
    "# Scaling ou non de mes features\n",
    "preprocessor = ColumnTransformer(\n",
    "    transformers = [\n",
    "        ('num', StandardScaler(), features_a_scaler),\n",
    "        ('cat', 'passthrough', features_encodees)\n",
    "    ]\n",
    ")\n",
    "# Ajout dans un Pipeline\n",
    "pipeline = Pipeline(steps=[\n",
    "    ('preprocessor', preprocessor),\n",
    "    ('model', DummyClassifier(strategy='most_frequent'))\n",
    "])\n",
    "# Enregistrement de nos indicateurs\n",
    "scoring = ['accuracy','precision','recall','f1']\n",
    "\n",
    "cv_results = cross_validate(\n",
    "    pipeline,\n",
    "    X_train, y_train,            \n",
    "    cv=3,\n",
    "    scoring=scoring,\n",
    "    return_train_score=True\n",
    ")\n",
    "\n",
    "# Fit sur l'ensemble d'entraînement\n",
    "pipeline.fit(X_train, y_train)\n",
    "\n",
    "# Prédictions\n",
    "y_pred_train = pipeline.predict(X_train)\n",
    "y_pred_test  = pipeline.predict(X_test)\n",
    "\n",
    "# Classification reports\n",
    "print(\"Classification Report — TRAIN\")\n",
    "print(classification_report(y_train, y_pred_train))\n",
    "\n",
    "print(\"Classification Report — TEST\")\n",
    "print(classification_report(y_test, y_pred_test))"
   ]
  },
  {
   "cell_type": "markdown",
   "metadata": {},
   "source": [
    "#### Réalisation de notre matrice de confusion pour DummyClassifier"
   ]
  },
  {
   "cell_type": "code",
   "execution_count": null,
   "metadata": {},
   "outputs": [
    {
     "data": {
      "image/png": "[encoded data removed]",
      "text/plain": [
       "<Figure size 1200x500 with 2 Axes>"
      ]
     },
     "metadata": {},
     "output_type": "display_data"
    }
   ],
   "source": [
    "classes = sorted(y.unique())\n",
    "\n",
    "cm_train = confusion_matrix(y_train, y_pred_train, labels=classes)\n",
    "cm_test  = confusion_matrix(y_test,  y_pred_test,  labels=classes)\n",
    "\n",
    "fig, axes = plt.subplots(1, 2, figsize=(12, 5))\n",
    "ConfusionMatrixDisplay(cm_train, display_labels=classes).plot(ax=axes[0], colorbar=False)\n",
    "axes[0].set_title(\"Confusion Matrix — TRAIN\")\n",
    "\n",
    "ConfusionMatrixDisplay(cm_test, display_labels=classes).plot(ax=axes[1], colorbar=False)\n",
    "axes[1].set_title(\"Confusion Matrix — TEST\")\n",
    "\n",
    "plt.tight_layout()\n",
    "plt.show()"
   ]
  },
  {
   "cell_type": "markdown",
   "metadata": {},
   "source": [
    "Avant d'interpréter nos indicateurs, une petite définition pour chaque."
   ]
  },
  {
   "cell_type": "markdown",
   "metadata": {},
   "source": [
    "* Accuracy : C’est le pourcentage de prédictions correctes (tous labels confondus). Exemple : \"Parmi tous les employés, combien ai-je bien classés ?”\n",
    "\n",
    "* Precison : Mesure la fiabilité des prédictions positives. Exemple : “Sur tous ceux que je pense quitter l’entreprise, combien quittent vraiment ?”\n",
    "* Recall : Mesure la capacité à ne pas rater de cas positifs. Exemple “Sur tous les départs réels, combien ai-je détectés ?”\n",
    "* F1-score : C’est une moyenne entre Precision et Recall.\n",
    "* Support : Nombre d’échantillons de la classe considérée.\n",
    "* Macro avg : Moyenne non pondérée des scores des classes. Chaque classe compte de la même façon, peu importe sa taille.\n",
    "* Weighted avg : Moyenne pondérée par le support (effectif de chaque classe)."
   ]
  },
  {
   "cell_type": "markdown",
   "metadata": {},
   "source": [
    "Interprétation des résultats de DummyClassifier\n",
    "* C'est ce qu'on attend d'un modèle de ce type, il va nous servir de base. Nous avons un dataset déséquilibré, 84% des salariés sont restés, et nous avons un accuracy de 84%, cela correspond.\n",
    "* Le modèle prédit toujours la classe majoritaire (0) : Accuracy ≈ 84%. Classe 1 complètement ignorée (recall = 0, precision = 0, F1 = 0). Macro average  bas (≈0.42–0.50), car une des classes est sacrifiée.\n",
    "\n",
    "Sur la matrice de confusion :\n",
    "* Dans les 2 cas le modèle n'a pas prédit de 1.\n",
    "* Le DummyClassifier prédit toujours la classe majoritaire (0)."
   ]
  },
  {
   "cell_type": "markdown",
   "metadata": {},
   "source": [
    "### Test sur le modèle LogisticRegression"
   ]
  },
  {
   "cell_type": "code",
   "execution_count": 24,
   "metadata": {},
   "outputs": [
    {
     "name": "stdout",
     "output_type": "stream",
     "text": [
      " Classification Report — TRAIN\n",
      "              precision    recall  f1-score   support\n",
      "\n",
      "           0       0.89      0.98      0.93       986\n",
      "           1       0.80      0.35      0.49       190\n",
      "\n",
      "    accuracy                           0.88      1176\n",
      "   macro avg       0.84      0.67      0.71      1176\n",
      "weighted avg       0.87      0.88      0.86      1176\n",
      "\n",
      "Classification Report — TEST\n",
      "              precision    recall  f1-score   support\n",
      "\n",
      "           0       0.88      0.99      0.93       247\n",
      "           1       0.82      0.30      0.44        47\n",
      "\n",
      "    accuracy                           0.88       294\n",
      "   macro avg       0.85      0.64      0.68       294\n",
      "weighted avg       0.87      0.88      0.85       294\n",
      "\n"
     ]
    }
   ],
   "source": [
    "# Colonnes à scaler ou déjà encodées\n",
    "features_a_scaler = [\n",
    "    'revenu_mensuel','annee_experience_totale','annees_dans_l_entreprise','distance_domicile_travail',\n",
    "    'annees_depuis_la_derniere_promotion','experience_externe','score_satisfaction',\n",
    "    'augmentation_par_formation','pee_par_anciennete','niveau_education']\n",
    "features_encodees = [\n",
    "    'genre','heure_supplementaires',\n",
    "    'frequence_deplacement','a_suivi_formation','tranche_age','statut_marital_Celibataire',\n",
    "    'statut_marital_Divorce','statut_marital_Marie','promotion_recente','poste_AssistantdeDirection',\n",
    "    'poste_CadreCommercial','poste_Consultant','poste_DirecteurTechnique','poste_Manager',\n",
    "    'poste_ReprésentantCommercial','poste_RessourcesHumaines','poste_SeniorManager','poste_TechLead']\n",
    "\n",
    "# Séparation de X et y\n",
    "y = donnees_modelisation[\"a_quitte_l_entreprise\"]\n",
    "X = donnees_modelisation.drop(columns = \"a_quitte_l_entreprise\")\n",
    "\n",
    "# Split en train/test\n",
    "X_train, X_test, y_train, y_test = train_test_split(X, y, test_size=0.20, random_state = 42, stratify=y)\n",
    "\n",
    "# Scaling ou non de mes features\n",
    "preprocessor = ColumnTransformer(\n",
    "    transformers = [\n",
    "        ('num', StandardScaler(), features_a_scaler ),\n",
    "        ('cat', 'passthrough', features_encodees)\n",
    "    ]\n",
    ")\n",
    "# Ajout dans un Pipeline\n",
    "pipeline = Pipeline(steps=[\n",
    "    ('preprocessor', preprocessor),\n",
    "    ('model', LogisticRegression())\n",
    "])\n",
    "# Enregistrement de nos indicateurs\n",
    "scoring = ['accuracy','precision','recall','f1']\n",
    "\n",
    "cv_results = cross_validate(\n",
    "    pipeline,\n",
    "    X_train, y_train,            \n",
    "    cv=3,\n",
    "    scoring=scoring,\n",
    "    return_train_score=True # On inclut les scores du train\n",
    ")\n",
    "\n",
    "# Fit sur l'ensemble d'entraînement\n",
    "pipeline.fit(X_train, y_train)\n",
    "\n",
    "# Prédictions\n",
    "y_pred_train = pipeline.predict(X_train)\n",
    "y_pred_test  = pipeline.predict(X_test)\n",
    "\n",
    "# Classification reports\n",
    "print(\" Classification Report — TRAIN\")\n",
    "print(classification_report(y_train, y_pred_train))\n",
    "\n",
    "print(\"Classification Report — TEST\")\n",
    "print(classification_report(y_test, y_pred_test))"
   ]
  },
  {
   "cell_type": "markdown",
   "metadata": {},
   "source": [
    "Interprétation du classfication report :\n",
    "* Accuracy : train 0.880 vs val 0.881. Le modèle classe correctement environ 88 % des salariés, aussi bien sur train que sur validation. L’écart train/val est quasi nul : pas d’overfitting. On peut noter également un meilleur score d'accuracy pour le modèle de régression logistique que notre étalon Dummy.\n",
    "\n",
    "* Precision : train 0.786 vs val 0.791. Quand le modèle prédit “Oui” (départ), il a raison environ 8 fois sur 10. Donc peu de faux positifs (il ne se trompe pas souvent en disant qu’un salarié part).\n",
    "* Recall : train 0.355 vs val 0.358. Mais il ne détecte qu’environ 1 salarié sur 3 qui part réellement. Beaucoup de faux négatifs : le modèle loupe une majorité des départs.\n",
    "* F1 : train 0.488 | val 0.492. Le compromis précision/rappel est moyen."
   ]
  },
  {
   "cell_type": "markdown",
   "metadata": {},
   "source": [
    "#### Réalisation de notre matrice de confusion pour LogisticRegression"
   ]
  },
  {
   "cell_type": "code",
   "execution_count": 25,
   "metadata": {},
   "outputs": [
    {
     "data": {
      "image/png": "[encoded data removed]",
      "text/plain": [
       "<Figure size 1200x500 with 2 Axes>"
      ]
     },
     "metadata": {},
     "output_type": "display_data"
    }
   ],
   "source": [
    "classes = sorted(y.unique())\n",
    "\n",
    "# Matrices de confusion\n",
    "cm_train = confusion_matrix(y_train, y_pred_train, labels=classes)\n",
    "cm_test  = confusion_matrix(y_test,  y_pred_test,  labels=classes)\n",
    "\n",
    "fig, axes = plt.subplots(1, 2, figsize=(12, 5))\n",
    "ConfusionMatrixDisplay(cm_train, display_labels=classes).plot(ax=axes[0], colorbar=False)\n",
    "axes[0].set_title(\"Confusion Matrix — TRAIN\")\n",
    "\n",
    "ConfusionMatrixDisplay(cm_test, display_labels=classes).plot(ax=axes[1], colorbar=False)\n",
    "axes[1].set_title(\"Confusion Matrix — TEST\")\n",
    "\n",
    "plt.tight_layout()\n",
    "plt.show()"
   ]
  },
  {
   "cell_type": "markdown",
   "metadata": {},
   "source": [
    "Sur la matrice de confusion :\n",
    "* La classe 0 est bien gérée (presque 100% de recall).\n",
    "* La classe 1 est détectée mais encore faiblement (environ 30% de recall).\n",
    "* Le modèle est conservateur : très peu de FP, mais beaucoup de FN.\n",
    "* C’est mieux que le Dummy (qui n’avait aucun TP), mais ça reste déséquilibré."
   ]
  },
  {
   "cell_type": "markdown",
   "metadata": {},
   "source": [
    "#### Nous décidons de tester deux modèles non linéaires :\n",
    "* RandomForest\n",
    "* XGBoost"
   ]
  },
  {
   "cell_type": "code",
   "execution_count": 17,
   "metadata": {},
   "outputs": [
    {
     "data": {
      "text/plain": [
       "array([[969,  17],\n",
       "       [123,  67]])"
      ]
     },
     "execution_count": 17,
     "metadata": {},
     "output_type": "execute_result"
    }
   ],
   "source": [
    "cm_train"
   ]
  }
 ],
 "metadata": {
  "kernelspec": {
   "display_name": "Classifiez_automatiquement_des_informations",
   "language": "python",
   "name": "python3"
  },
  "language_info": {
   "codemirror_mode": {
    "name": "ipython",
    "version": 3
   },
   "file_extension": ".py",
   "mimetype": "text/x-python",
   "name": "python",
   "nbconvert_exporter": "python",
   "pygments_lexer": "ipython3",
   "version": "3.12.7"
  }
 },
 "nbformat": 4,
 "nbformat_minor": 2
}
