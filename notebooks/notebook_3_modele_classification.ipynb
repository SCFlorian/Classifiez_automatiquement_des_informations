{
 "cells": [
  {
   "cell_type": "markdown",
   "metadata": {},
   "source": [
    "# Mission - Classifiez automatiquement des informations"
   ]
  },
  {
   "cell_type": "markdown",
   "metadata": {},
   "source": [
    "Vous êtes mandaté en tant que Consultant Data Scientist par le département RH de votre client. Il s’agit de l'ESN TechNova Partners, spécialisée dans le conseil en transformation digitale et la vente d’applications en SaaS.\n",
    " \n",
    "Ils font face à un turnover plus élevé que d'habitude et ils souhaitent identifier les causes racines potentielles derrière ces démissions."
   ]
  },
  {
   "cell_type": "markdown",
   "metadata": {},
   "source": [
    "### Importation des librairies"
   ]
  },
  {
   "cell_type": "code",
   "execution_count": 12,
   "metadata": {},
   "outputs": [],
   "source": [
    "# Librairies \"classiques\"\n",
    "import pandas as pd\n",
    "import numpy as np\n",
    "import matplotlib.pyplot as plt\n",
    "import seaborn as sns\n",
    "import plotly.express as px\n",
    "import plotly.io as pio\n",
    "from IPython.display import Image, display\n",
    "\n",
    "# Librairies scikit-learn\n",
    "from sklearn.model_selection import (\n",
    "    train_test_split,\n",
    "    GridSearchCV, \n",
    "    cross_validate,\n",
    ")\n",
    "# Preprocess et modèles\n",
    "from sklearn.pipeline import Pipeline\n",
    "from sklearn.model_selection import train_test_split, cross_validate\n",
    "from sklearn.preprocessing import LabelEncoder, OneHotEncoder, StandardScaler\n",
    "from sklearn.compose import ColumnTransformer\n",
    "from sklearn.pipeline import Pipeline\n",
    "from sklearn.metrics import classification_report, confusion_matrix, ConfusionMatrixDisplay\n",
    "\n",
    "from sklearn.dummy import DummyClassifier\n",
    "from sklearn.linear_model import LogisticRegression\n",
    "from sklearn.ensemble import RandomForestClassifier\n",
    "from xgboost import XGBClassifier\n",
    "from catboost import CatBoostClassifier, Pool\n",
    "\n",
    "# Fonctions python créées\n",
    "from utils import prepare_xy\n",
    "from utils import scaler_ou_non\n",
    "from utils import modelisation"
   ]
  },
  {
   "cell_type": "markdown",
   "metadata": {},
   "source": [
    "### On reprend les éléments du premier notebook"
   ]
  },
  {
   "cell_type": "code",
   "execution_count": 13,
   "metadata": {},
   "outputs": [],
   "source": [
    "donnees_modelisation = pd.read_csv(\"../Data/Processed/Projet_4_etape1_clean.csv\")"
   ]
  },
  {
   "cell_type": "markdown",
   "metadata": {},
   "source": [
    "# Partie 3 - Réalisation d'un premier modèle de classification"
   ]
  },
  {
   "cell_type": "markdown",
   "metadata": {},
   "source": [
    "### Recommandations de l'étape 3 :\n",
    "* Commencer par réaliser une séparation train test simple ou une validation croisée simple.\n",
    "\n",
    "* Commencer par entraîner d’abord un modèle Dummy, puis un modèle linéaire, avant d'entraîner un modèle non-linéaire. Cela vous permettra d’évaluer la difficulté et la “non-linéarité” du jeu de données.\n",
    "* Concernant le modèle non-linéaire, nous recommandons d’utiliser des modèles à base d’arbre (RandomForest, XGBoost ou CatBoost sont les plus connus).\n",
    "* A minima, vous devez calculer les métriques d’évaluation incontournables en classification : matrice de confusion, rappel et précision. Le classification_report() de sklearn peut vous aider.\n",
    "* Interpréter la performance du modèle sur la base des scores (présence d’overfit ou non, capacité d’éviter les faux positifs ou faux négatifs) et du modèle étalon Dummy."
   ]
  },
  {
   "cell_type": "markdown",
   "metadata": {},
   "source": [
    "#### On décide de mettre dans une fonction notre séparation de jeu afin qu'il soit reproductible et plus robuste"
   ]
  },
  {
   "cell_type": "code",
   "execution_count": 14,
   "metadata": {},
   "outputs": [],
   "source": [
    "# Transformation + séparation X et y dans utils.py\n",
    "X, y = prepare_xy(donnees_modelisation, target_col=\"a_quitte_l_entreprise\")\n",
    "features_a_scaler, features_encodees = scaler_ou_non()\n",
    "\n",
    "# Split une seule fois (figé, stratifié)\n",
    "X_train, X_test, y_train, y_test = train_test_split(\n",
    "    X, y, test_size=0.2, stratify=y, random_state=42\n",
    ")\n",
    "# Reconstituer dataframes complets train et test\n",
    "train_data_df = X_train.copy()\n",
    "train_data_df[\"a_quitte_l_entreprise\"] = y_train.values\n",
    "\n",
    "test_data_df = X_test.copy()\n",
    "test_data_df[\"a_quitte_l_entreprise\"] = y_test.values\n",
    "\n",
    "# Sauvegarde\n",
    "train_path = \"../Data/Processed/train_data_df.csv\"\n",
    "test_path  = \"../Data/Processed/test_data_df.csv\"\n",
    "\n",
    "train_data_df.to_csv(train_path, index=False)\n",
    "test_data_df.to_csv(test_path, index=False)"
   ]
  },
  {
   "cell_type": "markdown",
   "metadata": {},
   "source": [
    "##### Dans un premier temps, nous allons procéder à une validation croisée sur un modèle Dummy pour avoir une base de comparaison.\n",
    "\n",
    "Avant d'interpréter nos indicateurs, une petite définition pour chaque :\n",
    "\n",
    "* Accuracy : C’est le pourcentage de prédictions correctes (tous labels confondus). Exemple : \"Parmi tous les employés, combien ai-je bien classés ?”\n",
    "\n",
    "* Precison : Mesure la fiabilité des prédictions positives. Exemple : “Sur tous ceux que je pense quitter l’entreprise, combien quittent vraiment ?”\n",
    "* Recall : Mesure la capacité à ne pas rater de cas positifs. Exemple “Sur tous les départs réels, combien ai-je détectés ?”\n",
    "* F1-score : C’est une moyenne entre Precision et Recall.\n",
    "* Support : Nombre d’échantillons de la classe considérée.\n",
    "* Macro avg : Moyenne non pondérée des scores des classes. Chaque classe compte de la même façon, peu importe sa taille.\n",
    "* Weighted avg : Moyenne pondérée par le support (effectif de chaque classe)."
   ]
  },
  {
   "cell_type": "markdown",
   "metadata": {},
   "source": [
    "### Test sur le modèle DummyClassifier"
   ]
  },
  {
   "cell_type": "markdown",
   "metadata": {},
   "source": [
    "DummyClassifier est un classificateur qui fait des prédictions à l'aide de règles simples."
   ]
  },
  {
   "cell_type": "code",
   "execution_count": 15,
   "metadata": {},
   "outputs": [
    {
     "name": "stdout",
     "output_type": "stream",
     "text": [
      "=== Résultats CV (train vs val) ===\n",
      "precision         : train 0.000 ± 0.000 vs val 0.000 ± 0.000\n",
      "recall            : train 0.000 ± 0.000 vs val 0.000 ± 0.000\n",
      "f1                : train 0.000 ± 0.000 vs val 0.000 ± 0.000\n",
      "average_precision : train 0.162 ± 0.001 vs val 0.162 ± 0.001\n",
      "balanced_accuracy : train 0.500 ± 0.000 vs val 0.500 ± 0.000\n",
      " Classification Report — TRAIN\n",
      "              precision    recall  f1-score   support\n",
      "\n",
      "           0       0.84      1.00      0.91       986\n",
      "           1       0.00      0.00      0.00       190\n",
      "\n",
      "    accuracy                           0.84      1176\n",
      "   macro avg       0.42      0.50      0.46      1176\n",
      "weighted avg       0.70      0.84      0.76      1176\n",
      "\n",
      "Classification Report — TEST\n",
      "              precision    recall  f1-score   support\n",
      "\n",
      "           0       0.84      1.00      0.91       247\n",
      "           1       0.00      0.00      0.00        47\n",
      "\n",
      "    accuracy                           0.84       294\n",
      "   macro avg       0.42      0.50      0.46       294\n",
      "weighted avg       0.71      0.84      0.77       294\n",
      "\n"
     ]
    },
    {
     "name": "stderr",
     "output_type": "stream",
     "text": [
      "/Users/florianschorer/OpenClassrooms Project/Classifiez_automatiquement_des_informations/.venv/lib/python3.12/site-packages/sklearn/metrics/_classification.py:1731: UndefinedMetricWarning: Precision is ill-defined and being set to 0.0 due to no predicted samples. Use `zero_division` parameter to control this behavior.\n",
      "  _warn_prf(average, modifier, f\"{metric.capitalize()} is\", result.shape[0])\n",
      "/Users/florianschorer/OpenClassrooms Project/Classifiez_automatiquement_des_informations/.venv/lib/python3.12/site-packages/sklearn/metrics/_classification.py:1731: UndefinedMetricWarning: Precision is ill-defined and being set to 0.0 due to no predicted samples. Use `zero_division` parameter to control this behavior.\n",
      "  _warn_prf(average, modifier, f\"{metric.capitalize()} is\", result.shape[0])\n",
      "/Users/florianschorer/OpenClassrooms Project/Classifiez_automatiquement_des_informations/.venv/lib/python3.12/site-packages/sklearn/metrics/_classification.py:1731: UndefinedMetricWarning: Precision is ill-defined and being set to 0.0 due to no predicted samples. Use `zero_division` parameter to control this behavior.\n",
      "  _warn_prf(average, modifier, f\"{metric.capitalize()} is\", result.shape[0])\n",
      "/Users/florianschorer/OpenClassrooms Project/Classifiez_automatiquement_des_informations/.venv/lib/python3.12/site-packages/sklearn/metrics/_classification.py:1731: UndefinedMetricWarning: Precision is ill-defined and being set to 0.0 due to no predicted samples. Use `zero_division` parameter to control this behavior.\n",
      "  _warn_prf(average, modifier, f\"{metric.capitalize()} is\", result.shape[0])\n",
      "/Users/florianschorer/OpenClassrooms Project/Classifiez_automatiquement_des_informations/.venv/lib/python3.12/site-packages/sklearn/metrics/_classification.py:1731: UndefinedMetricWarning: Precision is ill-defined and being set to 0.0 due to no predicted samples. Use `zero_division` parameter to control this behavior.\n",
      "  _warn_prf(average, modifier, f\"{metric.capitalize()} is\", result.shape[0])\n",
      "/Users/florianschorer/OpenClassrooms Project/Classifiez_automatiquement_des_informations/.venv/lib/python3.12/site-packages/sklearn/metrics/_classification.py:1731: UndefinedMetricWarning: Precision is ill-defined and being set to 0.0 due to no predicted samples. Use `zero_division` parameter to control this behavior.\n",
      "  _warn_prf(average, modifier, f\"{metric.capitalize()} is\", result.shape[0])\n",
      "/Users/florianschorer/OpenClassrooms Project/Classifiez_automatiquement_des_informations/.venv/lib/python3.12/site-packages/sklearn/metrics/_classification.py:1731: UndefinedMetricWarning: Precision is ill-defined and being set to 0.0 in labels with no predicted samples. Use `zero_division` parameter to control this behavior.\n",
      "  _warn_prf(average, modifier, f\"{metric.capitalize()} is\", result.shape[0])\n",
      "/Users/florianschorer/OpenClassrooms Project/Classifiez_automatiquement_des_informations/.venv/lib/python3.12/site-packages/sklearn/metrics/_classification.py:1731: UndefinedMetricWarning: Precision is ill-defined and being set to 0.0 in labels with no predicted samples. Use `zero_division` parameter to control this behavior.\n",
      "  _warn_prf(average, modifier, f\"{metric.capitalize()} is\", result.shape[0])\n",
      "/Users/florianschorer/OpenClassrooms Project/Classifiez_automatiquement_des_informations/.venv/lib/python3.12/site-packages/sklearn/metrics/_classification.py:1731: UndefinedMetricWarning: Precision is ill-defined and being set to 0.0 in labels with no predicted samples. Use `zero_division` parameter to control this behavior.\n",
      "  _warn_prf(average, modifier, f\"{metric.capitalize()} is\", result.shape[0])\n",
      "/Users/florianschorer/OpenClassrooms Project/Classifiez_automatiquement_des_informations/.venv/lib/python3.12/site-packages/sklearn/metrics/_classification.py:1731: UndefinedMetricWarning: Precision is ill-defined and being set to 0.0 in labels with no predicted samples. Use `zero_division` parameter to control this behavior.\n",
      "  _warn_prf(average, modifier, f\"{metric.capitalize()} is\", result.shape[0])\n",
      "/Users/florianschorer/OpenClassrooms Project/Classifiez_automatiquement_des_informations/.venv/lib/python3.12/site-packages/sklearn/metrics/_classification.py:1731: UndefinedMetricWarning: Precision is ill-defined and being set to 0.0 in labels with no predicted samples. Use `zero_division` parameter to control this behavior.\n",
      "  _warn_prf(average, modifier, f\"{metric.capitalize()} is\", result.shape[0])\n",
      "/Users/florianschorer/OpenClassrooms Project/Classifiez_automatiquement_des_informations/.venv/lib/python3.12/site-packages/sklearn/metrics/_classification.py:1731: UndefinedMetricWarning: Precision is ill-defined and being set to 0.0 in labels with no predicted samples. Use `zero_division` parameter to control this behavior.\n",
      "  _warn_prf(average, modifier, f\"{metric.capitalize()} is\", result.shape[0])\n"
     ]
    }
   ],
   "source": [
    "pipe = modelisation(\n",
    "    model=DummyClassifier(strategy='most_frequent'))"
   ]
  },
  {
   "cell_type": "markdown",
   "metadata": {},
   "source": [
    "Interprétation du classification report :\n",
    "* Sur la validation croisée on voit la plupart des indicateurs à 0, ce qui est normal car c'est un modèle de base. On a juste une information sur l'average_precision de 0.162, ce qui correspond bien à notre jeu déséquilibré car nous avons 16% de données en classe 1.\n",
    "\n",
    "* C'est ce qu'on attend d'un modèle de ce type, il va nous servir de base. Nous avons un dataset déséquilibré, 84% des salariés sont restés, et nous avons un accuracy de 84%, cela correspond.\n",
    "Le modèle prédit toujours la classe majoritaire (0) : Accuracy environ 84%. Classe 1 complètement ignorée (recall = 0, precision = 0, F1 = 0)."
   ]
  },
  {
   "cell_type": "markdown",
   "metadata": {},
   "source": [
    "#### Réalisation de notre matrice de confusion pour DummyClassifier"
   ]
  },
  {
   "cell_type": "code",
   "execution_count": 16,
   "metadata": {},
   "outputs": [
    {
     "data": {
      "image/png": "[encoded data removed]",
      "text/plain": [
       "<Figure size 1200x500 with 2 Axes>"
      ]
     },
     "metadata": {},
     "output_type": "display_data"
    }
   ],
   "source": [
    "fig, axes = plt.subplots(1, 2, figsize=(12, 5))\n",
    "\n",
    "ConfusionMatrixDisplay.from_estimator(pipe, X_train, y_train, ax=axes[0], colorbar=False)\n",
    "axes[0].set_title(\"Confusion Matrix — TRAIN\")\n",
    "\n",
    "ConfusionMatrixDisplay.from_estimator(pipe, X_test, y_test, ax=axes[1], colorbar=False)\n",
    "axes[1].set_title(\"Confusion Matrix — TEST\")\n",
    "\n",
    "plt.tight_layout()\n",
    "plt.show()"
   ]
  },
  {
   "cell_type": "markdown",
   "metadata": {},
   "source": [
    "Sur la matrice de confusion :\n",
    "\n",
    "* Dans les 2 cas, le modèle n'a pas prédit de 1.\n",
    "Le DummyClassifier prédit toujours la classe majoritaire (0)."
   ]
  },
  {
   "cell_type": "markdown",
   "metadata": {},
   "source": [
    "### Test sur le modèle linéaire : LogisticRegression"
   ]
  },
  {
   "cell_type": "code",
   "execution_count": 17,
   "metadata": {},
   "outputs": [
    {
     "name": "stdout",
     "output_type": "stream",
     "text": [
      "=== Résultats CV (train vs val) ===\n",
      "precision         : train 0.783 ± 0.024 vs val 0.758 ± 0.068\n",
      "recall            : train 0.405 ± 0.020 vs val 0.384 ± 0.092\n",
      "f1                : train 0.533 ± 0.014 vs val 0.497 ± 0.076\n",
      "average_precision : train 0.691 ± 0.012 vs val 0.618 ± 0.035\n",
      "balanced_accuracy : train 0.692 ± 0.008 vs val 0.679 ± 0.040\n",
      " Classification Report — TRAIN\n",
      "              precision    recall  f1-score   support\n",
      "\n",
      "           0       0.89      0.98      0.93       986\n",
      "           1       0.79      0.39      0.53       190\n",
      "\n",
      "    accuracy                           0.89      1176\n",
      "   macro avg       0.84      0.69      0.73      1176\n",
      "weighted avg       0.88      0.89      0.87      1176\n",
      "\n",
      "Classification Report — TEST\n",
      "              precision    recall  f1-score   support\n",
      "\n",
      "           0       0.89      0.96      0.92       247\n",
      "           1       0.63      0.36      0.46        47\n",
      "\n",
      "    accuracy                           0.86       294\n",
      "   macro avg       0.76      0.66      0.69       294\n",
      "weighted avg       0.85      0.86      0.85       294\n",
      "\n"
     ]
    }
   ],
   "source": [
    "pipe = modelisation(\n",
    "    model=LogisticRegression(random_state=42))"
   ]
  },
  {
   "cell_type": "markdown",
   "metadata": {},
   "source": [
    "Interprétation du modèle linéaire :\n",
    "\n",
    "Validation croisée :\n",
    "\n",
    "* Pas d'overfitting ici et on peut noter des écarts_types plutôt contrôlés. Le recall est bas, pas étonnant vu le jeu déséquilibré. On obtient une balanced_accuracy de 0.68 sur le test, une précision moyenne meilleure que le Dummy.\n",
    "\n",
    "Classfication report :\n",
    "\n",
    "* Accuracy : train 0.89 vs val 0.86. Le modèle classe correctement environ 86-89 % des salariés. L’écart train/test est quasi nul : pas d’overfitting. On peut noter également un meilleur score d'accuracy pour le modèle de régression logistique que notre étalon Dummy.\n",
    "\n",
    "* Precision : train 0.79 vs test 0.63. Quand le modèle prédit “Oui” (départ), il a raison environ 6 fois sur 10. \n",
    "\n",
    "* Recall : train 0.39 vs test 0.36. Mais il ne détecte qu’environ 1 salarié sur 3 qui part réellement. Beaucoup de faux négatifs : le modèle loupe une majorité des départs."
   ]
  },
  {
   "cell_type": "markdown",
   "metadata": {},
   "source": [
    "#### Matrice de confusion du modèle linéaire"
   ]
  },
  {
   "cell_type": "code",
   "execution_count": 18,
   "metadata": {},
   "outputs": [
    {
     "data": {
      "image/png": "[encoded data removed]",
      "text/plain": [
       "<Figure size 1200x500 with 2 Axes>"
      ]
     },
     "metadata": {},
     "output_type": "display_data"
    }
   ],
   "source": [
    "fig, axes = plt.subplots(1, 2, figsize=(12, 5))\n",
    "\n",
    "ConfusionMatrixDisplay.from_estimator(pipe, X_train, y_train, ax=axes[0], colorbar=False)\n",
    "axes[0].set_title(\"Confusion Matrix — TRAIN\")\n",
    "\n",
    "ConfusionMatrixDisplay.from_estimator(pipe, X_test, y_test, ax=axes[1], colorbar=False)\n",
    "axes[1].set_title(\"Confusion Matrix — TEST\")\n",
    "\n",
    "plt.tight_layout()\n",
    "plt.show()"
   ]
  },
  {
   "cell_type": "markdown",
   "metadata": {},
   "source": [
    "Sur la matrice de confusion :\n",
    "\n",
    "* La classe 0 est bien gérée, presque 100%.\n",
    "* La classe 1 est détectée mais encore faiblement (environ 40% de recall).\n",
    "* Le modèle est conservateur : très peu de FP, mais beaucoup de FN.\n",
    "* C’est mieux que le Dummy (qui n’avait aucun TP), mais ça reste déséquilibré."
   ]
  },
  {
   "cell_type": "markdown",
   "metadata": {},
   "source": [
    "### Nous décidons de tester deux modèles non linéaires :\n",
    "\n",
    "* RandomForest\n",
    "* CatBoost"
   ]
  },
  {
   "cell_type": "markdown",
   "metadata": {},
   "source": [
    "#### RandomForest"
   ]
  },
  {
   "cell_type": "code",
   "execution_count": 19,
   "metadata": {},
   "outputs": [
    {
     "name": "stdout",
     "output_type": "stream",
     "text": [
      "=== Résultats CV (train vs val) ===\n",
      "precision         : train 1.000 ± 0.000 vs val 0.907 ± 0.131\n",
      "recall            : train 1.000 ± 0.000 vs val 0.136 ± 0.075\n",
      "f1                : train 1.000 ± 0.000 vs val 0.225 ± 0.116\n",
      "average_precision : train 1.000 ± 0.000 vs val 0.563 ± 0.002\n",
      "balanced_accuracy : train 1.000 ± 0.000 vs val 0.566 ± 0.035\n",
      " Classification Report — TRAIN\n",
      "              precision    recall  f1-score   support\n",
      "\n",
      "           0       1.00      1.00      1.00       986\n",
      "           1       1.00      1.00      1.00       190\n",
      "\n",
      "    accuracy                           1.00      1176\n",
      "   macro avg       1.00      1.00      1.00      1176\n",
      "weighted avg       1.00      1.00      1.00      1176\n",
      "\n",
      "Classification Report — TEST\n",
      "              precision    recall  f1-score   support\n",
      "\n",
      "           0       0.86      0.99      0.92       247\n",
      "           1       0.78      0.15      0.25        47\n",
      "\n",
      "    accuracy                           0.86       294\n",
      "   macro avg       0.82      0.57      0.59       294\n",
      "weighted avg       0.85      0.86      0.81       294\n",
      "\n"
     ]
    }
   ],
   "source": [
    "pipe = modelisation(\n",
    "    model=RandomForestClassifier(random_state=42))"
   ]
  },
  {
   "cell_type": "markdown",
   "metadata": {},
   "source": [
    "Interprétation des résultats du RandomForestClassifier :\n",
    "\n",
    "Sur la validation croisée :\n",
    "\n",
    "* On voit bien l'overfit. Sans être étonné, nous avons un recall très bas dû au déséquilibre. On peut observer un écart-type plus \"important\" que les autres sur la précision.\n",
    "* Par rapport au modèle linéaire notre balanced_accuracy est moins bonne, on chute à 0.57\n",
    "\n",
    "Sur le classification report :\n",
    "* Train = 1.00 partout : RandomForest overfit.\n",
    "* Test (classe 1) : precision 0.78, recall 0.15 = le modèle rate presque tous les “1” (énormément de FN).\n",
    "* Accuracy élevée en test (0.86) car la classe 0 domine : trompeuse."
   ]
  },
  {
   "cell_type": "markdown",
   "metadata": {},
   "source": [
    "#### Matrice de confusion de RandomForest"
   ]
  },
  {
   "cell_type": "code",
   "execution_count": 20,
   "metadata": {},
   "outputs": [
    {
     "data": {
      "image/png": "[encoded data removed]",
      "text/plain": [
       "<Figure size 1200x500 with 2 Axes>"
      ]
     },
     "metadata": {},
     "output_type": "display_data"
    }
   ],
   "source": [
    "fig, axes = plt.subplots(1, 2, figsize=(12, 5))\n",
    "\n",
    "ConfusionMatrixDisplay.from_estimator(pipe, X_train, y_train, ax=axes[0], colorbar=False)\n",
    "axes[0].set_title(\"Confusion Matrix — TRAIN\")\n",
    "\n",
    "ConfusionMatrixDisplay.from_estimator(pipe, X_test, y_test, ax=axes[1], colorbar=False)\n",
    "axes[1].set_title(\"Confusion Matrix — TEST\")\n",
    "\n",
    "plt.tight_layout()\n",
    "plt.show()"
   ]
  },
  {
   "cell_type": "markdown",
   "metadata": {},
   "source": [
    "Interprétation de la matrice de confusion :\n",
    "* Clairement de l'overfit sur le train\n",
    "* On capte quelques classes 1 mais la plupart sont mal classées (en faux négatifs)"
   ]
  },
  {
   "cell_type": "markdown",
   "metadata": {},
   "source": [
    "### CatBoost"
   ]
  },
  {
   "cell_type": "code",
   "execution_count": 21,
   "metadata": {},
   "outputs": [
    {
     "name": "stdout",
     "output_type": "stream",
     "text": [
      "=== Résultats CV (train vs val) ===\n",
      "precision         : train 1.000 ± 0.000 vs val 0.888 ± 0.083\n",
      "recall            : train 0.926 ± 0.015 vs val 0.289 ± 0.076\n",
      "f1                : train 0.962 ± 0.008 vs val 0.426 ± 0.079\n",
      "average_precision : train 0.999 ± 0.000 vs val 0.595 ± 0.002\n",
      "balanced_accuracy : train 0.963 ± 0.007 vs val 0.640 ± 0.034\n",
      " Classification Report — TRAIN\n",
      "              precision    recall  f1-score   support\n",
      "\n",
      "           0       0.98      1.00      0.99       986\n",
      "           1       1.00      0.89      0.94       190\n",
      "\n",
      "    accuracy                           0.98      1176\n",
      "   macro avg       0.99      0.95      0.97      1176\n",
      "weighted avg       0.98      0.98      0.98      1176\n",
      "\n",
      "Classification Report — TEST\n",
      "              precision    recall  f1-score   support\n",
      "\n",
      "           0       0.87      0.99      0.92       247\n",
      "           1       0.77      0.21      0.33        47\n",
      "\n",
      "    accuracy                           0.86       294\n",
      "   macro avg       0.82      0.60      0.63       294\n",
      "weighted avg       0.85      0.86      0.83       294\n",
      "\n"
     ]
    }
   ],
   "source": [
    "pipe = modelisation(\n",
    "    model=CatBoostClassifier(random_state=42, verbose=0))"
   ]
  },
  {
   "cell_type": "markdown",
   "metadata": {},
   "source": [
    "Interprétation des résultats :\n",
    "\n",
    "Sur la validation croisée :\n",
    "* Le modèle étant également puissant, nous avons la présence d'un overfit entre le train et la validation. On note un recall plus faible que le modèle linéaire mais meilleur que le RandomForest.\n",
    "\n",
    "Sur le classification report :\n",
    "* Modèle faussé par le déséquilibre des données et mérite quelques paramètres pour ajuster les performances."
   ]
  },
  {
   "cell_type": "markdown",
   "metadata": {},
   "source": [
    "### Matrice de confusion pour CatBoost"
   ]
  },
  {
   "cell_type": "code",
   "execution_count": 22,
   "metadata": {},
   "outputs": [
    {
     "data": {
      "image/png": "[encoded data removed]",
      "text/plain": [
       "<Figure size 1200x500 with 2 Axes>"
      ]
     },
     "metadata": {},
     "output_type": "display_data"
    }
   ],
   "source": [
    "fig, axes = plt.subplots(1, 2, figsize=(12, 5))\n",
    "\n",
    "ConfusionMatrixDisplay.from_estimator(pipe, X_train, y_train, ax=axes[0], colorbar=False)\n",
    "axes[0].set_title(\"Confusion Matrix — TRAIN\")\n",
    "\n",
    "ConfusionMatrixDisplay.from_estimator(pipe, X_test, y_test, ax=axes[1], colorbar=False)\n",
    "axes[1].set_title(\"Confusion Matrix — TEST\")\n",
    "\n",
    "plt.tight_layout()\n",
    "plt.show()"
   ]
  },
  {
   "cell_type": "markdown",
   "metadata": {},
   "source": [
    "Sur la matrice de confusion :\n",
    "* La classe 0 est bien gérée (presque 100% de recall).\n",
    "* La classe 1 est détectée mais encore faiblement, on note bien le nombre de TP augmenté mais encore trop faible.\n",
    "* Le modèle est conservateur : très peu de FP, mais beaucoup de FN."
   ]
  },
  {
   "cell_type": "markdown",
   "metadata": {},
   "source": [
    "## Petite conclusion"
   ]
  },
  {
   "cell_type": "markdown",
   "metadata": {},
   "source": [
    "* On analyse facilement que les résultats sont tronqués par le déséquilibre de notre jeu de données. Les différents modèles captent essentiellement seulement les non-départs, ce qui n'est pas étonnant car nous avons une répartition de 84% pour les non-départs.\n",
    "* On note la présence d'overfit pour les modèles de RandomForest et CatBoost\n",
    "* Que ce soit pour le modèle de régression Logistique, de RandomForest/XGBoost et CatBoost, on voit que ces modèles ont un meilleur balanced_accuracy que le modèle étalon, Dummy. Ce qui est rassurant, les modèles font mieux qu'un modèle de base.\n",
    "* Ici l'accuracy n'a pas de pertinence avec notre déséquilibre.\n",
    "\n",
    "* Lors de la prochaine étape nous devrons effectuer des ajustements sur ce déséquilibre afin de capter le plus de Oui possible. Nous allons un peu jouer sur les paramètres afin d'améliorer nos modèles.\n"
   ]
  }
 ],
 "metadata": {
  "kernelspec": {
   "display_name": "Classifiez_automatiquement_des_informations",
   "language": "python",
   "name": "python3"
  },
  "language_info": {
   "codemirror_mode": {
    "name": "ipython",
    "version": 3
   },
   "file_extension": ".py",
   "mimetype": "text/x-python",
   "name": "python",
   "nbconvert_exporter": "python",
   "pygments_lexer": "ipython3",
   "version": "3.12.7"
  }
 },
 "nbformat": 4,
 "nbformat_minor": 2
}
